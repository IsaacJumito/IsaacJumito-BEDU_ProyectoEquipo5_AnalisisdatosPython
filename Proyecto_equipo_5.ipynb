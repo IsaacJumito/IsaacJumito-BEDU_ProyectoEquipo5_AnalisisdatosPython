{
  "nbformat": 4,
  "nbformat_minor": 0,
  "metadata": {
    "colab": {
      "provenance": [],
      "collapsed_sections": [
        "pJZFoI1vJcCy",
        "qJxplWY50Phv",
        "T2_j2uyX0PeQ"
      ],
      "include_colab_link": true
    },
    "kernelspec": {
      "name": "python3",
      "display_name": "Python 3"
    },
    "language_info": {
      "name": "python"
    },
    "gpuClass": "standard"
  },
  "cells": [
    {
      "cell_type": "markdown",
      "metadata": {
        "id": "view-in-github",
        "colab_type": "text"
      },
      "source": [
        "<a href=\"https://colab.research.google.com/github/IsaacJumito/IsaacJumito-BEDU_ProyectoEquipo5_AnalisisdatosPython/blob/main/Proyecto_equipo_5.ipynb\" target=\"_parent\"><img src=\"https://colab.research.google.com/assets/colab-badge.svg\" alt=\"Open In Colab\"/></a>"
      ]
    },
    {
      "cell_type": "markdown",
      "source": [
        "<font size=10 color='Steelblue'><center> Proyecto Equipo 5 </center></font>\n",
        "\n",
        "<font size=4> Integrantes:\n",
        "\n",
        "*   Rodrigo Garmendia Issa\n",
        "*   Jorge Arista\n",
        "*   Isaac Moreno\n",
        "\n",
        "<font size=6> NLP : Clasificación de reseñas de películas"
      ],
      "metadata": {
        "id": "lpGhITeV0PnM"
      }
    },
    {
      "cell_type": "markdown",
      "source": [
        "# <font size=6> Planteamiento del problema\n",
        "\n",
        "<font size= 3> La intención de este proyecto es clasificar las reseñas de películas con una valoración de positivas o negativas. Esta base de datos se obtuvo de la plataforma [Kaggle](https://www.kaggle.com/datasets/lakshmi25npathi/imdb-dataset-of-50k-movie-reviews), dicha base cuenta con un total de 50,000 reseñas de películas extraídas de la página de [IMDB](https://www.imdb.com/). \n",
        "Para llevar a cabo el proyecto se relizaron diversas técnicas de NLP para la visualización y comprensión de los datos, así como el uso de Regresión Logística para realizar la clasificación y se aplicaron de diversas métricas para medir el desempeño del modelo."
      ],
      "metadata": {
        "id": "pJZFoI1vJcCy"
      }
    },
    {
      "cell_type": "markdown",
      "source": [
        "# <font size=6> Exploración de datos\n",
        "<font size=3> Como se mencionó previamente, se trabajó con la base de datos encontrada en Kaggle, el *dataset* se subió en cuatro archivos distintos en el Github de [Rodrigo](https://github.com/ruderikissa/BEDU/tree/main), esto por motivos de limitación de espacio. Posteriormente estos archivos se leyeron y unieron nuevamente en el *Notebook*.\n",
        "\n",
        "Lo primero que se realizó fue importar las bibliotecas requeridas para la exploración y análisis de los datos. Dado que estamos trabajando con archivos de texto, entre estas herramientas se encuentra NLTK para el procesamiento de lenguaje natural."
      ],
      "metadata": {
        "id": "-3lwcNdL0Pi_"
      }
    },
    {
      "cell_type": "code",
      "source": [
        "!pip install nltk\n",
        "import nltk  # herramientas para el análisis de NLP\n",
        "import seaborn as sns \n",
        "from pylab import * # numpy y matplotlib.pyplot\n",
        "import pandas as pd  \n",
        "import re    # análisis de patrones en str\n",
        "nltk.download('punkt')       # lista de palabras vacías\n",
        "nltk.download('stopwords')   # y puntación en inglés"
      ],
      "metadata": {
        "colab": {
          "base_uri": "https://localhost:8080/"
        },
        "id": "UCL9uKHyKjTr",
        "outputId": "bc47dc41-81dc-4349-9ec0-235408bf16d9"
      },
      "execution_count": null,
      "outputs": [
        {
          "output_type": "stream",
          "name": "stdout",
          "text": [
            "Looking in indexes: https://pypi.org/simple, https://us-python.pkg.dev/colab-wheels/public/simple/\n",
            "Requirement already satisfied: nltk in /usr/local/lib/python3.7/dist-packages (3.7)\n",
            "Requirement already satisfied: regex>=2021.8.3 in /usr/local/lib/python3.7/dist-packages (from nltk) (2022.6.2)\n",
            "Requirement already satisfied: click in /usr/local/lib/python3.7/dist-packages (from nltk) (7.1.2)\n",
            "Requirement already satisfied: tqdm in /usr/local/lib/python3.7/dist-packages (from nltk) (4.64.1)\n",
            "Requirement already satisfied: joblib in /usr/local/lib/python3.7/dist-packages (from nltk) (1.2.0)\n"
          ]
        },
        {
          "output_type": "stream",
          "name": "stderr",
          "text": [
            "[nltk_data] Downloading package punkt to /root/nltk_data...\n",
            "[nltk_data]   Package punkt is already up-to-date!\n",
            "[nltk_data] Downloading package stopwords to /root/nltk_data...\n",
            "[nltk_data]   Package stopwords is already up-to-date!\n"
          ]
        },
        {
          "output_type": "execute_result",
          "data": {
            "text/plain": [
              "True"
            ]
          },
          "metadata": {},
          "execution_count": 1
        }
      ]
    },
    {
      "cell_type": "markdown",
      "source": [
        "<font size=3> Se importan y leen los 4 archivos que contienen el *data set* a explorar"
      ],
      "metadata": {
        "id": "dwjlQchdBKhk"
      }
    },
    {
      "cell_type": "code",
      "source": [
        "data1 = pd.read_csv('https://raw.githubusercontent.com/ruderikissa/BEDU/main/neg_rev1', index_col=0)\n",
        "data2 = pd.read_csv('https://raw.githubusercontent.com/ruderikissa/BEDU/main/neg_rev2', index_col=0)\n",
        "data3 = pd.read_csv('https://raw.githubusercontent.com/ruderikissa/BEDU/main/pos_rev1', index_col=0)\n",
        "data4 = pd.read_csv('https://raw.githubusercontent.com/ruderikissa/BEDU/main/pos_rev2', index_col=0)"
      ],
      "metadata": {
        "id": "imnX1-tqzxwQ"
      },
      "execution_count": null,
      "outputs": []
    },
    {
      "cell_type": "markdown",
      "source": [
        "<font size=3> Se unen los archivos y se verifica que se haya realizada correctamente\n",
        "\n",
        "\n",
        "\n"
      ],
      "metadata": {
        "id": "3xLL1RnnBctf"
      }
    },
    {
      "cell_type": "code",
      "source": [
        "data = pd.concat([data1,data2,data3,data4],ignore_index=True)\n",
        "data"
      ],
      "metadata": {
        "colab": {
          "base_uri": "https://localhost:8080/",
          "height": 423
        },
        "id": "9dnmuo4gKi2-",
        "outputId": "82ce9fad-6e01-4ef1-84d3-4c359e1b32c8"
      },
      "execution_count": null,
      "outputs": [
        {
          "output_type": "execute_result",
          "data": {
            "text/plain": [
              "                                                  review sentiment\n",
              "0      Basically there's a family where a little boy ...  negative\n",
              "1      This show was an amazing, fresh & innovative i...  negative\n",
              "2      Encouraged by the positive comments about this...  negative\n",
              "3      Phil the Alien is one of those quirky films wh...  negative\n",
              "4      I saw this movie when I was about 12 when it c...  negative\n",
              "...                                                  ...       ...\n",
              "49995  I loved it, having been a fan of the original ...  positive\n",
              "49996  Imaginary Heroes is clearly the best film of t...  positive\n",
              "49997  I got this one a few weeks ago and love it! It...  positive\n",
              "49998  John Garfield plays a Marine who is blinded by...  positive\n",
              "49999  I thought this movie did a down right good job...  positive\n",
              "\n",
              "[50000 rows x 2 columns]"
            ],
            "text/html": [
              "\n",
              "  <div id=\"df-f601890d-fa4a-43c5-a3cc-d354fc40195d\">\n",
              "    <div class=\"colab-df-container\">\n",
              "      <div>\n",
              "<style scoped>\n",
              "    .dataframe tbody tr th:only-of-type {\n",
              "        vertical-align: middle;\n",
              "    }\n",
              "\n",
              "    .dataframe tbody tr th {\n",
              "        vertical-align: top;\n",
              "    }\n",
              "\n",
              "    .dataframe thead th {\n",
              "        text-align: right;\n",
              "    }\n",
              "</style>\n",
              "<table border=\"1\" class=\"dataframe\">\n",
              "  <thead>\n",
              "    <tr style=\"text-align: right;\">\n",
              "      <th></th>\n",
              "      <th>review</th>\n",
              "      <th>sentiment</th>\n",
              "    </tr>\n",
              "  </thead>\n",
              "  <tbody>\n",
              "    <tr>\n",
              "      <th>0</th>\n",
              "      <td>Basically there's a family where a little boy ...</td>\n",
              "      <td>negative</td>\n",
              "    </tr>\n",
              "    <tr>\n",
              "      <th>1</th>\n",
              "      <td>This show was an amazing, fresh &amp; innovative i...</td>\n",
              "      <td>negative</td>\n",
              "    </tr>\n",
              "    <tr>\n",
              "      <th>2</th>\n",
              "      <td>Encouraged by the positive comments about this...</td>\n",
              "      <td>negative</td>\n",
              "    </tr>\n",
              "    <tr>\n",
              "      <th>3</th>\n",
              "      <td>Phil the Alien is one of those quirky films wh...</td>\n",
              "      <td>negative</td>\n",
              "    </tr>\n",
              "    <tr>\n",
              "      <th>4</th>\n",
              "      <td>I saw this movie when I was about 12 when it c...</td>\n",
              "      <td>negative</td>\n",
              "    </tr>\n",
              "    <tr>\n",
              "      <th>...</th>\n",
              "      <td>...</td>\n",
              "      <td>...</td>\n",
              "    </tr>\n",
              "    <tr>\n",
              "      <th>49995</th>\n",
              "      <td>I loved it, having been a fan of the original ...</td>\n",
              "      <td>positive</td>\n",
              "    </tr>\n",
              "    <tr>\n",
              "      <th>49996</th>\n",
              "      <td>Imaginary Heroes is clearly the best film of t...</td>\n",
              "      <td>positive</td>\n",
              "    </tr>\n",
              "    <tr>\n",
              "      <th>49997</th>\n",
              "      <td>I got this one a few weeks ago and love it! It...</td>\n",
              "      <td>positive</td>\n",
              "    </tr>\n",
              "    <tr>\n",
              "      <th>49998</th>\n",
              "      <td>John Garfield plays a Marine who is blinded by...</td>\n",
              "      <td>positive</td>\n",
              "    </tr>\n",
              "    <tr>\n",
              "      <th>49999</th>\n",
              "      <td>I thought this movie did a down right good job...</td>\n",
              "      <td>positive</td>\n",
              "    </tr>\n",
              "  </tbody>\n",
              "</table>\n",
              "<p>50000 rows × 2 columns</p>\n",
              "</div>\n",
              "      <button class=\"colab-df-convert\" onclick=\"convertToInteractive('df-f601890d-fa4a-43c5-a3cc-d354fc40195d')\"\n",
              "              title=\"Convert this dataframe to an interactive table.\"\n",
              "              style=\"display:none;\">\n",
              "        \n",
              "  <svg xmlns=\"http://www.w3.org/2000/svg\" height=\"24px\"viewBox=\"0 0 24 24\"\n",
              "       width=\"24px\">\n",
              "    <path d=\"M0 0h24v24H0V0z\" fill=\"none\"/>\n",
              "    <path d=\"M18.56 5.44l.94 2.06.94-2.06 2.06-.94-2.06-.94-.94-2.06-.94 2.06-2.06.94zm-11 1L8.5 8.5l.94-2.06 2.06-.94-2.06-.94L8.5 2.5l-.94 2.06-2.06.94zm10 10l.94 2.06.94-2.06 2.06-.94-2.06-.94-.94-2.06-.94 2.06-2.06.94z\"/><path d=\"M17.41 7.96l-1.37-1.37c-.4-.4-.92-.59-1.43-.59-.52 0-1.04.2-1.43.59L10.3 9.45l-7.72 7.72c-.78.78-.78 2.05 0 2.83L4 21.41c.39.39.9.59 1.41.59.51 0 1.02-.2 1.41-.59l7.78-7.78 2.81-2.81c.8-.78.8-2.07 0-2.86zM5.41 20L4 18.59l7.72-7.72 1.47 1.35L5.41 20z\"/>\n",
              "  </svg>\n",
              "      </button>\n",
              "      \n",
              "  <style>\n",
              "    .colab-df-container {\n",
              "      display:flex;\n",
              "      flex-wrap:wrap;\n",
              "      gap: 12px;\n",
              "    }\n",
              "\n",
              "    .colab-df-convert {\n",
              "      background-color: #E8F0FE;\n",
              "      border: none;\n",
              "      border-radius: 50%;\n",
              "      cursor: pointer;\n",
              "      display: none;\n",
              "      fill: #1967D2;\n",
              "      height: 32px;\n",
              "      padding: 0 0 0 0;\n",
              "      width: 32px;\n",
              "    }\n",
              "\n",
              "    .colab-df-convert:hover {\n",
              "      background-color: #E2EBFA;\n",
              "      box-shadow: 0px 1px 2px rgba(60, 64, 67, 0.3), 0px 1px 3px 1px rgba(60, 64, 67, 0.15);\n",
              "      fill: #174EA6;\n",
              "    }\n",
              "\n",
              "    [theme=dark] .colab-df-convert {\n",
              "      background-color: #3B4455;\n",
              "      fill: #D2E3FC;\n",
              "    }\n",
              "\n",
              "    [theme=dark] .colab-df-convert:hover {\n",
              "      background-color: #434B5C;\n",
              "      box-shadow: 0px 1px 3px 1px rgba(0, 0, 0, 0.15);\n",
              "      filter: drop-shadow(0px 1px 2px rgba(0, 0, 0, 0.3));\n",
              "      fill: #FFFFFF;\n",
              "    }\n",
              "  </style>\n",
              "\n",
              "      <script>\n",
              "        const buttonEl =\n",
              "          document.querySelector('#df-f601890d-fa4a-43c5-a3cc-d354fc40195d button.colab-df-convert');\n",
              "        buttonEl.style.display =\n",
              "          google.colab.kernel.accessAllowed ? 'block' : 'none';\n",
              "\n",
              "        async function convertToInteractive(key) {\n",
              "          const element = document.querySelector('#df-f601890d-fa4a-43c5-a3cc-d354fc40195d');\n",
              "          const dataTable =\n",
              "            await google.colab.kernel.invokeFunction('convertToInteractive',\n",
              "                                                     [key], {});\n",
              "          if (!dataTable) return;\n",
              "\n",
              "          const docLinkHtml = 'Like what you see? Visit the ' +\n",
              "            '<a target=\"_blank\" href=https://colab.research.google.com/notebooks/data_table.ipynb>data table notebook</a>'\n",
              "            + ' to learn more about interactive tables.';\n",
              "          element.innerHTML = '';\n",
              "          dataTable['output_type'] = 'display_data';\n",
              "          await google.colab.output.renderOutput(dataTable, element);\n",
              "          const docLink = document.createElement('div');\n",
              "          docLink.innerHTML = docLinkHtml;\n",
              "          element.appendChild(docLink);\n",
              "        }\n",
              "      </script>\n",
              "    </div>\n",
              "  </div>\n",
              "  "
            ]
          },
          "metadata": {},
          "execution_count": 3
        }
      ]
    },
    {
      "cell_type": "code",
      "source": [
        "data.info()"
      ],
      "metadata": {
        "colab": {
          "base_uri": "https://localhost:8080/"
        },
        "id": "Qa8xWnJ0Kzbz",
        "outputId": "e88a8926-9fe3-47a1-d1e5-21e127dffb11"
      },
      "execution_count": null,
      "outputs": [
        {
          "output_type": "stream",
          "name": "stdout",
          "text": [
            "<class 'pandas.core.frame.DataFrame'>\n",
            "RangeIndex: 50000 entries, 0 to 49999\n",
            "Data columns (total 2 columns):\n",
            " #   Column     Non-Null Count  Dtype \n",
            "---  ------     --------------  ----- \n",
            " 0   review     50000 non-null  object\n",
            " 1   sentiment  50000 non-null  object\n",
            "dtypes: object(2)\n",
            "memory usage: 781.4+ KB\n"
          ]
        }
      ]
    },
    {
      "cell_type": "markdown",
      "source": [
        "<font size=3> Notamos que el *data set* únicamente cuenta con dos columnas: la reseña hecha y la valoración positiva o negativa de la misma, ambas columnas de tipo *'object'*\n",
        "\n",
        "\n",
        "Ahora, checamos cuántas reseñas hay de acuerdo a cada sentimiento.\n",
        "\n"
      ],
      "metadata": {
        "id": "M8de1h7RCIDZ"
      }
    },
    {
      "cell_type": "code",
      "source": [
        "data.groupby('sentiment').count()"
      ],
      "metadata": {
        "colab": {
          "base_uri": "https://localhost:8080/",
          "height": 143
        },
        "id": "WqBr4H1mKtoi",
        "outputId": "89d647e3-97e8-43ad-ba89-0775e0859178"
      },
      "execution_count": null,
      "outputs": [
        {
          "output_type": "execute_result",
          "data": {
            "text/plain": [
              "           review\n",
              "sentiment        \n",
              "negative    25000\n",
              "positive    25000"
            ],
            "text/html": [
              "\n",
              "  <div id=\"df-fa92e072-7117-4847-b4ac-f76d88d4e5aa\">\n",
              "    <div class=\"colab-df-container\">\n",
              "      <div>\n",
              "<style scoped>\n",
              "    .dataframe tbody tr th:only-of-type {\n",
              "        vertical-align: middle;\n",
              "    }\n",
              "\n",
              "    .dataframe tbody tr th {\n",
              "        vertical-align: top;\n",
              "    }\n",
              "\n",
              "    .dataframe thead th {\n",
              "        text-align: right;\n",
              "    }\n",
              "</style>\n",
              "<table border=\"1\" class=\"dataframe\">\n",
              "  <thead>\n",
              "    <tr style=\"text-align: right;\">\n",
              "      <th></th>\n",
              "      <th>review</th>\n",
              "    </tr>\n",
              "    <tr>\n",
              "      <th>sentiment</th>\n",
              "      <th></th>\n",
              "    </tr>\n",
              "  </thead>\n",
              "  <tbody>\n",
              "    <tr>\n",
              "      <th>negative</th>\n",
              "      <td>25000</td>\n",
              "    </tr>\n",
              "    <tr>\n",
              "      <th>positive</th>\n",
              "      <td>25000</td>\n",
              "    </tr>\n",
              "  </tbody>\n",
              "</table>\n",
              "</div>\n",
              "      <button class=\"colab-df-convert\" onclick=\"convertToInteractive('df-fa92e072-7117-4847-b4ac-f76d88d4e5aa')\"\n",
              "              title=\"Convert this dataframe to an interactive table.\"\n",
              "              style=\"display:none;\">\n",
              "        \n",
              "  <svg xmlns=\"http://www.w3.org/2000/svg\" height=\"24px\"viewBox=\"0 0 24 24\"\n",
              "       width=\"24px\">\n",
              "    <path d=\"M0 0h24v24H0V0z\" fill=\"none\"/>\n",
              "    <path d=\"M18.56 5.44l.94 2.06.94-2.06 2.06-.94-2.06-.94-.94-2.06-.94 2.06-2.06.94zm-11 1L8.5 8.5l.94-2.06 2.06-.94-2.06-.94L8.5 2.5l-.94 2.06-2.06.94zm10 10l.94 2.06.94-2.06 2.06-.94-2.06-.94-.94-2.06-.94 2.06-2.06.94z\"/><path d=\"M17.41 7.96l-1.37-1.37c-.4-.4-.92-.59-1.43-.59-.52 0-1.04.2-1.43.59L10.3 9.45l-7.72 7.72c-.78.78-.78 2.05 0 2.83L4 21.41c.39.39.9.59 1.41.59.51 0 1.02-.2 1.41-.59l7.78-7.78 2.81-2.81c.8-.78.8-2.07 0-2.86zM5.41 20L4 18.59l7.72-7.72 1.47 1.35L5.41 20z\"/>\n",
              "  </svg>\n",
              "      </button>\n",
              "      \n",
              "  <style>\n",
              "    .colab-df-container {\n",
              "      display:flex;\n",
              "      flex-wrap:wrap;\n",
              "      gap: 12px;\n",
              "    }\n",
              "\n",
              "    .colab-df-convert {\n",
              "      background-color: #E8F0FE;\n",
              "      border: none;\n",
              "      border-radius: 50%;\n",
              "      cursor: pointer;\n",
              "      display: none;\n",
              "      fill: #1967D2;\n",
              "      height: 32px;\n",
              "      padding: 0 0 0 0;\n",
              "      width: 32px;\n",
              "    }\n",
              "\n",
              "    .colab-df-convert:hover {\n",
              "      background-color: #E2EBFA;\n",
              "      box-shadow: 0px 1px 2px rgba(60, 64, 67, 0.3), 0px 1px 3px 1px rgba(60, 64, 67, 0.15);\n",
              "      fill: #174EA6;\n",
              "    }\n",
              "\n",
              "    [theme=dark] .colab-df-convert {\n",
              "      background-color: #3B4455;\n",
              "      fill: #D2E3FC;\n",
              "    }\n",
              "\n",
              "    [theme=dark] .colab-df-convert:hover {\n",
              "      background-color: #434B5C;\n",
              "      box-shadow: 0px 1px 3px 1px rgba(0, 0, 0, 0.15);\n",
              "      filter: drop-shadow(0px 1px 2px rgba(0, 0, 0, 0.3));\n",
              "      fill: #FFFFFF;\n",
              "    }\n",
              "  </style>\n",
              "\n",
              "      <script>\n",
              "        const buttonEl =\n",
              "          document.querySelector('#df-fa92e072-7117-4847-b4ac-f76d88d4e5aa button.colab-df-convert');\n",
              "        buttonEl.style.display =\n",
              "          google.colab.kernel.accessAllowed ? 'block' : 'none';\n",
              "\n",
              "        async function convertToInteractive(key) {\n",
              "          const element = document.querySelector('#df-fa92e072-7117-4847-b4ac-f76d88d4e5aa');\n",
              "          const dataTable =\n",
              "            await google.colab.kernel.invokeFunction('convertToInteractive',\n",
              "                                                     [key], {});\n",
              "          if (!dataTable) return;\n",
              "\n",
              "          const docLinkHtml = 'Like what you see? Visit the ' +\n",
              "            '<a target=\"_blank\" href=https://colab.research.google.com/notebooks/data_table.ipynb>data table notebook</a>'\n",
              "            + ' to learn more about interactive tables.';\n",
              "          element.innerHTML = '';\n",
              "          dataTable['output_type'] = 'display_data';\n",
              "          await google.colab.output.renderOutput(dataTable, element);\n",
              "          const docLink = document.createElement('div');\n",
              "          docLink.innerHTML = docLinkHtml;\n",
              "          element.appendChild(docLink);\n",
              "        }\n",
              "      </script>\n",
              "    </div>\n",
              "  </div>\n",
              "  "
            ]
          },
          "metadata": {},
          "execution_count": 5
        }
      ]
    },
    {
      "cell_type": "markdown",
      "source": [
        "> *Con esto, logramos ver que tenemos una completa igualdad en el número de \n",
        "reseñas tanto negativas como positivas, lo cual nos ayudara en los siguientes pasos*\n",
        "\n"
      ],
      "metadata": {
        "id": "oQcNaccncq7u"
      }
    },
    {
      "cell_type": "markdown",
      "source": [
        "<font size=3> Para hacer una análisis con mayor detalle dividiremos el *data frame* en dos: cada uno conteniendo las reseñas de un tipo de sentimiento. "
      ],
      "metadata": {
        "id": "LXkAHiUZC7Gz"
      }
    },
    {
      "cell_type": "code",
      "source": [
        "# Data frame con las reseñas positivas\n",
        "pos_rev = data.query('sentiment== \"positive\"').reset_index(drop=True)\n",
        "pos_rev"
      ],
      "metadata": {
        "colab": {
          "base_uri": "https://localhost:8080/",
          "height": 423
        },
        "id": "n9uUWWK2KtmC",
        "outputId": "fcdc88d0-0cfd-4d0d-ca98-9304810db14b"
      },
      "execution_count": null,
      "outputs": [
        {
          "output_type": "execute_result",
          "data": {
            "text/plain": [
              "                                                  review sentiment\n",
              "0      One of the other reviewers has mentioned that ...  positive\n",
              "1      A wonderful little production. <br /><br />The...  positive\n",
              "2      I thought this was a wonderful way to spend ti...  positive\n",
              "3      Petter Mattei's \"Love in the Time of Money\" is...  positive\n",
              "4      Probably my all-time favorite movie, a story o...  positive\n",
              "...                                                  ...       ...\n",
              "24995  I loved it, having been a fan of the original ...  positive\n",
              "24996  Imaginary Heroes is clearly the best film of t...  positive\n",
              "24997  I got this one a few weeks ago and love it! It...  positive\n",
              "24998  John Garfield plays a Marine who is blinded by...  positive\n",
              "24999  I thought this movie did a down right good job...  positive\n",
              "\n",
              "[25000 rows x 2 columns]"
            ],
            "text/html": [
              "\n",
              "  <div id=\"df-12b86d8e-9aed-44c9-afae-e83f9e852982\">\n",
              "    <div class=\"colab-df-container\">\n",
              "      <div>\n",
              "<style scoped>\n",
              "    .dataframe tbody tr th:only-of-type {\n",
              "        vertical-align: middle;\n",
              "    }\n",
              "\n",
              "    .dataframe tbody tr th {\n",
              "        vertical-align: top;\n",
              "    }\n",
              "\n",
              "    .dataframe thead th {\n",
              "        text-align: right;\n",
              "    }\n",
              "</style>\n",
              "<table border=\"1\" class=\"dataframe\">\n",
              "  <thead>\n",
              "    <tr style=\"text-align: right;\">\n",
              "      <th></th>\n",
              "      <th>review</th>\n",
              "      <th>sentiment</th>\n",
              "    </tr>\n",
              "  </thead>\n",
              "  <tbody>\n",
              "    <tr>\n",
              "      <th>0</th>\n",
              "      <td>One of the other reviewers has mentioned that ...</td>\n",
              "      <td>positive</td>\n",
              "    </tr>\n",
              "    <tr>\n",
              "      <th>1</th>\n",
              "      <td>A wonderful little production. &lt;br /&gt;&lt;br /&gt;The...</td>\n",
              "      <td>positive</td>\n",
              "    </tr>\n",
              "    <tr>\n",
              "      <th>2</th>\n",
              "      <td>I thought this was a wonderful way to spend ti...</td>\n",
              "      <td>positive</td>\n",
              "    </tr>\n",
              "    <tr>\n",
              "      <th>3</th>\n",
              "      <td>Petter Mattei's \"Love in the Time of Money\" is...</td>\n",
              "      <td>positive</td>\n",
              "    </tr>\n",
              "    <tr>\n",
              "      <th>4</th>\n",
              "      <td>Probably my all-time favorite movie, a story o...</td>\n",
              "      <td>positive</td>\n",
              "    </tr>\n",
              "    <tr>\n",
              "      <th>...</th>\n",
              "      <td>...</td>\n",
              "      <td>...</td>\n",
              "    </tr>\n",
              "    <tr>\n",
              "      <th>24995</th>\n",
              "      <td>I loved it, having been a fan of the original ...</td>\n",
              "      <td>positive</td>\n",
              "    </tr>\n",
              "    <tr>\n",
              "      <th>24996</th>\n",
              "      <td>Imaginary Heroes is clearly the best film of t...</td>\n",
              "      <td>positive</td>\n",
              "    </tr>\n",
              "    <tr>\n",
              "      <th>24997</th>\n",
              "      <td>I got this one a few weeks ago and love it! It...</td>\n",
              "      <td>positive</td>\n",
              "    </tr>\n",
              "    <tr>\n",
              "      <th>24998</th>\n",
              "      <td>John Garfield plays a Marine who is blinded by...</td>\n",
              "      <td>positive</td>\n",
              "    </tr>\n",
              "    <tr>\n",
              "      <th>24999</th>\n",
              "      <td>I thought this movie did a down right good job...</td>\n",
              "      <td>positive</td>\n",
              "    </tr>\n",
              "  </tbody>\n",
              "</table>\n",
              "<p>25000 rows × 2 columns</p>\n",
              "</div>\n",
              "      <button class=\"colab-df-convert\" onclick=\"convertToInteractive('df-12b86d8e-9aed-44c9-afae-e83f9e852982')\"\n",
              "              title=\"Convert this dataframe to an interactive table.\"\n",
              "              style=\"display:none;\">\n",
              "        \n",
              "  <svg xmlns=\"http://www.w3.org/2000/svg\" height=\"24px\"viewBox=\"0 0 24 24\"\n",
              "       width=\"24px\">\n",
              "    <path d=\"M0 0h24v24H0V0z\" fill=\"none\"/>\n",
              "    <path d=\"M18.56 5.44l.94 2.06.94-2.06 2.06-.94-2.06-.94-.94-2.06-.94 2.06-2.06.94zm-11 1L8.5 8.5l.94-2.06 2.06-.94-2.06-.94L8.5 2.5l-.94 2.06-2.06.94zm10 10l.94 2.06.94-2.06 2.06-.94-2.06-.94-.94-2.06-.94 2.06-2.06.94z\"/><path d=\"M17.41 7.96l-1.37-1.37c-.4-.4-.92-.59-1.43-.59-.52 0-1.04.2-1.43.59L10.3 9.45l-7.72 7.72c-.78.78-.78 2.05 0 2.83L4 21.41c.39.39.9.59 1.41.59.51 0 1.02-.2 1.41-.59l7.78-7.78 2.81-2.81c.8-.78.8-2.07 0-2.86zM5.41 20L4 18.59l7.72-7.72 1.47 1.35L5.41 20z\"/>\n",
              "  </svg>\n",
              "      </button>\n",
              "      \n",
              "  <style>\n",
              "    .colab-df-container {\n",
              "      display:flex;\n",
              "      flex-wrap:wrap;\n",
              "      gap: 12px;\n",
              "    }\n",
              "\n",
              "    .colab-df-convert {\n",
              "      background-color: #E8F0FE;\n",
              "      border: none;\n",
              "      border-radius: 50%;\n",
              "      cursor: pointer;\n",
              "      display: none;\n",
              "      fill: #1967D2;\n",
              "      height: 32px;\n",
              "      padding: 0 0 0 0;\n",
              "      width: 32px;\n",
              "    }\n",
              "\n",
              "    .colab-df-convert:hover {\n",
              "      background-color: #E2EBFA;\n",
              "      box-shadow: 0px 1px 2px rgba(60, 64, 67, 0.3), 0px 1px 3px 1px rgba(60, 64, 67, 0.15);\n",
              "      fill: #174EA6;\n",
              "    }\n",
              "\n",
              "    [theme=dark] .colab-df-convert {\n",
              "      background-color: #3B4455;\n",
              "      fill: #D2E3FC;\n",
              "    }\n",
              "\n",
              "    [theme=dark] .colab-df-convert:hover {\n",
              "      background-color: #434B5C;\n",
              "      box-shadow: 0px 1px 3px 1px rgba(0, 0, 0, 0.15);\n",
              "      filter: drop-shadow(0px 1px 2px rgba(0, 0, 0, 0.3));\n",
              "      fill: #FFFFFF;\n",
              "    }\n",
              "  </style>\n",
              "\n",
              "      <script>\n",
              "        const buttonEl =\n",
              "          document.querySelector('#df-12b86d8e-9aed-44c9-afae-e83f9e852982 button.colab-df-convert');\n",
              "        buttonEl.style.display =\n",
              "          google.colab.kernel.accessAllowed ? 'block' : 'none';\n",
              "\n",
              "        async function convertToInteractive(key) {\n",
              "          const element = document.querySelector('#df-12b86d8e-9aed-44c9-afae-e83f9e852982');\n",
              "          const dataTable =\n",
              "            await google.colab.kernel.invokeFunction('convertToInteractive',\n",
              "                                                     [key], {});\n",
              "          if (!dataTable) return;\n",
              "\n",
              "          const docLinkHtml = 'Like what you see? Visit the ' +\n",
              "            '<a target=\"_blank\" href=https://colab.research.google.com/notebooks/data_table.ipynb>data table notebook</a>'\n",
              "            + ' to learn more about interactive tables.';\n",
              "          element.innerHTML = '';\n",
              "          dataTable['output_type'] = 'display_data';\n",
              "          await google.colab.output.renderOutput(dataTable, element);\n",
              "          const docLink = document.createElement('div');\n",
              "          docLink.innerHTML = docLinkHtml;\n",
              "          element.appendChild(docLink);\n",
              "        }\n",
              "      </script>\n",
              "    </div>\n",
              "  </div>\n",
              "  "
            ]
          },
          "metadata": {},
          "execution_count": 6
        }
      ]
    },
    {
      "cell_type": "code",
      "source": [
        "# Data frame con las reseñas negativas \n",
        "neg_rev = data.query('sentiment==\"negative\"').reset_index(drop=True)\n",
        "neg_rev"
      ],
      "metadata": {
        "colab": {
          "base_uri": "https://localhost:8080/",
          "height": 423
        },
        "id": "0z1N1sU8KtjS",
        "outputId": "64c16dad-7d15-4b02-c399-03ec0272145d"
      },
      "execution_count": null,
      "outputs": [
        {
          "output_type": "execute_result",
          "data": {
            "text/plain": [
              "                                                  review sentiment\n",
              "0      Basically there's a family where a little boy ...  negative\n",
              "1      This show was an amazing, fresh & innovative i...  negative\n",
              "2      Encouraged by the positive comments about this...  negative\n",
              "3      Phil the Alien is one of those quirky films wh...  negative\n",
              "4      I saw this movie when I was about 12 when it c...  negative\n",
              "...                                                  ...       ...\n",
              "24995  This is your typical junk comedy.<br /><br />T...  negative\n",
              "24996  Bad plot, bad dialogue, bad acting, idiotic di...  negative\n",
              "24997  I am a Catholic taught in parochial elementary...  negative\n",
              "24998  I'm going to have to disagree with the previou...  negative\n",
              "24999  No one expects the Star Trek movies to be high...  negative\n",
              "\n",
              "[25000 rows x 2 columns]"
            ],
            "text/html": [
              "\n",
              "  <div id=\"df-436c649b-65cf-4273-9110-b28c1e4f5594\">\n",
              "    <div class=\"colab-df-container\">\n",
              "      <div>\n",
              "<style scoped>\n",
              "    .dataframe tbody tr th:only-of-type {\n",
              "        vertical-align: middle;\n",
              "    }\n",
              "\n",
              "    .dataframe tbody tr th {\n",
              "        vertical-align: top;\n",
              "    }\n",
              "\n",
              "    .dataframe thead th {\n",
              "        text-align: right;\n",
              "    }\n",
              "</style>\n",
              "<table border=\"1\" class=\"dataframe\">\n",
              "  <thead>\n",
              "    <tr style=\"text-align: right;\">\n",
              "      <th></th>\n",
              "      <th>review</th>\n",
              "      <th>sentiment</th>\n",
              "    </tr>\n",
              "  </thead>\n",
              "  <tbody>\n",
              "    <tr>\n",
              "      <th>0</th>\n",
              "      <td>Basically there's a family where a little boy ...</td>\n",
              "      <td>negative</td>\n",
              "    </tr>\n",
              "    <tr>\n",
              "      <th>1</th>\n",
              "      <td>This show was an amazing, fresh &amp; innovative i...</td>\n",
              "      <td>negative</td>\n",
              "    </tr>\n",
              "    <tr>\n",
              "      <th>2</th>\n",
              "      <td>Encouraged by the positive comments about this...</td>\n",
              "      <td>negative</td>\n",
              "    </tr>\n",
              "    <tr>\n",
              "      <th>3</th>\n",
              "      <td>Phil the Alien is one of those quirky films wh...</td>\n",
              "      <td>negative</td>\n",
              "    </tr>\n",
              "    <tr>\n",
              "      <th>4</th>\n",
              "      <td>I saw this movie when I was about 12 when it c...</td>\n",
              "      <td>negative</td>\n",
              "    </tr>\n",
              "    <tr>\n",
              "      <th>...</th>\n",
              "      <td>...</td>\n",
              "      <td>...</td>\n",
              "    </tr>\n",
              "    <tr>\n",
              "      <th>24995</th>\n",
              "      <td>This is your typical junk comedy.&lt;br /&gt;&lt;br /&gt;T...</td>\n",
              "      <td>negative</td>\n",
              "    </tr>\n",
              "    <tr>\n",
              "      <th>24996</th>\n",
              "      <td>Bad plot, bad dialogue, bad acting, idiotic di...</td>\n",
              "      <td>negative</td>\n",
              "    </tr>\n",
              "    <tr>\n",
              "      <th>24997</th>\n",
              "      <td>I am a Catholic taught in parochial elementary...</td>\n",
              "      <td>negative</td>\n",
              "    </tr>\n",
              "    <tr>\n",
              "      <th>24998</th>\n",
              "      <td>I'm going to have to disagree with the previou...</td>\n",
              "      <td>negative</td>\n",
              "    </tr>\n",
              "    <tr>\n",
              "      <th>24999</th>\n",
              "      <td>No one expects the Star Trek movies to be high...</td>\n",
              "      <td>negative</td>\n",
              "    </tr>\n",
              "  </tbody>\n",
              "</table>\n",
              "<p>25000 rows × 2 columns</p>\n",
              "</div>\n",
              "      <button class=\"colab-df-convert\" onclick=\"convertToInteractive('df-436c649b-65cf-4273-9110-b28c1e4f5594')\"\n",
              "              title=\"Convert this dataframe to an interactive table.\"\n",
              "              style=\"display:none;\">\n",
              "        \n",
              "  <svg xmlns=\"http://www.w3.org/2000/svg\" height=\"24px\"viewBox=\"0 0 24 24\"\n",
              "       width=\"24px\">\n",
              "    <path d=\"M0 0h24v24H0V0z\" fill=\"none\"/>\n",
              "    <path d=\"M18.56 5.44l.94 2.06.94-2.06 2.06-.94-2.06-.94-.94-2.06-.94 2.06-2.06.94zm-11 1L8.5 8.5l.94-2.06 2.06-.94-2.06-.94L8.5 2.5l-.94 2.06-2.06.94zm10 10l.94 2.06.94-2.06 2.06-.94-2.06-.94-.94-2.06-.94 2.06-2.06.94z\"/><path d=\"M17.41 7.96l-1.37-1.37c-.4-.4-.92-.59-1.43-.59-.52 0-1.04.2-1.43.59L10.3 9.45l-7.72 7.72c-.78.78-.78 2.05 0 2.83L4 21.41c.39.39.9.59 1.41.59.51 0 1.02-.2 1.41-.59l7.78-7.78 2.81-2.81c.8-.78.8-2.07 0-2.86zM5.41 20L4 18.59l7.72-7.72 1.47 1.35L5.41 20z\"/>\n",
              "  </svg>\n",
              "      </button>\n",
              "      \n",
              "  <style>\n",
              "    .colab-df-container {\n",
              "      display:flex;\n",
              "      flex-wrap:wrap;\n",
              "      gap: 12px;\n",
              "    }\n",
              "\n",
              "    .colab-df-convert {\n",
              "      background-color: #E8F0FE;\n",
              "      border: none;\n",
              "      border-radius: 50%;\n",
              "      cursor: pointer;\n",
              "      display: none;\n",
              "      fill: #1967D2;\n",
              "      height: 32px;\n",
              "      padding: 0 0 0 0;\n",
              "      width: 32px;\n",
              "    }\n",
              "\n",
              "    .colab-df-convert:hover {\n",
              "      background-color: #E2EBFA;\n",
              "      box-shadow: 0px 1px 2px rgba(60, 64, 67, 0.3), 0px 1px 3px 1px rgba(60, 64, 67, 0.15);\n",
              "      fill: #174EA6;\n",
              "    }\n",
              "\n",
              "    [theme=dark] .colab-df-convert {\n",
              "      background-color: #3B4455;\n",
              "      fill: #D2E3FC;\n",
              "    }\n",
              "\n",
              "    [theme=dark] .colab-df-convert:hover {\n",
              "      background-color: #434B5C;\n",
              "      box-shadow: 0px 1px 3px 1px rgba(0, 0, 0, 0.15);\n",
              "      filter: drop-shadow(0px 1px 2px rgba(0, 0, 0, 0.3));\n",
              "      fill: #FFFFFF;\n",
              "    }\n",
              "  </style>\n",
              "\n",
              "      <script>\n",
              "        const buttonEl =\n",
              "          document.querySelector('#df-436c649b-65cf-4273-9110-b28c1e4f5594 button.colab-df-convert');\n",
              "        buttonEl.style.display =\n",
              "          google.colab.kernel.accessAllowed ? 'block' : 'none';\n",
              "\n",
              "        async function convertToInteractive(key) {\n",
              "          const element = document.querySelector('#df-436c649b-65cf-4273-9110-b28c1e4f5594');\n",
              "          const dataTable =\n",
              "            await google.colab.kernel.invokeFunction('convertToInteractive',\n",
              "                                                     [key], {});\n",
              "          if (!dataTable) return;\n",
              "\n",
              "          const docLinkHtml = 'Like what you see? Visit the ' +\n",
              "            '<a target=\"_blank\" href=https://colab.research.google.com/notebooks/data_table.ipynb>data table notebook</a>'\n",
              "            + ' to learn more about interactive tables.';\n",
              "          element.innerHTML = '';\n",
              "          dataTable['output_type'] = 'display_data';\n",
              "          await google.colab.output.renderOutput(dataTable, element);\n",
              "          const docLink = document.createElement('div');\n",
              "          docLink.innerHTML = docLinkHtml;\n",
              "          element.appendChild(docLink);\n",
              "        }\n",
              "      </script>\n",
              "    </div>\n",
              "  </div>\n",
              "  "
            ]
          },
          "metadata": {},
          "execution_count": 7
        }
      ]
    },
    {
      "cell_type": "markdown",
      "source": [
        "# <font size=6> Análisis de datos y visualización\n",
        "\n",
        "<font size=3> Una vez explorado el *data set*, procedemos a analizar la información con la que contamos, para ello compararemos las reseñas de acuerdo al sentimiento conforme a la divisón que hicimos previamente.\n",
        "\n",
        "Empezamos explorando la distribución de la cantidad de caracteres por reseña."
      ],
      "metadata": {
        "id": "qJxplWY50Phv"
      }
    },
    {
      "cell_type": "code",
      "source": [
        "# Histograma de cantidad de caracteres para reseñas negativas\n",
        "neg_rev_len = neg_rev.review.apply(lambda x: len(x))\n",
        "neg_rev_len\n",
        "neg_rev_len.hist( ec='w' )\n"
      ],
      "metadata": {
        "colab": {
          "base_uri": "https://localhost:8080/",
          "height": 283
        },
        "id": "XKP9h6idKtg1",
        "outputId": "718b48b5-b7e0-4c57-d54f-32c600cfa26e"
      },
      "execution_count": null,
      "outputs": [
        {
          "output_type": "execute_result",
          "data": {
            "text/plain": [
              "<matplotlib.axes._subplots.AxesSubplot at 0x7f994ecc0c50>"
            ]
          },
          "metadata": {},
          "execution_count": 8
        },
        {
          "output_type": "display_data",
          "data": {
            "text/plain": [
              "<Figure size 432x288 with 1 Axes>"
            ],
            "image/png": "[encoded data removed]"
          },
          "metadata": {
            "needs_background": "light"
          }
        }
      ]
    },
    {
      "cell_type": "code",
      "source": [
        "# Histograma de cantidad de caracteres para reseñas positivas\n",
        "pos_rev_len = pos_rev.review.apply(lambda x: len(x))\n",
        "pos_rev_len.hist(ec='w')"
      ],
      "metadata": {
        "colab": {
          "base_uri": "https://localhost:8080/",
          "height": 283
        },
        "id": "U47VM9s9Ktc4",
        "outputId": "0f018e22-a0aa-4abd-b626-5c25601db248"
      },
      "execution_count": null,
      "outputs": [
        {
          "output_type": "execute_result",
          "data": {
            "text/plain": [
              "<matplotlib.axes._subplots.AxesSubplot at 0x7f994ec0f9d0>"
            ]
          },
          "metadata": {},
          "execution_count": 9
        },
        {
          "output_type": "display_data",
          "data": {
            "text/plain": [
              "<Figure size 432x288 with 1 Axes>"
            ],
            "image/png": "[encoded data removed]"
          },
          "metadata": {
            "needs_background": "light"
          }
        }
      ]
    },
    {
      "cell_type": "markdown",
      "source": [
        "<font size=3> Ahora, vemos la cantidad de palabras por reseña."
      ],
      "metadata": {
        "id": "YdhmY4U_FrCW"
      }
    },
    {
      "cell_type": "code",
      "source": [
        "#Definimos la función contadora d palabras\n",
        "def word_count(review):\n",
        "    words = review.split()\n",
        "    return len(words)\n",
        "# Aplicamos la función a las reseñas negativas y graficamos  \n",
        "neg_rev_words = neg_rev.review.apply(word_count)\n",
        "neg_rev_words.hist(ec='w')\n",
        "plt.title('Reseñas Negativas')\n",
        "plt.ylabel('Palabras')\n",
        "plt.xlabel('# Reseñas')"
      ],
      "metadata": {
        "colab": {
          "base_uri": "https://localhost:8080/",
          "height": 313
        },
        "id": "G5g1lXZFKtX7",
        "outputId": "5ab46f53-7318-4854-9071-d1f216acbda0"
      },
      "execution_count": null,
      "outputs": [
        {
          "output_type": "execute_result",
          "data": {
            "text/plain": [
              "Text(0.5, 0, '# Reseñas')"
            ]
          },
          "metadata": {},
          "execution_count": 10
        },
        {
          "output_type": "display_data",
          "data": {
            "text/plain": [
              "<Figure size 432x288 with 1 Axes>"
            ],
            "image/png": "[encoded data removed]"
          },
          "metadata": {
            "needs_background": "light"
          }
        }
      ]
    },
    {
      "cell_type": "code",
      "source": [
        "# Aplicamos la función a las reseñas positivas y graficamos\n",
        "pos_rev_words = pos_rev.review.apply(word_count)\n",
        "pos_rev_words.hist(ec='w')\n",
        "plt.title('Reseñas Positivas')\n",
        "plt.ylabel('Palabras')\n",
        "plt.xlabel('# Reseñas')"
      ],
      "metadata": {
        "colab": {
          "base_uri": "https://localhost:8080/",
          "height": 313
        },
        "id": "wTPDt83WMGp5",
        "outputId": "8f2c0294-13f1-4cd7-a522-823004509e52"
      },
      "execution_count": null,
      "outputs": [
        {
          "output_type": "execute_result",
          "data": {
            "text/plain": [
              "Text(0.5, 0, '# Reseñas')"
            ]
          },
          "metadata": {},
          "execution_count": 11
        },
        {
          "output_type": "display_data",
          "data": {
            "text/plain": [
              "<Figure size 432x288 with 1 Axes>"
            ],
            "image/png": "[encoded data removed]"
          },
          "metadata": {
            "needs_background": "light"
          }
        }
      ]
    },
    {
      "cell_type": "markdown",
      "source": [
        "\n",
        "\n",
        "> *Con estos histogramas logramos dimensionar el número de palabras que se ocupan en las reseñas*\n",
        "\n"
      ],
      "metadata": {
        "id": "V9C_1hB8nUSV"
      }
    },
    {
      "cell_type": "markdown",
      "source": [
        "<font size=3> Visualizamos un ejemplo por cada sentimiento"
      ],
      "metadata": {
        "id": "etspU0jzGQZE"
      }
    },
    {
      "cell_type": "code",
      "source": [
        "# Reseña negativa\n",
        "neg_example = neg_rev.loc[24994][0]\n",
        "neg_example"
      ],
      "metadata": {
        "id": "uRhHBtl6GPTW",
        "colab": {
          "base_uri": "https://localhost:8080/",
          "height": 110
        },
        "outputId": "17da5709-bd2b-4c1f-fa2c-f10d9bc7cf9f"
      },
      "execution_count": null,
      "outputs": [
        {
          "output_type": "execute_result",
          "data": {
            "text/plain": [
              "\"Robert Colomb has two full-time jobs. He's known throughout the world as a globetrotting TV reporter. Less well-known but equally effortful are his exploits as a full-time philanderer.<br /><br />I saw `Vivre pour Vivre' dubbed in English with the title 'Live for Life.' Some life! Robert seems to always have at least three women in his life: one mistress on her way out, one on her way in, and the cheated wife at home. It helps that Robert is a glib liar. Among his most useful lies are `I'll call you tomorrow' and `My work took longer than planned.' He spends a lot of time and money on planes, trains and hotel rooms for his succession of liaisons. You wonder when this guy will get caught with his pants down.<br /><br />Some may find his life exciting, but I thought it to be tedious. His companions, including his wife, Catherine, are all attractive and desirable women. But his lifestyle is so hectic and he is so deceitful, you wonder if he's enjoying all this.<br /><br />Adding to the tedium is considerable footage that doesn't further the plot. There are extended sections with no dialogue or French-only dialogue. We see documentaries of wars, torture, and troop training interspersed with the live action. When Robert's flight returns from Africa, we wait and wait for the plane to land and taxi to the airport terminal.<br /><br />Annie Girardot is the standout performer in this film. Hers was the most interesting character and she played it to perfection. It was also nice to see Candice Bergen at the beginning of her career. I can't find fault with Yves Montand's performance of what was basically an amoral bum.<br /><br />I enjoyed some of Claude Lelouch's novel techniques. In a hotel room scene, the camera pans around the room as Robert and his mistress argue. We catch sight of them briefly during each pass around the room. In another scene set on a sleeping car of a train, Robert is lying on the upper bunk while his wife is on the lower. Robert is giving his wife some important but distressing news, but we hear only parts of it because of the clatter of the train. I sensed that his wife was also unable to absorb every word due to the shocking nature of the news. I also liked the exciting safari scenes in Africa. The cinematography of those scenes and of those in Amsterdam was superb.<br /><br />I reviewed this movie as part of a project at the Library of Congress. I've named the project FIFTY: 50 Notable Films Forgotten Within 50 Years. As best I can determine, this film, like the other forty-nine I've identified, has not been on video, telecast, or distributed in the U.S. since its original release. In my opinion, it is worthy of being made available again.<br /><br />\""
            ],
            "application/vnd.google.colaboratory.intrinsic+json": {
              "type": "string"
            }
          },
          "metadata": {},
          "execution_count": 12
        }
      ]
    },
    {
      "cell_type": "code",
      "source": [
        "# Reseña positiva \n",
        "pos_example = pos_rev.loc[1][0]\n",
        "pos_example"
      ],
      "metadata": {
        "id": "720GOZcAGPLU",
        "colab": {
          "base_uri": "https://localhost:8080/",
          "height": 110
        },
        "outputId": "a818432f-9ce4-4c95-89ce-22fe615debc9"
      },
      "execution_count": null,
      "outputs": [
        {
          "output_type": "execute_result",
          "data": {
            "text/plain": [
              "'A wonderful little production. <br /><br />The filming technique is very unassuming- very old-time-BBC fashion and gives a comforting, and sometimes discomforting, sense of realism to the entire piece. <br /><br />The actors are extremely well chosen- Michael Sheen not only \"has got all the polari\" but he has all the voices down pat too! You can truly see the seamless editing guided by the references to Williams\\' diary entries, not only is it well worth the watching but it is a terrificly written and performed piece. A masterful production about one of the great master\\'s of comedy and his life. <br /><br />The realism really comes home with the little things: the fantasy of the guard which, rather than use the traditional \\'dream\\' techniques remains solid then disappears. It plays on our knowledge and our senses, particularly with the scenes concerning Orton and Halliwell and the sets (particularly of their flat with Halliwell\\'s murals decorating every surface) are terribly well done.'"
            ],
            "application/vnd.google.colaboratory.intrinsic+json": {
              "type": "string"
            }
          },
          "metadata": {},
          "execution_count": 13
        }
      ]
    },
    {
      "cell_type": "markdown",
      "source": [
        "#  <font size=6> Limpieza de datos"
      ],
      "metadata": {
        "id": "teXUy8y3oDnu"
      }
    },
    {
      "cell_type": "markdown",
      "source": [
        "<font size=3> Notemos que las reseñas tienen varios caracteres que no son palabras ni aportan información relevante como era de esperarse, por lo que se procede a limpiar las reseñas. "
      ],
      "metadata": {
        "id": "IMpVhUeuGpEB"
      }
    },
    {
      "cell_type": "code",
      "source": [
        "# Se define la función de limpieza para las reseñas\n",
        "from nltk.corpus import stopwords\n",
        "def clean_review(review):\n",
        "    # Se transforman en minúsculas todas las letras\n",
        "    review = review.lower()\n",
        "    # Se eliminan los caracteres de html\n",
        "    review = re.sub(r'<.*?>',' ', review)\n",
        "    # Se eliminan las ligas de internet\n",
        "    review = re.sub(r'http[s]?.*',' ',review)\n",
        "    # Se eliminan los dígitos\n",
        "    review = re.sub('\\d',' ',review)\n",
        "    # Se eliminan el resto de caracteres que no sean letras.\n",
        "    review = re.sub('[^\\w]+',' ', review)\n",
        "    # Se eliminan posibles espacios extras\n",
        "    review = review.strip()\n",
        "    return review"
      ],
      "metadata": {
        "id": "yezn2-2iMGl_"
      },
      "execution_count": null,
      "outputs": []
    },
    {
      "cell_type": "markdown",
      "source": [
        "<font size=3> Aplicamos la limpieza a las reseñas. "
      ],
      "metadata": {
        "id": "TZevy6viI0UA"
      }
    },
    {
      "cell_type": "code",
      "source": [
        "neg_rev_clean = neg_rev.review.apply(clean_review)"
      ],
      "metadata": {
        "id": "VuFKKH0Y8ZBJ"
      },
      "execution_count": null,
      "outputs": []
    },
    {
      "cell_type": "code",
      "source": [
        "pos_rev_clean = pos_rev.review.apply(clean_review)"
      ],
      "metadata": {
        "id": "ER7KQyDX9fEH"
      },
      "execution_count": null,
      "outputs": []
    },
    {
      "cell_type": "markdown",
      "source": [
        "<font size=3> Y vemos un ejemplo previo y posterior a la limpieza por cada sentimiento."
      ],
      "metadata": {
        "id": "Uncu79yVI59H"
      }
    },
    {
      "cell_type": "markdown",
      "source": [
        "1.   <font size=3> Reseña negativa sin limpieza:"
      ],
      "metadata": {
        "id": "q7Za9Ju7JU_2"
      }
    },
    {
      "cell_type": "code",
      "source": [
        "neg_example = neg_rev.loc[24994][0]\n",
        "neg_example"
      ],
      "metadata": {
        "colab": {
          "base_uri": "https://localhost:8080/",
          "height": 110
        },
        "id": "fz36kGQgMGXm",
        "outputId": "117d3263-b092-45d3-9579-7d957fe731e9"
      },
      "execution_count": null,
      "outputs": [
        {
          "output_type": "execute_result",
          "data": {
            "text/plain": [
              "\"Robert Colomb has two full-time jobs. He's known throughout the world as a globetrotting TV reporter. Less well-known but equally effortful are his exploits as a full-time philanderer.<br /><br />I saw `Vivre pour Vivre' dubbed in English with the title 'Live for Life.' Some life! Robert seems to always have at least three women in his life: one mistress on her way out, one on her way in, and the cheated wife at home. It helps that Robert is a glib liar. Among his most useful lies are `I'll call you tomorrow' and `My work took longer than planned.' He spends a lot of time and money on planes, trains and hotel rooms for his succession of liaisons. You wonder when this guy will get caught with his pants down.<br /><br />Some may find his life exciting, but I thought it to be tedious. His companions, including his wife, Catherine, are all attractive and desirable women. But his lifestyle is so hectic and he is so deceitful, you wonder if he's enjoying all this.<br /><br />Adding to the tedium is considerable footage that doesn't further the plot. There are extended sections with no dialogue or French-only dialogue. We see documentaries of wars, torture, and troop training interspersed with the live action. When Robert's flight returns from Africa, we wait and wait for the plane to land and taxi to the airport terminal.<br /><br />Annie Girardot is the standout performer in this film. Hers was the most interesting character and she played it to perfection. It was also nice to see Candice Bergen at the beginning of her career. I can't find fault with Yves Montand's performance of what was basically an amoral bum.<br /><br />I enjoyed some of Claude Lelouch's novel techniques. In a hotel room scene, the camera pans around the room as Robert and his mistress argue. We catch sight of them briefly during each pass around the room. In another scene set on a sleeping car of a train, Robert is lying on the upper bunk while his wife is on the lower. Robert is giving his wife some important but distressing news, but we hear only parts of it because of the clatter of the train. I sensed that his wife was also unable to absorb every word due to the shocking nature of the news. I also liked the exciting safari scenes in Africa. The cinematography of those scenes and of those in Amsterdam was superb.<br /><br />I reviewed this movie as part of a project at the Library of Congress. I've named the project FIFTY: 50 Notable Films Forgotten Within 50 Years. As best I can determine, this film, like the other forty-nine I've identified, has not been on video, telecast, or distributed in the U.S. since its original release. In my opinion, it is worthy of being made available again.<br /><br />\""
            ],
            "application/vnd.google.colaboratory.intrinsic+json": {
              "type": "string"
            }
          },
          "metadata": {},
          "execution_count": 17
        }
      ]
    },
    {
      "cell_type": "markdown",
      "source": [
        "2.   <font size=3> Reseña negativa limpia:"
      ],
      "metadata": {
        "id": "6HGRSgBopfT8"
      }
    },
    {
      "cell_type": "code",
      "source": [
        "neg_clean_example = neg_rev_clean[24994]\n",
        "neg_clean_example"
      ],
      "metadata": {
        "colab": {
          "base_uri": "https://localhost:8080/",
          "height": 110
        },
        "id": "8ypTyXL8MGUN",
        "outputId": "5c312696-b2e0-4230-96b6-fbab1f02b0d0"
      },
      "execution_count": null,
      "outputs": [
        {
          "output_type": "execute_result",
          "data": {
            "text/plain": [
              "'robert colomb has two full time jobs he s known throughout the world as a globetrotting tv reporter less well known but equally effortful are his exploits as a full time philanderer i saw vivre pour vivre dubbed in english with the title live for life some life robert seems to always have at least three women in his life one mistress on her way out one on her way in and the cheated wife at home it helps that robert is a glib liar among his most useful lies are i ll call you tomorrow and my work took longer than planned he spends a lot of time and money on planes trains and hotel rooms for his succession of liaisons you wonder when this guy will get caught with his pants down some may find his life exciting but i thought it to be tedious his companions including his wife catherine are all attractive and desirable women but his lifestyle is so hectic and he is so deceitful you wonder if he s enjoying all this adding to the tedium is considerable footage that doesn t further the plot there are extended sections with no dialogue or french only dialogue we see documentaries of wars torture and troop training interspersed with the live action when robert s flight returns from africa we wait and wait for the plane to land and taxi to the airport terminal annie girardot is the standout performer in this film hers was the most interesting character and she played it to perfection it was also nice to see candice bergen at the beginning of her career i can t find fault with yves montand s performance of what was basically an amoral bum i enjoyed some of claude lelouch s novel techniques in a hotel room scene the camera pans around the room as robert and his mistress argue we catch sight of them briefly during each pass around the room in another scene set on a sleeping car of a train robert is lying on the upper bunk while his wife is on the lower robert is giving his wife some important but distressing news but we hear only parts of it because of the clatter of the train i sensed that his wife was also unable to absorb every word due to the shocking nature of the news i also liked the exciting safari scenes in africa the cinematography of those scenes and of those in amsterdam was superb i reviewed this movie as part of a project at the library of congress i ve named the project fifty notable films forgotten within years as best i can determine this film like the other forty nine i ve identified has not been on video telecast or distributed in the u s since its original release in my opinion it is worthy of being made available again'"
            ],
            "application/vnd.google.colaboratory.intrinsic+json": {
              "type": "string"
            }
          },
          "metadata": {},
          "execution_count": 18
        }
      ]
    },
    {
      "cell_type": "markdown",
      "source": [
        "1.   <font size=3> Reseña positiva sin limpieza:"
      ],
      "metadata": {
        "id": "BB_dpqYeJcFp"
      }
    },
    {
      "cell_type": "code",
      "source": [
        "pos_example = pos_rev.loc[1][0]\n",
        "pos_example"
      ],
      "metadata": {
        "colab": {
          "base_uri": "https://localhost:8080/",
          "height": 110
        },
        "id": "3SWSUS4bMGRA",
        "outputId": "d2be904c-333b-4b1c-f313-800d7097970e"
      },
      "execution_count": null,
      "outputs": [
        {
          "output_type": "execute_result",
          "data": {
            "text/plain": [
              "'A wonderful little production. <br /><br />The filming technique is very unassuming- very old-time-BBC fashion and gives a comforting, and sometimes discomforting, sense of realism to the entire piece. <br /><br />The actors are extremely well chosen- Michael Sheen not only \"has got all the polari\" but he has all the voices down pat too! You can truly see the seamless editing guided by the references to Williams\\' diary entries, not only is it well worth the watching but it is a terrificly written and performed piece. A masterful production about one of the great master\\'s of comedy and his life. <br /><br />The realism really comes home with the little things: the fantasy of the guard which, rather than use the traditional \\'dream\\' techniques remains solid then disappears. It plays on our knowledge and our senses, particularly with the scenes concerning Orton and Halliwell and the sets (particularly of their flat with Halliwell\\'s murals decorating every surface) are terribly well done.'"
            ],
            "application/vnd.google.colaboratory.intrinsic+json": {
              "type": "string"
            }
          },
          "metadata": {},
          "execution_count": 19
        }
      ]
    },
    {
      "cell_type": "markdown",
      "source": [
        "2.   <font size=3>Reseña positiva limpia"
      ],
      "metadata": {
        "id": "URXiEgFzpmEn"
      }
    },
    {
      "cell_type": "code",
      "source": [
        "pos_clean_example = pos_rev_clean[1]\n",
        "pos_clean_example"
      ],
      "metadata": {
        "colab": {
          "base_uri": "https://localhost:8080/",
          "height": 91
        },
        "id": "_oe6s2qR7z-4",
        "outputId": "b117afdb-fd76-478e-a6ae-6a1c7da90ffa"
      },
      "execution_count": null,
      "outputs": [
        {
          "output_type": "execute_result",
          "data": {
            "text/plain": [
              "'a wonderful little production the filming technique is very unassuming very old time bbc fashion and gives a comforting and sometimes discomforting sense of realism to the entire piece the actors are extremely well chosen michael sheen not only has got all the polari but he has all the voices down pat too you can truly see the seamless editing guided by the references to williams diary entries not only is it well worth the watching but it is a terrificly written and performed piece a masterful production about one of the great master s of comedy and his life the realism really comes home with the little things the fantasy of the guard which rather than use the traditional dream techniques remains solid then disappears it plays on our knowledge and our senses particularly with the scenes concerning orton and halliwell and the sets particularly of their flat with halliwell s murals decorating every surface are terribly well done'"
            ],
            "application/vnd.google.colaboratory.intrinsic+json": {
              "type": "string"
            }
          },
          "metadata": {},
          "execution_count": 20
        }
      ]
    },
    {
      "cell_type": "markdown",
      "source": [
        "<font size=3> Ya hecha la limpieza, procedemos a 'tokenizar' las reseñas para seguir con nuestro análisis."
      ],
      "metadata": {
        "id": "OryKjVBXJiDU"
      }
    },
    {
      "cell_type": "code",
      "source": [
        "neg_rev_clean = neg_rev_clean.apply(nltk.word_tokenize)\n",
        "pos_rev_clean = pos_rev_clean.apply(nltk.word_tokenize)"
      ],
      "metadata": {
        "id": "cuBWjyoL9XUA"
      },
      "execution_count": null,
      "outputs": []
    },
    {
      "cell_type": "markdown",
      "source": [
        "<font size=3> Creamos un *'corpus'* de palabras que contienen cada tipo de reseña."
      ],
      "metadata": {
        "id": "fKs-WuijJyEh"
      }
    },
    {
      "cell_type": "code",
      "source": [
        "neg_corpus = [words[i] for words in neg_rev_clean for i in range(len(words))]\n",
        "pos_corpus = [words[i] for words in pos_rev_clean for i in range(len(words))]"
      ],
      "metadata": {
        "id": "EEPFZsWPOVP8"
      },
      "execution_count": null,
      "outputs": []
    },
    {
      "cell_type": "markdown",
      "source": [
        "<font size=3> Se crea un diccionario con los frecuencias de cada palabra en los *data frames* y visualizamos cuáles son las más fercuentes para cada sentimiento."
      ],
      "metadata": {
        "id": "e_nQMdGXKCCz"
      }
    },
    {
      "cell_type": "code",
      "source": [
        "# Diccionario de frecuencias\n",
        "neg_freq_dist = nltk.FreqDist(neg_corpus)\n",
        "pos_freq_dist = nltk.FreqDist(pos_corpus)"
      ],
      "metadata": {
        "id": "5OTi1LyYOU5u"
      },
      "execution_count": null,
      "outputs": []
    },
    {
      "cell_type": "code",
      "source": [
        "# Las 30 más comunes de cada data frame\n",
        "neg_30_most_common = np.array(list(map(lambda x: list(x), neg_freq_dist.most_common(30))))\n",
        "pos_30_most_common = np.array(list(map(lambda x: list(x), pos_freq_dist.most_common(30))))"
      ],
      "metadata": {
        "id": "ffVypyFIOU1W"
      },
      "execution_count": null,
      "outputs": []
    },
    {
      "cell_type": "code",
      "source": [
        "fig = plt.Figure(figsize=(12,8))\n",
        "#axes = fig.subplots(nrows=2, ncols=2)\n",
        "#sns.barplot(x=neg_30_most_common[:,0], y=neg_30_most_common[:,1].astype('int'), ax= axes[0,0])\n",
        "sns.barplot(x=pos_30_most_common[:,0], y=pos_30_most_common[:,1].astype('int'))\n",
        "plt.title('Palabras Comunes')\n",
        "plt.ylabel('# Ocurrencias')\n",
        "plt.xlabel('Palabras')"
      ],
      "metadata": {
        "colab": {
          "base_uri": "https://localhost:8080/",
          "height": 313
        },
        "id": "SROBO-oKOUyQ",
        "outputId": "479c3da9-b783-4bc9-b656-014914a2dff0"
      },
      "execution_count": null,
      "outputs": [
        {
          "output_type": "execute_result",
          "data": {
            "text/plain": [
              "Text(0.5, 0, 'Palabras')"
            ]
          },
          "metadata": {},
          "execution_count": 25
        },
        {
          "output_type": "display_data",
          "data": {
            "text/plain": [
              "<Figure size 432x288 with 1 Axes>"
            ],
            "image/png": "[encoded data removed]"
          },
          "metadata": {
            "needs_background": "light"
          }
        }
      ]
    },
    {
      "cell_type": "markdown",
      "source": [
        "<font size=3> Visualizamos la distribución de longitudes de todas las palabras."
      ],
      "metadata": {
        "id": "W7K06YcjgAbs"
      }
    },
    {
      "cell_type": "code",
      "source": [
        "neg_word_length = [len(word) for word in neg_corpus]\n",
        "pos_word_length = [len(word) for word in pos_corpus]\n",
        "#sns.displot(neg_word_length, kde=False)\n",
        "sns.histplot(x=pos_word_length, kde=False)\n",
        "plt.title('Longitudes')\n",
        "plt.xlabel('Longitud')"
      ],
      "metadata": {
        "colab": {
          "base_uri": "https://localhost:8080/",
          "height": 313
        },
        "id": "5Rh554cjP5UF",
        "outputId": "b8e9da9a-2c96-440c-a1a7-f6f841a2bc92"
      },
      "execution_count": null,
      "outputs": [
        {
          "output_type": "execute_result",
          "data": {
            "text/plain": [
              "Text(0.5, 0, 'Longitud')"
            ]
          },
          "metadata": {},
          "execution_count": 26
        },
        {
          "output_type": "display_data",
          "data": {
            "text/plain": [
              "<Figure size 432x288 with 1 Axes>"
            ],
            "image/png": "[encoded data removed]"
          },
          "metadata": {
            "needs_background": "light"
          }
        }
      ]
    },
    {
      "cell_type": "markdown",
      "source": [
        "<font size=3> Como era de esperarse las palabras más frecuentes son palabras vacías, es decir sirven como conectores sintácticos pero no aportan información, por lo que procedemos a eliminarlas."
      ],
      "metadata": {
        "id": "X5oe-68AgIxZ"
      }
    },
    {
      "cell_type": "code",
      "source": [
        "stopwords = stopwords.words('english') #Palabras vacías en inglés\n",
        "neg_corpus_clean = [word for word in neg_corpus if word not in stopwords] \n",
        "pos_corpus_clean = [word for word in pos_corpus if word not in stopwords]"
      ],
      "metadata": {
        "id": "-fprOPw1P5Rf"
      },
      "execution_count": null,
      "outputs": []
    },
    {
      "cell_type": "markdown",
      "source": [
        "<font size=3> Creamos nuevamente el diccionario de frecuencias sin las palabras vacías y visualizamos."
      ],
      "metadata": {
        "id": "l1WrP48xgmQU"
      }
    },
    {
      "cell_type": "code",
      "source": [
        "neg_freq_dist = nltk.FreqDist(neg_corpus_clean)\n",
        "pos_freq_dist = nltk.FreqDist(pos_corpus_clean)"
      ],
      "metadata": {
        "id": "OtVDdxROP5Kc"
      },
      "execution_count": null,
      "outputs": []
    },
    {
      "cell_type": "code",
      "source": [
        "neg_30_most_common = np.array(list(map(lambda x: list(x), neg_freq_dist.most_common(30))))\n",
        "pos_30_most_common = np.array(list(map(lambda x: list(x), pos_freq_dist.most_common(30))))"
      ],
      "metadata": {
        "id": "1a2gctIDP5IU"
      },
      "execution_count": null,
      "outputs": []
    },
    {
      "cell_type": "code",
      "source": [
        "fig = plt.Figure(figsize=(12,8))\n",
        "#axes = fig.subplots(nrows=2, ncols=2)\n",
        "sns.barplot(x=neg_30_most_common[:,1].astype('int'), y=neg_30_most_common[:,0])\n",
        "plt.title('Palabras Comunes')\n",
        "plt.xlabel('# Ocurrencias')\n",
        "plt.ylabel('Palabra')\n",
        "#sns.barplot(x=pos_30_most_common[:,0], y=pos_30_most_common[:,1].astype('int'))"
      ],
      "metadata": {
        "colab": {
          "base_uri": "https://localhost:8080/",
          "height": 313
        },
        "id": "bj-CxpaHP4xs",
        "outputId": "0fd5971e-739f-4622-ef65-e0e05e71f3a4"
      },
      "execution_count": null,
      "outputs": [
        {
          "output_type": "execute_result",
          "data": {
            "text/plain": [
              "Text(0, 0.5, 'Palabra')"
            ]
          },
          "metadata": {},
          "execution_count": 30
        },
        {
          "output_type": "display_data",
          "data": {
            "text/plain": [
              "<Figure size 432x288 with 1 Axes>"
            ],
            "image/png": "[encoded data removed]"
          },
          "metadata": {
            "needs_background": "light"
          }
        }
      ]
    },
    {
      "cell_type": "markdown",
      "source": [
        "<font size=3> También veamos la distribución de la longitud de palabras de estos nuevos *'corpus'.*"
      ],
      "metadata": {
        "id": "kJeMN7LGgwcx"
      }
    },
    {
      "cell_type": "code",
      "source": [
        "neg_word_length = pd.Series([len(word) for word in neg_corpus_clean])\n",
        "pos_word_length = pd.Series([len(word) for word in pos_corpus_clean])"
      ],
      "metadata": {
        "id": "BckOfaJ-P4uH"
      },
      "execution_count": null,
      "outputs": []
    },
    {
      "cell_type": "code",
      "source": [
        "sns.histplot(x=neg_word_length)"
      ],
      "metadata": {
        "colab": {
          "base_uri": "https://localhost:8080/",
          "height": 283
        },
        "id": "bjt5XgVbQLFk",
        "outputId": "4e28c22a-b287-475b-893b-18f4915adabd"
      },
      "execution_count": null,
      "outputs": [
        {
          "output_type": "execute_result",
          "data": {
            "text/plain": [
              "<matplotlib.axes._subplots.AxesSubplot at 0x7f99219ed990>"
            ]
          },
          "metadata": {},
          "execution_count": 32
        },
        {
          "output_type": "display_data",
          "data": {
            "text/plain": [
              "<Figure size 432x288 with 1 Axes>"
            ],
            "image/png": "[encoded data removed]"
          },
          "metadata": {
            "needs_background": "light"
          }
        }
      ]
    },
    {
      "cell_type": "markdown",
      "source": [
        "\n",
        "\n",
        "> Despues de la limpieza y creación de nuestro diccionarios podemos observar que las palabras mas usadas, son las que referencian a la Pelicula \n",
        "\n"
      ],
      "metadata": {
        "id": "8xtMFZkEwbRo"
      }
    },
    {
      "cell_type": "markdown",
      "source": [
        "# <font size=6> Preprocesamiento\n",
        "\n",
        "<font size=3> Una ves visualizado los textos y visto el comportamiento de los datos de acuerdo a cada clasificación, nos proponemos a preparar los datos para entrenar el modelo.\n",
        "\n",
        "Empezamos creando una nueva columna donde se almacenaran los datos ya preparados. Lo primero que hacemos es aplicar la función *clean_review* definida previamente.\n",
        "\n"
      ],
      "metadata": {
        "id": "T2_j2uyX0PeQ"
      }
    },
    {
      "cell_type": "code",
      "source": [
        "pos_rev['review_clean'] = pos_rev.review.apply(clean_review)\n",
        "pos_rev.head()"
      ],
      "metadata": {
        "colab": {
          "base_uri": "https://localhost:8080/",
          "height": 206
        },
        "id": "SENFSk7AQLCu",
        "outputId": "451e232f-bfba-4562-91a9-4e87356b10d1"
      },
      "execution_count": null,
      "outputs": [
        {
          "output_type": "execute_result",
          "data": {
            "text/plain": [
              "                                              review sentiment  \\\n",
              "0  One of the other reviewers has mentioned that ...  positive   \n",
              "1  A wonderful little production. <br /><br />The...  positive   \n",
              "2  I thought this was a wonderful way to spend ti...  positive   \n",
              "3  Petter Mattei's \"Love in the Time of Money\" is...  positive   \n",
              "4  Probably my all-time favorite movie, a story o...  positive   \n",
              "\n",
              "                                        review_clean  \n",
              "0  one of the other reviewers has mentioned that ...  \n",
              "1  a wonderful little production the filming tech...  \n",
              "2  i thought this was a wonderful way to spend ti...  \n",
              "3  petter mattei s love in the time of money is a...  \n",
              "4  probably my all time favorite movie a story of...  "
            ],
            "text/html": [
              "\n",
              "  <div id=\"df-d4bdcd54-d280-44c0-b347-a9d0e459d766\">\n",
              "    <div class=\"colab-df-container\">\n",
              "      <div>\n",
              "<style scoped>\n",
              "    .dataframe tbody tr th:only-of-type {\n",
              "        vertical-align: middle;\n",
              "    }\n",
              "\n",
              "    .dataframe tbody tr th {\n",
              "        vertical-align: top;\n",
              "    }\n",
              "\n",
              "    .dataframe thead th {\n",
              "        text-align: right;\n",
              "    }\n",
              "</style>\n",
              "<table border=\"1\" class=\"dataframe\">\n",
              "  <thead>\n",
              "    <tr style=\"text-align: right;\">\n",
              "      <th></th>\n",
              "      <th>review</th>\n",
              "      <th>sentiment</th>\n",
              "      <th>review_clean</th>\n",
              "    </tr>\n",
              "  </thead>\n",
              "  <tbody>\n",
              "    <tr>\n",
              "      <th>0</th>\n",
              "      <td>One of the other reviewers has mentioned that ...</td>\n",
              "      <td>positive</td>\n",
              "      <td>one of the other reviewers has mentioned that ...</td>\n",
              "    </tr>\n",
              "    <tr>\n",
              "      <th>1</th>\n",
              "      <td>A wonderful little production. &lt;br /&gt;&lt;br /&gt;The...</td>\n",
              "      <td>positive</td>\n",
              "      <td>a wonderful little production the filming tech...</td>\n",
              "    </tr>\n",
              "    <tr>\n",
              "      <th>2</th>\n",
              "      <td>I thought this was a wonderful way to spend ti...</td>\n",
              "      <td>positive</td>\n",
              "      <td>i thought this was a wonderful way to spend ti...</td>\n",
              "    </tr>\n",
              "    <tr>\n",
              "      <th>3</th>\n",
              "      <td>Petter Mattei's \"Love in the Time of Money\" is...</td>\n",
              "      <td>positive</td>\n",
              "      <td>petter mattei s love in the time of money is a...</td>\n",
              "    </tr>\n",
              "    <tr>\n",
              "      <th>4</th>\n",
              "      <td>Probably my all-time favorite movie, a story o...</td>\n",
              "      <td>positive</td>\n",
              "      <td>probably my all time favorite movie a story of...</td>\n",
              "    </tr>\n",
              "  </tbody>\n",
              "</table>\n",
              "</div>\n",
              "      <button class=\"colab-df-convert\" onclick=\"convertToInteractive('df-d4bdcd54-d280-44c0-b347-a9d0e459d766')\"\n",
              "              title=\"Convert this dataframe to an interactive table.\"\n",
              "              style=\"display:none;\">\n",
              "        \n",
              "  <svg xmlns=\"http://www.w3.org/2000/svg\" height=\"24px\"viewBox=\"0 0 24 24\"\n",
              "       width=\"24px\">\n",
              "    <path d=\"M0 0h24v24H0V0z\" fill=\"none\"/>\n",
              "    <path d=\"M18.56 5.44l.94 2.06.94-2.06 2.06-.94-2.06-.94-.94-2.06-.94 2.06-2.06.94zm-11 1L8.5 8.5l.94-2.06 2.06-.94-2.06-.94L8.5 2.5l-.94 2.06-2.06.94zm10 10l.94 2.06.94-2.06 2.06-.94-2.06-.94-.94-2.06-.94 2.06-2.06.94z\"/><path d=\"M17.41 7.96l-1.37-1.37c-.4-.4-.92-.59-1.43-.59-.52 0-1.04.2-1.43.59L10.3 9.45l-7.72 7.72c-.78.78-.78 2.05 0 2.83L4 21.41c.39.39.9.59 1.41.59.51 0 1.02-.2 1.41-.59l7.78-7.78 2.81-2.81c.8-.78.8-2.07 0-2.86zM5.41 20L4 18.59l7.72-7.72 1.47 1.35L5.41 20z\"/>\n",
              "  </svg>\n",
              "      </button>\n",
              "      \n",
              "  <style>\n",
              "    .colab-df-container {\n",
              "      display:flex;\n",
              "      flex-wrap:wrap;\n",
              "      gap: 12px;\n",
              "    }\n",
              "\n",
              "    .colab-df-convert {\n",
              "      background-color: #E8F0FE;\n",
              "      border: none;\n",
              "      border-radius: 50%;\n",
              "      cursor: pointer;\n",
              "      display: none;\n",
              "      fill: #1967D2;\n",
              "      height: 32px;\n",
              "      padding: 0 0 0 0;\n",
              "      width: 32px;\n",
              "    }\n",
              "\n",
              "    .colab-df-convert:hover {\n",
              "      background-color: #E2EBFA;\n",
              "      box-shadow: 0px 1px 2px rgba(60, 64, 67, 0.3), 0px 1px 3px 1px rgba(60, 64, 67, 0.15);\n",
              "      fill: #174EA6;\n",
              "    }\n",
              "\n",
              "    [theme=dark] .colab-df-convert {\n",
              "      background-color: #3B4455;\n",
              "      fill: #D2E3FC;\n",
              "    }\n",
              "\n",
              "    [theme=dark] .colab-df-convert:hover {\n",
              "      background-color: #434B5C;\n",
              "      box-shadow: 0px 1px 3px 1px rgba(0, 0, 0, 0.15);\n",
              "      filter: drop-shadow(0px 1px 2px rgba(0, 0, 0, 0.3));\n",
              "      fill: #FFFFFF;\n",
              "    }\n",
              "  </style>\n",
              "\n",
              "      <script>\n",
              "        const buttonEl =\n",
              "          document.querySelector('#df-d4bdcd54-d280-44c0-b347-a9d0e459d766 button.colab-df-convert');\n",
              "        buttonEl.style.display =\n",
              "          google.colab.kernel.accessAllowed ? 'block' : 'none';\n",
              "\n",
              "        async function convertToInteractive(key) {\n",
              "          const element = document.querySelector('#df-d4bdcd54-d280-44c0-b347-a9d0e459d766');\n",
              "          const dataTable =\n",
              "            await google.colab.kernel.invokeFunction('convertToInteractive',\n",
              "                                                     [key], {});\n",
              "          if (!dataTable) return;\n",
              "\n",
              "          const docLinkHtml = 'Like what you see? Visit the ' +\n",
              "            '<a target=\"_blank\" href=https://colab.research.google.com/notebooks/data_table.ipynb>data table notebook</a>'\n",
              "            + ' to learn more about interactive tables.';\n",
              "          element.innerHTML = '';\n",
              "          dataTable['output_type'] = 'display_data';\n",
              "          await google.colab.output.renderOutput(dataTable, element);\n",
              "          const docLink = document.createElement('div');\n",
              "          docLink.innerHTML = docLinkHtml;\n",
              "          element.appendChild(docLink);\n",
              "        }\n",
              "      </script>\n",
              "    </div>\n",
              "  </div>\n",
              "  "
            ]
          },
          "metadata": {},
          "execution_count": 33
        }
      ]
    },
    {
      "cell_type": "code",
      "source": [
        "neg_rev['review_clean'] = neg_rev.review.apply(clean_review)\n",
        "neg_rev.head()"
      ],
      "metadata": {
        "colab": {
          "base_uri": "https://localhost:8080/",
          "height": 206
        },
        "id": "CE_Yw9J-QLAZ",
        "outputId": "912f45e5-fa08-410b-87e0-b68cf8250bbc"
      },
      "execution_count": null,
      "outputs": [
        {
          "output_type": "execute_result",
          "data": {
            "text/plain": [
              "                                              review sentiment  \\\n",
              "0  Basically there's a family where a little boy ...  negative   \n",
              "1  This show was an amazing, fresh & innovative i...  negative   \n",
              "2  Encouraged by the positive comments about this...  negative   \n",
              "3  Phil the Alien is one of those quirky films wh...  negative   \n",
              "4  I saw this movie when I was about 12 when it c...  negative   \n",
              "\n",
              "                                        review_clean  \n",
              "0  basically there s a family where a little boy ...  \n",
              "1  this show was an amazing fresh innovative idea...  \n",
              "2  encouraged by the positive comments about this...  \n",
              "3  phil the alien is one of those quirky films wh...  \n",
              "4  i saw this movie when i was about when it came...  "
            ],
            "text/html": [
              "\n",
              "  <div id=\"df-e9fff122-93c8-4467-923a-056760878ead\">\n",
              "    <div class=\"colab-df-container\">\n",
              "      <div>\n",
              "<style scoped>\n",
              "    .dataframe tbody tr th:only-of-type {\n",
              "        vertical-align: middle;\n",
              "    }\n",
              "\n",
              "    .dataframe tbody tr th {\n",
              "        vertical-align: top;\n",
              "    }\n",
              "\n",
              "    .dataframe thead th {\n",
              "        text-align: right;\n",
              "    }\n",
              "</style>\n",
              "<table border=\"1\" class=\"dataframe\">\n",
              "  <thead>\n",
              "    <tr style=\"text-align: right;\">\n",
              "      <th></th>\n",
              "      <th>review</th>\n",
              "      <th>sentiment</th>\n",
              "      <th>review_clean</th>\n",
              "    </tr>\n",
              "  </thead>\n",
              "  <tbody>\n",
              "    <tr>\n",
              "      <th>0</th>\n",
              "      <td>Basically there's a family where a little boy ...</td>\n",
              "      <td>negative</td>\n",
              "      <td>basically there s a family where a little boy ...</td>\n",
              "    </tr>\n",
              "    <tr>\n",
              "      <th>1</th>\n",
              "      <td>This show was an amazing, fresh &amp; innovative i...</td>\n",
              "      <td>negative</td>\n",
              "      <td>this show was an amazing fresh innovative idea...</td>\n",
              "    </tr>\n",
              "    <tr>\n",
              "      <th>2</th>\n",
              "      <td>Encouraged by the positive comments about this...</td>\n",
              "      <td>negative</td>\n",
              "      <td>encouraged by the positive comments about this...</td>\n",
              "    </tr>\n",
              "    <tr>\n",
              "      <th>3</th>\n",
              "      <td>Phil the Alien is one of those quirky films wh...</td>\n",
              "      <td>negative</td>\n",
              "      <td>phil the alien is one of those quirky films wh...</td>\n",
              "    </tr>\n",
              "    <tr>\n",
              "      <th>4</th>\n",
              "      <td>I saw this movie when I was about 12 when it c...</td>\n",
              "      <td>negative</td>\n",
              "      <td>i saw this movie when i was about when it came...</td>\n",
              "    </tr>\n",
              "  </tbody>\n",
              "</table>\n",
              "</div>\n",
              "      <button class=\"colab-df-convert\" onclick=\"convertToInteractive('df-e9fff122-93c8-4467-923a-056760878ead')\"\n",
              "              title=\"Convert this dataframe to an interactive table.\"\n",
              "              style=\"display:none;\">\n",
              "        \n",
              "  <svg xmlns=\"http://www.w3.org/2000/svg\" height=\"24px\"viewBox=\"0 0 24 24\"\n",
              "       width=\"24px\">\n",
              "    <path d=\"M0 0h24v24H0V0z\" fill=\"none\"/>\n",
              "    <path d=\"M18.56 5.44l.94 2.06.94-2.06 2.06-.94-2.06-.94-.94-2.06-.94 2.06-2.06.94zm-11 1L8.5 8.5l.94-2.06 2.06-.94-2.06-.94L8.5 2.5l-.94 2.06-2.06.94zm10 10l.94 2.06.94-2.06 2.06-.94-2.06-.94-.94-2.06-.94 2.06-2.06.94z\"/><path d=\"M17.41 7.96l-1.37-1.37c-.4-.4-.92-.59-1.43-.59-.52 0-1.04.2-1.43.59L10.3 9.45l-7.72 7.72c-.78.78-.78 2.05 0 2.83L4 21.41c.39.39.9.59 1.41.59.51 0 1.02-.2 1.41-.59l7.78-7.78 2.81-2.81c.8-.78.8-2.07 0-2.86zM5.41 20L4 18.59l7.72-7.72 1.47 1.35L5.41 20z\"/>\n",
              "  </svg>\n",
              "      </button>\n",
              "      \n",
              "  <style>\n",
              "    .colab-df-container {\n",
              "      display:flex;\n",
              "      flex-wrap:wrap;\n",
              "      gap: 12px;\n",
              "    }\n",
              "\n",
              "    .colab-df-convert {\n",
              "      background-color: #E8F0FE;\n",
              "      border: none;\n",
              "      border-radius: 50%;\n",
              "      cursor: pointer;\n",
              "      display: none;\n",
              "      fill: #1967D2;\n",
              "      height: 32px;\n",
              "      padding: 0 0 0 0;\n",
              "      width: 32px;\n",
              "    }\n",
              "\n",
              "    .colab-df-convert:hover {\n",
              "      background-color: #E2EBFA;\n",
              "      box-shadow: 0px 1px 2px rgba(60, 64, 67, 0.3), 0px 1px 3px 1px rgba(60, 64, 67, 0.15);\n",
              "      fill: #174EA6;\n",
              "    }\n",
              "\n",
              "    [theme=dark] .colab-df-convert {\n",
              "      background-color: #3B4455;\n",
              "      fill: #D2E3FC;\n",
              "    }\n",
              "\n",
              "    [theme=dark] .colab-df-convert:hover {\n",
              "      background-color: #434B5C;\n",
              "      box-shadow: 0px 1px 3px 1px rgba(0, 0, 0, 0.15);\n",
              "      filter: drop-shadow(0px 1px 2px rgba(0, 0, 0, 0.3));\n",
              "      fill: #FFFFFF;\n",
              "    }\n",
              "  </style>\n",
              "\n",
              "      <script>\n",
              "        const buttonEl =\n",
              "          document.querySelector('#df-e9fff122-93c8-4467-923a-056760878ead button.colab-df-convert');\n",
              "        buttonEl.style.display =\n",
              "          google.colab.kernel.accessAllowed ? 'block' : 'none';\n",
              "\n",
              "        async function convertToInteractive(key) {\n",
              "          const element = document.querySelector('#df-e9fff122-93c8-4467-923a-056760878ead');\n",
              "          const dataTable =\n",
              "            await google.colab.kernel.invokeFunction('convertToInteractive',\n",
              "                                                     [key], {});\n",
              "          if (!dataTable) return;\n",
              "\n",
              "          const docLinkHtml = 'Like what you see? Visit the ' +\n",
              "            '<a target=\"_blank\" href=https://colab.research.google.com/notebooks/data_table.ipynb>data table notebook</a>'\n",
              "            + ' to learn more about interactive tables.';\n",
              "          element.innerHTML = '';\n",
              "          dataTable['output_type'] = 'display_data';\n",
              "          await google.colab.output.renderOutput(dataTable, element);\n",
              "          const docLink = document.createElement('div');\n",
              "          docLink.innerHTML = docLinkHtml;\n",
              "          element.appendChild(docLink);\n",
              "        }\n",
              "      </script>\n",
              "    </div>\n",
              "  </div>\n",
              "  "
            ]
          },
          "metadata": {},
          "execution_count": 34
        }
      ]
    },
    {
      "cell_type": "markdown",
      "source": [
        "<font size=3> Procedemos a 'tokenizar' los textos."
      ],
      "metadata": {
        "id": "RYVDoiXchycJ"
      }
    },
    {
      "cell_type": "code",
      "source": [
        "pos_rev['review_clean'] = pos_rev.review_clean.apply(nltk.word_tokenize)\n",
        "neg_rev['review_clean'] = neg_rev.review_clean.apply(nltk.word_tokenize)"
      ],
      "metadata": {
        "id": "xfUN2P_KFWim"
      },
      "execution_count": null,
      "outputs": []
    },
    {
      "cell_type": "markdown",
      "source": [
        "<font size=3> Luego, 'estematizamos' las palabras, es decir, reducimos a su raíz las palabras que tienen un origen común. "
      ],
      "metadata": {
        "id": "JoY4I0AMh9_l"
      }
    },
    {
      "cell_type": "code",
      "source": [
        "stemmer = nltk.PorterStemmer()\n",
        "def more_cleaning(review):\n",
        "  stemmer = nltk.PorterStemmer()\n",
        "  words = [stemmer.stem(word) for word in review if word not in stopwords]\n",
        "  return words\n"
      ],
      "metadata": {
        "id": "Jom5ZrTVFWNV"
      },
      "execution_count": null,
      "outputs": []
    },
    {
      "cell_type": "code",
      "source": [
        "pos_rev['review_clean'] = pos_rev.review_clean.apply(more_cleaning)\n",
        "neg_rev['review_clean'] = neg_rev.review_clean.apply(more_cleaning)\n",
        "\n"
      ],
      "metadata": {
        "id": "JrtK1kePNH_H"
      },
      "execution_count": null,
      "outputs": []
    },
    {
      "cell_type": "markdown",
      "source": [
        "<font size=3> Ahora, nos enfocamos en codificar numéricamente los sentimientos, asignamos el valor de 0 para los negativos y de 1 a los positivos."
      ],
      "metadata": {
        "id": "150N-_KRij62"
      }
    },
    {
      "cell_type": "code",
      "source": [
        "neg_rev['sentiment_encoded'] = [0 for _ in range(25000)]\n",
        "pos_rev['sentiment_encoded'] = [1 for _ in range(25000)]"
      ],
      "metadata": {
        "id": "efgHIf11ifky"
      },
      "execution_count": null,
      "outputs": []
    },
    {
      "cell_type": "code",
      "source": [
        "neg_rev.head()"
      ],
      "metadata": {
        "id": "2_4MAzdZFWH2",
        "colab": {
          "base_uri": "https://localhost:8080/",
          "height": 206
        },
        "outputId": "30a64425-feea-4c9c-ef6f-5e5dab068bb4"
      },
      "execution_count": null,
      "outputs": [
        {
          "output_type": "execute_result",
          "data": {
            "text/plain": [
              "                                              review sentiment  \\\n",
              "0  Basically there's a family where a little boy ...  negative   \n",
              "1  This show was an amazing, fresh & innovative i...  negative   \n",
              "2  Encouraged by the positive comments about this...  negative   \n",
              "3  Phil the Alien is one of those quirky films wh...  negative   \n",
              "4  I saw this movie when I was about 12 when it c...  negative   \n",
              "\n",
              "                                        review_clean  sentiment_encoded  \n",
              "0  [basic, famili, littl, boy, jake, think, zombi...                  0  \n",
              "1  [show, amaz, fresh, innov, idea, first, air, f...                  0  \n",
              "2  [encourag, posit, comment, film, look, forward...                  0  \n",
              "3  [phil, alien, one, quirki, film, humour, base,...                  0  \n",
              "4  [saw, movi, came, recal, scariest, scene, big,...                  0  "
            ],
            "text/html": [
              "\n",
              "  <div id=\"df-fd367c9e-9c68-4f83-8894-9deaed32d783\">\n",
              "    <div class=\"colab-df-container\">\n",
              "      <div>\n",
              "<style scoped>\n",
              "    .dataframe tbody tr th:only-of-type {\n",
              "        vertical-align: middle;\n",
              "    }\n",
              "\n",
              "    .dataframe tbody tr th {\n",
              "        vertical-align: top;\n",
              "    }\n",
              "\n",
              "    .dataframe thead th {\n",
              "        text-align: right;\n",
              "    }\n",
              "</style>\n",
              "<table border=\"1\" class=\"dataframe\">\n",
              "  <thead>\n",
              "    <tr style=\"text-align: right;\">\n",
              "      <th></th>\n",
              "      <th>review</th>\n",
              "      <th>sentiment</th>\n",
              "      <th>review_clean</th>\n",
              "      <th>sentiment_encoded</th>\n",
              "    </tr>\n",
              "  </thead>\n",
              "  <tbody>\n",
              "    <tr>\n",
              "      <th>0</th>\n",
              "      <td>Basically there's a family where a little boy ...</td>\n",
              "      <td>negative</td>\n",
              "      <td>[basic, famili, littl, boy, jake, think, zombi...</td>\n",
              "      <td>0</td>\n",
              "    </tr>\n",
              "    <tr>\n",
              "      <th>1</th>\n",
              "      <td>This show was an amazing, fresh &amp; innovative i...</td>\n",
              "      <td>negative</td>\n",
              "      <td>[show, amaz, fresh, innov, idea, first, air, f...</td>\n",
              "      <td>0</td>\n",
              "    </tr>\n",
              "    <tr>\n",
              "      <th>2</th>\n",
              "      <td>Encouraged by the positive comments about this...</td>\n",
              "      <td>negative</td>\n",
              "      <td>[encourag, posit, comment, film, look, forward...</td>\n",
              "      <td>0</td>\n",
              "    </tr>\n",
              "    <tr>\n",
              "      <th>3</th>\n",
              "      <td>Phil the Alien is one of those quirky films wh...</td>\n",
              "      <td>negative</td>\n",
              "      <td>[phil, alien, one, quirki, film, humour, base,...</td>\n",
              "      <td>0</td>\n",
              "    </tr>\n",
              "    <tr>\n",
              "      <th>4</th>\n",
              "      <td>I saw this movie when I was about 12 when it c...</td>\n",
              "      <td>negative</td>\n",
              "      <td>[saw, movi, came, recal, scariest, scene, big,...</td>\n",
              "      <td>0</td>\n",
              "    </tr>\n",
              "  </tbody>\n",
              "</table>\n",
              "</div>\n",
              "      <button class=\"colab-df-convert\" onclick=\"convertToInteractive('df-fd367c9e-9c68-4f83-8894-9deaed32d783')\"\n",
              "              title=\"Convert this dataframe to an interactive table.\"\n",
              "              style=\"display:none;\">\n",
              "        \n",
              "  <svg xmlns=\"http://www.w3.org/2000/svg\" height=\"24px\"viewBox=\"0 0 24 24\"\n",
              "       width=\"24px\">\n",
              "    <path d=\"M0 0h24v24H0V0z\" fill=\"none\"/>\n",
              "    <path d=\"M18.56 5.44l.94 2.06.94-2.06 2.06-.94-2.06-.94-.94-2.06-.94 2.06-2.06.94zm-11 1L8.5 8.5l.94-2.06 2.06-.94-2.06-.94L8.5 2.5l-.94 2.06-2.06.94zm10 10l.94 2.06.94-2.06 2.06-.94-2.06-.94-.94-2.06-.94 2.06-2.06.94z\"/><path d=\"M17.41 7.96l-1.37-1.37c-.4-.4-.92-.59-1.43-.59-.52 0-1.04.2-1.43.59L10.3 9.45l-7.72 7.72c-.78.78-.78 2.05 0 2.83L4 21.41c.39.39.9.59 1.41.59.51 0 1.02-.2 1.41-.59l7.78-7.78 2.81-2.81c.8-.78.8-2.07 0-2.86zM5.41 20L4 18.59l7.72-7.72 1.47 1.35L5.41 20z\"/>\n",
              "  </svg>\n",
              "      </button>\n",
              "      \n",
              "  <style>\n",
              "    .colab-df-container {\n",
              "      display:flex;\n",
              "      flex-wrap:wrap;\n",
              "      gap: 12px;\n",
              "    }\n",
              "\n",
              "    .colab-df-convert {\n",
              "      background-color: #E8F0FE;\n",
              "      border: none;\n",
              "      border-radius: 50%;\n",
              "      cursor: pointer;\n",
              "      display: none;\n",
              "      fill: #1967D2;\n",
              "      height: 32px;\n",
              "      padding: 0 0 0 0;\n",
              "      width: 32px;\n",
              "    }\n",
              "\n",
              "    .colab-df-convert:hover {\n",
              "      background-color: #E2EBFA;\n",
              "      box-shadow: 0px 1px 2px rgba(60, 64, 67, 0.3), 0px 1px 3px 1px rgba(60, 64, 67, 0.15);\n",
              "      fill: #174EA6;\n",
              "    }\n",
              "\n",
              "    [theme=dark] .colab-df-convert {\n",
              "      background-color: #3B4455;\n",
              "      fill: #D2E3FC;\n",
              "    }\n",
              "\n",
              "    [theme=dark] .colab-df-convert:hover {\n",
              "      background-color: #434B5C;\n",
              "      box-shadow: 0px 1px 3px 1px rgba(0, 0, 0, 0.15);\n",
              "      filter: drop-shadow(0px 1px 2px rgba(0, 0, 0, 0.3));\n",
              "      fill: #FFFFFF;\n",
              "    }\n",
              "  </style>\n",
              "\n",
              "      <script>\n",
              "        const buttonEl =\n",
              "          document.querySelector('#df-fd367c9e-9c68-4f83-8894-9deaed32d783 button.colab-df-convert');\n",
              "        buttonEl.style.display =\n",
              "          google.colab.kernel.accessAllowed ? 'block' : 'none';\n",
              "\n",
              "        async function convertToInteractive(key) {\n",
              "          const element = document.querySelector('#df-fd367c9e-9c68-4f83-8894-9deaed32d783');\n",
              "          const dataTable =\n",
              "            await google.colab.kernel.invokeFunction('convertToInteractive',\n",
              "                                                     [key], {});\n",
              "          if (!dataTable) return;\n",
              "\n",
              "          const docLinkHtml = 'Like what you see? Visit the ' +\n",
              "            '<a target=\"_blank\" href=https://colab.research.google.com/notebooks/data_table.ipynb>data table notebook</a>'\n",
              "            + ' to learn more about interactive tables.';\n",
              "          element.innerHTML = '';\n",
              "          dataTable['output_type'] = 'display_data';\n",
              "          await google.colab.output.renderOutput(dataTable, element);\n",
              "          const docLink = document.createElement('div');\n",
              "          docLink.innerHTML = docLinkHtml;\n",
              "          element.appendChild(docLink);\n",
              "        }\n",
              "      </script>\n",
              "    </div>\n",
              "  </div>\n",
              "  "
            ]
          },
          "metadata": {},
          "execution_count": 39
        }
      ]
    },
    {
      "cell_type": "code",
      "source": [
        "pos_rev.head()"
      ],
      "metadata": {
        "id": "ZyZPvlO8P4rw",
        "colab": {
          "base_uri": "https://localhost:8080/",
          "height": 206
        },
        "outputId": "e6e801c1-8e3e-4b01-eda3-fe104f76b8de"
      },
      "execution_count": null,
      "outputs": [
        {
          "output_type": "execute_result",
          "data": {
            "text/plain": [
              "                                              review sentiment  \\\n",
              "0  One of the other reviewers has mentioned that ...  positive   \n",
              "1  A wonderful little production. <br /><br />The...  positive   \n",
              "2  I thought this was a wonderful way to spend ti...  positive   \n",
              "3  Petter Mattei's \"Love in the Time of Money\" is...  positive   \n",
              "4  Probably my all-time favorite movie, a story o...  positive   \n",
              "\n",
              "                                        review_clean  sentiment_encoded  \n",
              "0  [one, review, mention, watch, oz, episod, hook...                  1  \n",
              "1  [wonder, littl, product, film, techniqu, unass...                  1  \n",
              "2  [thought, wonder, way, spend, time, hot, summe...                  1  \n",
              "3  [petter, mattei, love, time, money, visual, st...                  1  \n",
              "4  [probabl, time, favorit, movi, stori, selfless...                  1  "
            ],
            "text/html": [
              "\n",
              "  <div id=\"df-3751a78f-b085-4a6a-8ecb-1d1fac4b4730\">\n",
              "    <div class=\"colab-df-container\">\n",
              "      <div>\n",
              "<style scoped>\n",
              "    .dataframe tbody tr th:only-of-type {\n",
              "        vertical-align: middle;\n",
              "    }\n",
              "\n",
              "    .dataframe tbody tr th {\n",
              "        vertical-align: top;\n",
              "    }\n",
              "\n",
              "    .dataframe thead th {\n",
              "        text-align: right;\n",
              "    }\n",
              "</style>\n",
              "<table border=\"1\" class=\"dataframe\">\n",
              "  <thead>\n",
              "    <tr style=\"text-align: right;\">\n",
              "      <th></th>\n",
              "      <th>review</th>\n",
              "      <th>sentiment</th>\n",
              "      <th>review_clean</th>\n",
              "      <th>sentiment_encoded</th>\n",
              "    </tr>\n",
              "  </thead>\n",
              "  <tbody>\n",
              "    <tr>\n",
              "      <th>0</th>\n",
              "      <td>One of the other reviewers has mentioned that ...</td>\n",
              "      <td>positive</td>\n",
              "      <td>[one, review, mention, watch, oz, episod, hook...</td>\n",
              "      <td>1</td>\n",
              "    </tr>\n",
              "    <tr>\n",
              "      <th>1</th>\n",
              "      <td>A wonderful little production. &lt;br /&gt;&lt;br /&gt;The...</td>\n",
              "      <td>positive</td>\n",
              "      <td>[wonder, littl, product, film, techniqu, unass...</td>\n",
              "      <td>1</td>\n",
              "    </tr>\n",
              "    <tr>\n",
              "      <th>2</th>\n",
              "      <td>I thought this was a wonderful way to spend ti...</td>\n",
              "      <td>positive</td>\n",
              "      <td>[thought, wonder, way, spend, time, hot, summe...</td>\n",
              "      <td>1</td>\n",
              "    </tr>\n",
              "    <tr>\n",
              "      <th>3</th>\n",
              "      <td>Petter Mattei's \"Love in the Time of Money\" is...</td>\n",
              "      <td>positive</td>\n",
              "      <td>[petter, mattei, love, time, money, visual, st...</td>\n",
              "      <td>1</td>\n",
              "    </tr>\n",
              "    <tr>\n",
              "      <th>4</th>\n",
              "      <td>Probably my all-time favorite movie, a story o...</td>\n",
              "      <td>positive</td>\n",
              "      <td>[probabl, time, favorit, movi, stori, selfless...</td>\n",
              "      <td>1</td>\n",
              "    </tr>\n",
              "  </tbody>\n",
              "</table>\n",
              "</div>\n",
              "      <button class=\"colab-df-convert\" onclick=\"convertToInteractive('df-3751a78f-b085-4a6a-8ecb-1d1fac4b4730')\"\n",
              "              title=\"Convert this dataframe to an interactive table.\"\n",
              "              style=\"display:none;\">\n",
              "        \n",
              "  <svg xmlns=\"http://www.w3.org/2000/svg\" height=\"24px\"viewBox=\"0 0 24 24\"\n",
              "       width=\"24px\">\n",
              "    <path d=\"M0 0h24v24H0V0z\" fill=\"none\"/>\n",
              "    <path d=\"M18.56 5.44l.94 2.06.94-2.06 2.06-.94-2.06-.94-.94-2.06-.94 2.06-2.06.94zm-11 1L8.5 8.5l.94-2.06 2.06-.94-2.06-.94L8.5 2.5l-.94 2.06-2.06.94zm10 10l.94 2.06.94-2.06 2.06-.94-2.06-.94-.94-2.06-.94 2.06-2.06.94z\"/><path d=\"M17.41 7.96l-1.37-1.37c-.4-.4-.92-.59-1.43-.59-.52 0-1.04.2-1.43.59L10.3 9.45l-7.72 7.72c-.78.78-.78 2.05 0 2.83L4 21.41c.39.39.9.59 1.41.59.51 0 1.02-.2 1.41-.59l7.78-7.78 2.81-2.81c.8-.78.8-2.07 0-2.86zM5.41 20L4 18.59l7.72-7.72 1.47 1.35L5.41 20z\"/>\n",
              "  </svg>\n",
              "      </button>\n",
              "      \n",
              "  <style>\n",
              "    .colab-df-container {\n",
              "      display:flex;\n",
              "      flex-wrap:wrap;\n",
              "      gap: 12px;\n",
              "    }\n",
              "\n",
              "    .colab-df-convert {\n",
              "      background-color: #E8F0FE;\n",
              "      border: none;\n",
              "      border-radius: 50%;\n",
              "      cursor: pointer;\n",
              "      display: none;\n",
              "      fill: #1967D2;\n",
              "      height: 32px;\n",
              "      padding: 0 0 0 0;\n",
              "      width: 32px;\n",
              "    }\n",
              "\n",
              "    .colab-df-convert:hover {\n",
              "      background-color: #E2EBFA;\n",
              "      box-shadow: 0px 1px 2px rgba(60, 64, 67, 0.3), 0px 1px 3px 1px rgba(60, 64, 67, 0.15);\n",
              "      fill: #174EA6;\n",
              "    }\n",
              "\n",
              "    [theme=dark] .colab-df-convert {\n",
              "      background-color: #3B4455;\n",
              "      fill: #D2E3FC;\n",
              "    }\n",
              "\n",
              "    [theme=dark] .colab-df-convert:hover {\n",
              "      background-color: #434B5C;\n",
              "      box-shadow: 0px 1px 3px 1px rgba(0, 0, 0, 0.15);\n",
              "      filter: drop-shadow(0px 1px 2px rgba(0, 0, 0, 0.3));\n",
              "      fill: #FFFFFF;\n",
              "    }\n",
              "  </style>\n",
              "\n",
              "      <script>\n",
              "        const buttonEl =\n",
              "          document.querySelector('#df-3751a78f-b085-4a6a-8ecb-1d1fac4b4730 button.colab-df-convert');\n",
              "        buttonEl.style.display =\n",
              "          google.colab.kernel.accessAllowed ? 'block' : 'none';\n",
              "\n",
              "        async function convertToInteractive(key) {\n",
              "          const element = document.querySelector('#df-3751a78f-b085-4a6a-8ecb-1d1fac4b4730');\n",
              "          const dataTable =\n",
              "            await google.colab.kernel.invokeFunction('convertToInteractive',\n",
              "                                                     [key], {});\n",
              "          if (!dataTable) return;\n",
              "\n",
              "          const docLinkHtml = 'Like what you see? Visit the ' +\n",
              "            '<a target=\"_blank\" href=https://colab.research.google.com/notebooks/data_table.ipynb>data table notebook</a>'\n",
              "            + ' to learn more about interactive tables.';\n",
              "          element.innerHTML = '';\n",
              "          dataTable['output_type'] = 'display_data';\n",
              "          await google.colab.output.renderOutput(dataTable, element);\n",
              "          const docLink = document.createElement('div');\n",
              "          docLink.innerHTML = docLinkHtml;\n",
              "          element.appendChild(docLink);\n",
              "        }\n",
              "      </script>\n",
              "    </div>\n",
              "  </div>\n",
              "  "
            ]
          },
          "metadata": {},
          "execution_count": 40
        }
      ]
    },
    {
      "cell_type": "markdown",
      "source": [
        "<font size=3> Lo que sigue es dividir nuestro *data set* en conjuntos de entrenamiento y prueba. Para garantizar que haya una proporción idéntica de datos con las etiquetas 0 y 1 en ambos conjuntos, lo que hacemos es dividir por separado los *data frames* *'pos_rev'* y *'neg_rev'* en prueba y entenamiento para posteriormente unir los similares."
      ],
      "metadata": {
        "id": "N3p12m1Yi--Y"
      }
    },
    {
      "cell_type": "code",
      "source": [
        "# Creamos el conjunto de entrenamiento para las reseñas postivas\n",
        "train_pos = pos_rev.sample(frac=0.8, random_state=7)\n",
        "train_pos"
      ],
      "metadata": {
        "id": "BjkFbD5fS545",
        "colab": {
          "base_uri": "https://localhost:8080/",
          "height": 423
        },
        "outputId": "76a8d867-37c6-486c-f63c-1bb2c3018a1b"
      },
      "execution_count": null,
      "outputs": [
        {
          "output_type": "execute_result",
          "data": {
            "text/plain": [
              "                                                  review sentiment  \\\n",
              "21752  Another detailed work on the subject by Dr Dwi...  positive   \n",
              "7208   Although the plot was a bit sappy at times, an...  positive   \n",
              "17058  Noni Hazlehurst, Colin Friels, Alice Garner, C...  positive   \n",
              "20754  so. i was completely in love with this movie. ...  positive   \n",
              "22505  Being someone who lists Night of the Living De...  positive   \n",
              "...                                                  ...       ...   \n",
              "18965  Yeah I watched this mini series with My Mom an...  positive   \n",
              "22154  I love the premise, but it's replay value is o...  positive   \n",
              "1253   Jeff Lieberman's \"Just Before Dawn\" is definit...  positive   \n",
              "10039  I have to agree with most of the other posts. ...  positive   \n",
              "4336   This movie is just so good! Despite Carmen Ele...  positive   \n",
              "\n",
              "                                            review_clean  sentiment_encoded  \n",
              "21752  [anoth, detail, work, subject, dr, dwivedi, ta...                  1  \n",
              "7208   [although, plot, bit, sappi, time, rush, end, ...                  1  \n",
              "17058  [noni, hazlehurst, colin, friel, alic, garner,...                  1  \n",
              "20754  [complet, love, movi, gaga, even, plot, twist,...                  1  \n",
              "22505  [someon, list, night, live, dead, number, thre...                  1  \n",
              "...                                                  ...                ...  \n",
              "18965  [yeah, watch, mini, seri, mom, dad, kid, one, ...                  1  \n",
              "22154  [love, premis, replay, valu, certain, part, op...                  1  \n",
              "1253   [jeff, lieberman, dawn, definit, one, underr, ...                  1  \n",
              "10039  [agre, post, comedi, drama, lean, littl, much,...                  1  \n",
              "4336   [movi, good, despit, carmen, electra, one, bet...                  1  \n",
              "\n",
              "[20000 rows x 4 columns]"
            ],
            "text/html": [
              "\n",
              "  <div id=\"df-fdadaa2b-f312-414c-9344-4babe7f243a2\">\n",
              "    <div class=\"colab-df-container\">\n",
              "      <div>\n",
              "<style scoped>\n",
              "    .dataframe tbody tr th:only-of-type {\n",
              "        vertical-align: middle;\n",
              "    }\n",
              "\n",
              "    .dataframe tbody tr th {\n",
              "        vertical-align: top;\n",
              "    }\n",
              "\n",
              "    .dataframe thead th {\n",
              "        text-align: right;\n",
              "    }\n",
              "</style>\n",
              "<table border=\"1\" class=\"dataframe\">\n",
              "  <thead>\n",
              "    <tr style=\"text-align: right;\">\n",
              "      <th></th>\n",
              "      <th>review</th>\n",
              "      <th>sentiment</th>\n",
              "      <th>review_clean</th>\n",
              "      <th>sentiment_encoded</th>\n",
              "    </tr>\n",
              "  </thead>\n",
              "  <tbody>\n",
              "    <tr>\n",
              "      <th>21752</th>\n",
              "      <td>Another detailed work on the subject by Dr Dwi...</td>\n",
              "      <td>positive</td>\n",
              "      <td>[anoth, detail, work, subject, dr, dwivedi, ta...</td>\n",
              "      <td>1</td>\n",
              "    </tr>\n",
              "    <tr>\n",
              "      <th>7208</th>\n",
              "      <td>Although the plot was a bit sappy at times, an...</td>\n",
              "      <td>positive</td>\n",
              "      <td>[although, plot, bit, sappi, time, rush, end, ...</td>\n",
              "      <td>1</td>\n",
              "    </tr>\n",
              "    <tr>\n",
              "      <th>17058</th>\n",
              "      <td>Noni Hazlehurst, Colin Friels, Alice Garner, C...</td>\n",
              "      <td>positive</td>\n",
              "      <td>[noni, hazlehurst, colin, friel, alic, garner,...</td>\n",
              "      <td>1</td>\n",
              "    </tr>\n",
              "    <tr>\n",
              "      <th>20754</th>\n",
              "      <td>so. i was completely in love with this movie. ...</td>\n",
              "      <td>positive</td>\n",
              "      <td>[complet, love, movi, gaga, even, plot, twist,...</td>\n",
              "      <td>1</td>\n",
              "    </tr>\n",
              "    <tr>\n",
              "      <th>22505</th>\n",
              "      <td>Being someone who lists Night of the Living De...</td>\n",
              "      <td>positive</td>\n",
              "      <td>[someon, list, night, live, dead, number, thre...</td>\n",
              "      <td>1</td>\n",
              "    </tr>\n",
              "    <tr>\n",
              "      <th>...</th>\n",
              "      <td>...</td>\n",
              "      <td>...</td>\n",
              "      <td>...</td>\n",
              "      <td>...</td>\n",
              "    </tr>\n",
              "    <tr>\n",
              "      <th>18965</th>\n",
              "      <td>Yeah I watched this mini series with My Mom an...</td>\n",
              "      <td>positive</td>\n",
              "      <td>[yeah, watch, mini, seri, mom, dad, kid, one, ...</td>\n",
              "      <td>1</td>\n",
              "    </tr>\n",
              "    <tr>\n",
              "      <th>22154</th>\n",
              "      <td>I love the premise, but it's replay value is o...</td>\n",
              "      <td>positive</td>\n",
              "      <td>[love, premis, replay, valu, certain, part, op...</td>\n",
              "      <td>1</td>\n",
              "    </tr>\n",
              "    <tr>\n",
              "      <th>1253</th>\n",
              "      <td>Jeff Lieberman's \"Just Before Dawn\" is definit...</td>\n",
              "      <td>positive</td>\n",
              "      <td>[jeff, lieberman, dawn, definit, one, underr, ...</td>\n",
              "      <td>1</td>\n",
              "    </tr>\n",
              "    <tr>\n",
              "      <th>10039</th>\n",
              "      <td>I have to agree with most of the other posts. ...</td>\n",
              "      <td>positive</td>\n",
              "      <td>[agre, post, comedi, drama, lean, littl, much,...</td>\n",
              "      <td>1</td>\n",
              "    </tr>\n",
              "    <tr>\n",
              "      <th>4336</th>\n",
              "      <td>This movie is just so good! Despite Carmen Ele...</td>\n",
              "      <td>positive</td>\n",
              "      <td>[movi, good, despit, carmen, electra, one, bet...</td>\n",
              "      <td>1</td>\n",
              "    </tr>\n",
              "  </tbody>\n",
              "</table>\n",
              "<p>20000 rows × 4 columns</p>\n",
              "</div>\n",
              "      <button class=\"colab-df-convert\" onclick=\"convertToInteractive('df-fdadaa2b-f312-414c-9344-4babe7f243a2')\"\n",
              "              title=\"Convert this dataframe to an interactive table.\"\n",
              "              style=\"display:none;\">\n",
              "        \n",
              "  <svg xmlns=\"http://www.w3.org/2000/svg\" height=\"24px\"viewBox=\"0 0 24 24\"\n",
              "       width=\"24px\">\n",
              "    <path d=\"M0 0h24v24H0V0z\" fill=\"none\"/>\n",
              "    <path d=\"M18.56 5.44l.94 2.06.94-2.06 2.06-.94-2.06-.94-.94-2.06-.94 2.06-2.06.94zm-11 1L8.5 8.5l.94-2.06 2.06-.94-2.06-.94L8.5 2.5l-.94 2.06-2.06.94zm10 10l.94 2.06.94-2.06 2.06-.94-2.06-.94-.94-2.06-.94 2.06-2.06.94z\"/><path d=\"M17.41 7.96l-1.37-1.37c-.4-.4-.92-.59-1.43-.59-.52 0-1.04.2-1.43.59L10.3 9.45l-7.72 7.72c-.78.78-.78 2.05 0 2.83L4 21.41c.39.39.9.59 1.41.59.51 0 1.02-.2 1.41-.59l7.78-7.78 2.81-2.81c.8-.78.8-2.07 0-2.86zM5.41 20L4 18.59l7.72-7.72 1.47 1.35L5.41 20z\"/>\n",
              "  </svg>\n",
              "      </button>\n",
              "      \n",
              "  <style>\n",
              "    .colab-df-container {\n",
              "      display:flex;\n",
              "      flex-wrap:wrap;\n",
              "      gap: 12px;\n",
              "    }\n",
              "\n",
              "    .colab-df-convert {\n",
              "      background-color: #E8F0FE;\n",
              "      border: none;\n",
              "      border-radius: 50%;\n",
              "      cursor: pointer;\n",
              "      display: none;\n",
              "      fill: #1967D2;\n",
              "      height: 32px;\n",
              "      padding: 0 0 0 0;\n",
              "      width: 32px;\n",
              "    }\n",
              "\n",
              "    .colab-df-convert:hover {\n",
              "      background-color: #E2EBFA;\n",
              "      box-shadow: 0px 1px 2px rgba(60, 64, 67, 0.3), 0px 1px 3px 1px rgba(60, 64, 67, 0.15);\n",
              "      fill: #174EA6;\n",
              "    }\n",
              "\n",
              "    [theme=dark] .colab-df-convert {\n",
              "      background-color: #3B4455;\n",
              "      fill: #D2E3FC;\n",
              "    }\n",
              "\n",
              "    [theme=dark] .colab-df-convert:hover {\n",
              "      background-color: #434B5C;\n",
              "      box-shadow: 0px 1px 3px 1px rgba(0, 0, 0, 0.15);\n",
              "      filter: drop-shadow(0px 1px 2px rgba(0, 0, 0, 0.3));\n",
              "      fill: #FFFFFF;\n",
              "    }\n",
              "  </style>\n",
              "\n",
              "      <script>\n",
              "        const buttonEl =\n",
              "          document.querySelector('#df-fdadaa2b-f312-414c-9344-4babe7f243a2 button.colab-df-convert');\n",
              "        buttonEl.style.display =\n",
              "          google.colab.kernel.accessAllowed ? 'block' : 'none';\n",
              "\n",
              "        async function convertToInteractive(key) {\n",
              "          const element = document.querySelector('#df-fdadaa2b-f312-414c-9344-4babe7f243a2');\n",
              "          const dataTable =\n",
              "            await google.colab.kernel.invokeFunction('convertToInteractive',\n",
              "                                                     [key], {});\n",
              "          if (!dataTable) return;\n",
              "\n",
              "          const docLinkHtml = 'Like what you see? Visit the ' +\n",
              "            '<a target=\"_blank\" href=https://colab.research.google.com/notebooks/data_table.ipynb>data table notebook</a>'\n",
              "            + ' to learn more about interactive tables.';\n",
              "          element.innerHTML = '';\n",
              "          dataTable['output_type'] = 'display_data';\n",
              "          await google.colab.output.renderOutput(dataTable, element);\n",
              "          const docLink = document.createElement('div');\n",
              "          docLink.innerHTML = docLinkHtml;\n",
              "          element.appendChild(docLink);\n",
              "        }\n",
              "      </script>\n",
              "    </div>\n",
              "  </div>\n",
              "  "
            ]
          },
          "metadata": {},
          "execution_count": 41
        }
      ]
    },
    {
      "cell_type": "markdown",
      "source": [
        "<font size=3> Creamos una máscara con los índices de *'train_pos'* y aplicamos a los demás conjuntos, esto para simplificar la separación y grantizar las misma proporción de reseñas con las dos etiquetas en ambos conjuntos."
      ],
      "metadata": {
        "id": "9NnYUJu3kE5T"
      }
    },
    {
      "cell_type": "code",
      "source": [
        "# Ordenamos los índices para optimizar el cómputo\n",
        "idx = train_pos.sort_index().index.to_list()\n",
        "# Creamos la máscara\n",
        "mask = np.array([True if x not in idx else False for x in range(25000)])\n",
        "# Aplicamos la máscara a 'pos_rev'\n",
        "test_pos = pos_rev[mask]\n",
        "test_pos"
      ],
      "metadata": {
        "id": "y15_o8ibS51w",
        "colab": {
          "base_uri": "https://localhost:8080/",
          "height": 423
        },
        "outputId": "9d0bd8d7-7220-420f-e90b-ea5a977b1202"
      },
      "execution_count": null,
      "outputs": [
        {
          "output_type": "execute_result",
          "data": {
            "text/plain": [
              "                                                  review sentiment  \\\n",
              "6      If you like original gut wrenching laughter yo...  positive   \n",
              "7      This a fantastic movie of three prisoners who ...  positive   \n",
              "10     After the success of Die Hard and it's sequels...  positive   \n",
              "14     'War movie' is a Hollywood genre that has been...  positive   \n",
              "22     Preston Sturgis' THE POWER AND THE GLORY was u...  positive   \n",
              "...                                                  ...       ...   \n",
              "24967  I first saw this movie in the night program of...  positive   \n",
              "24973  Having read all of the comments on this film I...  positive   \n",
              "24992  Dog Bite Dog isn't going to be for everyone, b...  positive   \n",
              "24997  I got this one a few weeks ago and love it! It...  positive   \n",
              "24999  I thought this movie did a down right good job...  positive   \n",
              "\n",
              "                                            review_clean  sentiment_encoded  \n",
              "6      [like, origin, gut, wrench, laughter, like, mo...                  1  \n",
              "7      [fantast, movi, three, prison, becom, famou, o...                  1  \n",
              "10     [success, die, hard, sequel, surpris, realli, ...                  1  \n",
              "14     [war, movi, hollywood, genr, done, redon, mani...                  1  \n",
              "22     [preston, sturgi, power, glori, unseen, public...                  1  \n",
              "...                                                  ...                ...  \n",
              "24967  [first, saw, movi, night, program, one, favour...                  1  \n",
              "24973  [read, comment, film, still, amaz, fox, reluct...                  1  \n",
              "24992  [dog, bite, dog, go, everyon, realli, enjoy, f...                  1  \n",
              "24997  [got, one, week, ago, love, modern, light, fil...                  1  \n",
              "24999  [thought, movi, right, good, job, creativ, ori...                  1  \n",
              "\n",
              "[5000 rows x 4 columns]"
            ],
            "text/html": [
              "\n",
              "  <div id=\"df-9eba0d61-91ec-4a7b-a0f3-8df189101937\">\n",
              "    <div class=\"colab-df-container\">\n",
              "      <div>\n",
              "<style scoped>\n",
              "    .dataframe tbody tr th:only-of-type {\n",
              "        vertical-align: middle;\n",
              "    }\n",
              "\n",
              "    .dataframe tbody tr th {\n",
              "        vertical-align: top;\n",
              "    }\n",
              "\n",
              "    .dataframe thead th {\n",
              "        text-align: right;\n",
              "    }\n",
              "</style>\n",
              "<table border=\"1\" class=\"dataframe\">\n",
              "  <thead>\n",
              "    <tr style=\"text-align: right;\">\n",
              "      <th></th>\n",
              "      <th>review</th>\n",
              "      <th>sentiment</th>\n",
              "      <th>review_clean</th>\n",
              "      <th>sentiment_encoded</th>\n",
              "    </tr>\n",
              "  </thead>\n",
              "  <tbody>\n",
              "    <tr>\n",
              "      <th>6</th>\n",
              "      <td>If you like original gut wrenching laughter yo...</td>\n",
              "      <td>positive</td>\n",
              "      <td>[like, origin, gut, wrench, laughter, like, mo...</td>\n",
              "      <td>1</td>\n",
              "    </tr>\n",
              "    <tr>\n",
              "      <th>7</th>\n",
              "      <td>This a fantastic movie of three prisoners who ...</td>\n",
              "      <td>positive</td>\n",
              "      <td>[fantast, movi, three, prison, becom, famou, o...</td>\n",
              "      <td>1</td>\n",
              "    </tr>\n",
              "    <tr>\n",
              "      <th>10</th>\n",
              "      <td>After the success of Die Hard and it's sequels...</td>\n",
              "      <td>positive</td>\n",
              "      <td>[success, die, hard, sequel, surpris, realli, ...</td>\n",
              "      <td>1</td>\n",
              "    </tr>\n",
              "    <tr>\n",
              "      <th>14</th>\n",
              "      <td>'War movie' is a Hollywood genre that has been...</td>\n",
              "      <td>positive</td>\n",
              "      <td>[war, movi, hollywood, genr, done, redon, mani...</td>\n",
              "      <td>1</td>\n",
              "    </tr>\n",
              "    <tr>\n",
              "      <th>22</th>\n",
              "      <td>Preston Sturgis' THE POWER AND THE GLORY was u...</td>\n",
              "      <td>positive</td>\n",
              "      <td>[preston, sturgi, power, glori, unseen, public...</td>\n",
              "      <td>1</td>\n",
              "    </tr>\n",
              "    <tr>\n",
              "      <th>...</th>\n",
              "      <td>...</td>\n",
              "      <td>...</td>\n",
              "      <td>...</td>\n",
              "      <td>...</td>\n",
              "    </tr>\n",
              "    <tr>\n",
              "      <th>24967</th>\n",
              "      <td>I first saw this movie in the night program of...</td>\n",
              "      <td>positive</td>\n",
              "      <td>[first, saw, movi, night, program, one, favour...</td>\n",
              "      <td>1</td>\n",
              "    </tr>\n",
              "    <tr>\n",
              "      <th>24973</th>\n",
              "      <td>Having read all of the comments on this film I...</td>\n",
              "      <td>positive</td>\n",
              "      <td>[read, comment, film, still, amaz, fox, reluct...</td>\n",
              "      <td>1</td>\n",
              "    </tr>\n",
              "    <tr>\n",
              "      <th>24992</th>\n",
              "      <td>Dog Bite Dog isn't going to be for everyone, b...</td>\n",
              "      <td>positive</td>\n",
              "      <td>[dog, bite, dog, go, everyon, realli, enjoy, f...</td>\n",
              "      <td>1</td>\n",
              "    </tr>\n",
              "    <tr>\n",
              "      <th>24997</th>\n",
              "      <td>I got this one a few weeks ago and love it! It...</td>\n",
              "      <td>positive</td>\n",
              "      <td>[got, one, week, ago, love, modern, light, fil...</td>\n",
              "      <td>1</td>\n",
              "    </tr>\n",
              "    <tr>\n",
              "      <th>24999</th>\n",
              "      <td>I thought this movie did a down right good job...</td>\n",
              "      <td>positive</td>\n",
              "      <td>[thought, movi, right, good, job, creativ, ori...</td>\n",
              "      <td>1</td>\n",
              "    </tr>\n",
              "  </tbody>\n",
              "</table>\n",
              "<p>5000 rows × 4 columns</p>\n",
              "</div>\n",
              "      <button class=\"colab-df-convert\" onclick=\"convertToInteractive('df-9eba0d61-91ec-4a7b-a0f3-8df189101937')\"\n",
              "              title=\"Convert this dataframe to an interactive table.\"\n",
              "              style=\"display:none;\">\n",
              "        \n",
              "  <svg xmlns=\"http://www.w3.org/2000/svg\" height=\"24px\"viewBox=\"0 0 24 24\"\n",
              "       width=\"24px\">\n",
              "    <path d=\"M0 0h24v24H0V0z\" fill=\"none\"/>\n",
              "    <path d=\"M18.56 5.44l.94 2.06.94-2.06 2.06-.94-2.06-.94-.94-2.06-.94 2.06-2.06.94zm-11 1L8.5 8.5l.94-2.06 2.06-.94-2.06-.94L8.5 2.5l-.94 2.06-2.06.94zm10 10l.94 2.06.94-2.06 2.06-.94-2.06-.94-.94-2.06-.94 2.06-2.06.94z\"/><path d=\"M17.41 7.96l-1.37-1.37c-.4-.4-.92-.59-1.43-.59-.52 0-1.04.2-1.43.59L10.3 9.45l-7.72 7.72c-.78.78-.78 2.05 0 2.83L4 21.41c.39.39.9.59 1.41.59.51 0 1.02-.2 1.41-.59l7.78-7.78 2.81-2.81c.8-.78.8-2.07 0-2.86zM5.41 20L4 18.59l7.72-7.72 1.47 1.35L5.41 20z\"/>\n",
              "  </svg>\n",
              "      </button>\n",
              "      \n",
              "  <style>\n",
              "    .colab-df-container {\n",
              "      display:flex;\n",
              "      flex-wrap:wrap;\n",
              "      gap: 12px;\n",
              "    }\n",
              "\n",
              "    .colab-df-convert {\n",
              "      background-color: #E8F0FE;\n",
              "      border: none;\n",
              "      border-radius: 50%;\n",
              "      cursor: pointer;\n",
              "      display: none;\n",
              "      fill: #1967D2;\n",
              "      height: 32px;\n",
              "      padding: 0 0 0 0;\n",
              "      width: 32px;\n",
              "    }\n",
              "\n",
              "    .colab-df-convert:hover {\n",
              "      background-color: #E2EBFA;\n",
              "      box-shadow: 0px 1px 2px rgba(60, 64, 67, 0.3), 0px 1px 3px 1px rgba(60, 64, 67, 0.15);\n",
              "      fill: #174EA6;\n",
              "    }\n",
              "\n",
              "    [theme=dark] .colab-df-convert {\n",
              "      background-color: #3B4455;\n",
              "      fill: #D2E3FC;\n",
              "    }\n",
              "\n",
              "    [theme=dark] .colab-df-convert:hover {\n",
              "      background-color: #434B5C;\n",
              "      box-shadow: 0px 1px 3px 1px rgba(0, 0, 0, 0.15);\n",
              "      filter: drop-shadow(0px 1px 2px rgba(0, 0, 0, 0.3));\n",
              "      fill: #FFFFFF;\n",
              "    }\n",
              "  </style>\n",
              "\n",
              "      <script>\n",
              "        const buttonEl =\n",
              "          document.querySelector('#df-9eba0d61-91ec-4a7b-a0f3-8df189101937 button.colab-df-convert');\n",
              "        buttonEl.style.display =\n",
              "          google.colab.kernel.accessAllowed ? 'block' : 'none';\n",
              "\n",
              "        async function convertToInteractive(key) {\n",
              "          const element = document.querySelector('#df-9eba0d61-91ec-4a7b-a0f3-8df189101937');\n",
              "          const dataTable =\n",
              "            await google.colab.kernel.invokeFunction('convertToInteractive',\n",
              "                                                     [key], {});\n",
              "          if (!dataTable) return;\n",
              "\n",
              "          const docLinkHtml = 'Like what you see? Visit the ' +\n",
              "            '<a target=\"_blank\" href=https://colab.research.google.com/notebooks/data_table.ipynb>data table notebook</a>'\n",
              "            + ' to learn more about interactive tables.';\n",
              "          element.innerHTML = '';\n",
              "          dataTable['output_type'] = 'display_data';\n",
              "          await google.colab.output.renderOutput(dataTable, element);\n",
              "          const docLink = document.createElement('div');\n",
              "          docLink.innerHTML = docLinkHtml;\n",
              "          element.appendChild(docLink);\n",
              "        }\n",
              "      </script>\n",
              "    </div>\n",
              "  </div>\n",
              "  "
            ]
          },
          "metadata": {},
          "execution_count": 42
        }
      ]
    },
    {
      "cell_type": "code",
      "source": [
        "# Aplicamos el complemento de la máscara  a 'neg_rev'\n",
        "train_neg = neg_rev[~mask]\n",
        "train_neg"
      ],
      "metadata": {
        "id": "_fj_LmFxS5yb",
        "colab": {
          "base_uri": "https://localhost:8080/",
          "height": 423
        },
        "outputId": "fc5edd9e-2cff-4d66-ad90-61254be1633b"
      },
      "execution_count": null,
      "outputs": [
        {
          "output_type": "execute_result",
          "data": {
            "text/plain": [
              "                                                  review sentiment  \\\n",
              "0      Basically there's a family where a little boy ...  negative   \n",
              "1      This show was an amazing, fresh & innovative i...  negative   \n",
              "2      Encouraged by the positive comments about this...  negative   \n",
              "3      Phil the Alien is one of those quirky films wh...  negative   \n",
              "4      I saw this movie when I was about 12 when it c...  negative   \n",
              "...                                                  ...       ...   \n",
              "24993  Les Visiteurs, the first movie about the medie...  negative   \n",
              "24994  Robert Colomb has two full-time jobs. He's kno...  negative   \n",
              "24995  This is your typical junk comedy.<br /><br />T...  negative   \n",
              "24996  Bad plot, bad dialogue, bad acting, idiotic di...  negative   \n",
              "24998  I'm going to have to disagree with the previou...  negative   \n",
              "\n",
              "                                            review_clean  sentiment_encoded  \n",
              "0      [basic, famili, littl, boy, jake, think, zombi...                  0  \n",
              "1      [show, amaz, fresh, innov, idea, first, air, f...                  0  \n",
              "2      [encourag, posit, comment, film, look, forward...                  0  \n",
              "3      [phil, alien, one, quirki, film, humour, base,...                  0  \n",
              "4      [saw, movi, came, recal, scariest, scene, big,...                  0  \n",
              "...                                                  ...                ...  \n",
              "24993  [le, visiteur, first, movi, mediev, time, trav...                  0  \n",
              "24994  [robert, colomb, two, full, time, job, known, ...                  0  \n",
              "24995  [typic, junk, comedi, almost, laugh, genuin, m...                  0  \n",
              "24996  [bad, plot, bad, dialogu, bad, act, idiot, dir...                  0  \n",
              "24998  [go, disagre, previou, comment, side, maltin, ...                  0  \n",
              "\n",
              "[20000 rows x 4 columns]"
            ],
            "text/html": [
              "\n",
              "  <div id=\"df-d76461c9-714c-4c93-af66-c99d625f13de\">\n",
              "    <div class=\"colab-df-container\">\n",
              "      <div>\n",
              "<style scoped>\n",
              "    .dataframe tbody tr th:only-of-type {\n",
              "        vertical-align: middle;\n",
              "    }\n",
              "\n",
              "    .dataframe tbody tr th {\n",
              "        vertical-align: top;\n",
              "    }\n",
              "\n",
              "    .dataframe thead th {\n",
              "        text-align: right;\n",
              "    }\n",
              "</style>\n",
              "<table border=\"1\" class=\"dataframe\">\n",
              "  <thead>\n",
              "    <tr style=\"text-align: right;\">\n",
              "      <th></th>\n",
              "      <th>review</th>\n",
              "      <th>sentiment</th>\n",
              "      <th>review_clean</th>\n",
              "      <th>sentiment_encoded</th>\n",
              "    </tr>\n",
              "  </thead>\n",
              "  <tbody>\n",
              "    <tr>\n",
              "      <th>0</th>\n",
              "      <td>Basically there's a family where a little boy ...</td>\n",
              "      <td>negative</td>\n",
              "      <td>[basic, famili, littl, boy, jake, think, zombi...</td>\n",
              "      <td>0</td>\n",
              "    </tr>\n",
              "    <tr>\n",
              "      <th>1</th>\n",
              "      <td>This show was an amazing, fresh &amp; innovative i...</td>\n",
              "      <td>negative</td>\n",
              "      <td>[show, amaz, fresh, innov, idea, first, air, f...</td>\n",
              "      <td>0</td>\n",
              "    </tr>\n",
              "    <tr>\n",
              "      <th>2</th>\n",
              "      <td>Encouraged by the positive comments about this...</td>\n",
              "      <td>negative</td>\n",
              "      <td>[encourag, posit, comment, film, look, forward...</td>\n",
              "      <td>0</td>\n",
              "    </tr>\n",
              "    <tr>\n",
              "      <th>3</th>\n",
              "      <td>Phil the Alien is one of those quirky films wh...</td>\n",
              "      <td>negative</td>\n",
              "      <td>[phil, alien, one, quirki, film, humour, base,...</td>\n",
              "      <td>0</td>\n",
              "    </tr>\n",
              "    <tr>\n",
              "      <th>4</th>\n",
              "      <td>I saw this movie when I was about 12 when it c...</td>\n",
              "      <td>negative</td>\n",
              "      <td>[saw, movi, came, recal, scariest, scene, big,...</td>\n",
              "      <td>0</td>\n",
              "    </tr>\n",
              "    <tr>\n",
              "      <th>...</th>\n",
              "      <td>...</td>\n",
              "      <td>...</td>\n",
              "      <td>...</td>\n",
              "      <td>...</td>\n",
              "    </tr>\n",
              "    <tr>\n",
              "      <th>24993</th>\n",
              "      <td>Les Visiteurs, the first movie about the medie...</td>\n",
              "      <td>negative</td>\n",
              "      <td>[le, visiteur, first, movi, mediev, time, trav...</td>\n",
              "      <td>0</td>\n",
              "    </tr>\n",
              "    <tr>\n",
              "      <th>24994</th>\n",
              "      <td>Robert Colomb has two full-time jobs. He's kno...</td>\n",
              "      <td>negative</td>\n",
              "      <td>[robert, colomb, two, full, time, job, known, ...</td>\n",
              "      <td>0</td>\n",
              "    </tr>\n",
              "    <tr>\n",
              "      <th>24995</th>\n",
              "      <td>This is your typical junk comedy.&lt;br /&gt;&lt;br /&gt;T...</td>\n",
              "      <td>negative</td>\n",
              "      <td>[typic, junk, comedi, almost, laugh, genuin, m...</td>\n",
              "      <td>0</td>\n",
              "    </tr>\n",
              "    <tr>\n",
              "      <th>24996</th>\n",
              "      <td>Bad plot, bad dialogue, bad acting, idiotic di...</td>\n",
              "      <td>negative</td>\n",
              "      <td>[bad, plot, bad, dialogu, bad, act, idiot, dir...</td>\n",
              "      <td>0</td>\n",
              "    </tr>\n",
              "    <tr>\n",
              "      <th>24998</th>\n",
              "      <td>I'm going to have to disagree with the previou...</td>\n",
              "      <td>negative</td>\n",
              "      <td>[go, disagre, previou, comment, side, maltin, ...</td>\n",
              "      <td>0</td>\n",
              "    </tr>\n",
              "  </tbody>\n",
              "</table>\n",
              "<p>20000 rows × 4 columns</p>\n",
              "</div>\n",
              "      <button class=\"colab-df-convert\" onclick=\"convertToInteractive('df-d76461c9-714c-4c93-af66-c99d625f13de')\"\n",
              "              title=\"Convert this dataframe to an interactive table.\"\n",
              "              style=\"display:none;\">\n",
              "        \n",
              "  <svg xmlns=\"http://www.w3.org/2000/svg\" height=\"24px\"viewBox=\"0 0 24 24\"\n",
              "       width=\"24px\">\n",
              "    <path d=\"M0 0h24v24H0V0z\" fill=\"none\"/>\n",
              "    <path d=\"M18.56 5.44l.94 2.06.94-2.06 2.06-.94-2.06-.94-.94-2.06-.94 2.06-2.06.94zm-11 1L8.5 8.5l.94-2.06 2.06-.94-2.06-.94L8.5 2.5l-.94 2.06-2.06.94zm10 10l.94 2.06.94-2.06 2.06-.94-2.06-.94-.94-2.06-.94 2.06-2.06.94z\"/><path d=\"M17.41 7.96l-1.37-1.37c-.4-.4-.92-.59-1.43-.59-.52 0-1.04.2-1.43.59L10.3 9.45l-7.72 7.72c-.78.78-.78 2.05 0 2.83L4 21.41c.39.39.9.59 1.41.59.51 0 1.02-.2 1.41-.59l7.78-7.78 2.81-2.81c.8-.78.8-2.07 0-2.86zM5.41 20L4 18.59l7.72-7.72 1.47 1.35L5.41 20z\"/>\n",
              "  </svg>\n",
              "      </button>\n",
              "      \n",
              "  <style>\n",
              "    .colab-df-container {\n",
              "      display:flex;\n",
              "      flex-wrap:wrap;\n",
              "      gap: 12px;\n",
              "    }\n",
              "\n",
              "    .colab-df-convert {\n",
              "      background-color: #E8F0FE;\n",
              "      border: none;\n",
              "      border-radius: 50%;\n",
              "      cursor: pointer;\n",
              "      display: none;\n",
              "      fill: #1967D2;\n",
              "      height: 32px;\n",
              "      padding: 0 0 0 0;\n",
              "      width: 32px;\n",
              "    }\n",
              "\n",
              "    .colab-df-convert:hover {\n",
              "      background-color: #E2EBFA;\n",
              "      box-shadow: 0px 1px 2px rgba(60, 64, 67, 0.3), 0px 1px 3px 1px rgba(60, 64, 67, 0.15);\n",
              "      fill: #174EA6;\n",
              "    }\n",
              "\n",
              "    [theme=dark] .colab-df-convert {\n",
              "      background-color: #3B4455;\n",
              "      fill: #D2E3FC;\n",
              "    }\n",
              "\n",
              "    [theme=dark] .colab-df-convert:hover {\n",
              "      background-color: #434B5C;\n",
              "      box-shadow: 0px 1px 3px 1px rgba(0, 0, 0, 0.15);\n",
              "      filter: drop-shadow(0px 1px 2px rgba(0, 0, 0, 0.3));\n",
              "      fill: #FFFFFF;\n",
              "    }\n",
              "  </style>\n",
              "\n",
              "      <script>\n",
              "        const buttonEl =\n",
              "          document.querySelector('#df-d76461c9-714c-4c93-af66-c99d625f13de button.colab-df-convert');\n",
              "        buttonEl.style.display =\n",
              "          google.colab.kernel.accessAllowed ? 'block' : 'none';\n",
              "\n",
              "        async function convertToInteractive(key) {\n",
              "          const element = document.querySelector('#df-d76461c9-714c-4c93-af66-c99d625f13de');\n",
              "          const dataTable =\n",
              "            await google.colab.kernel.invokeFunction('convertToInteractive',\n",
              "                                                     [key], {});\n",
              "          if (!dataTable) return;\n",
              "\n",
              "          const docLinkHtml = 'Like what you see? Visit the ' +\n",
              "            '<a target=\"_blank\" href=https://colab.research.google.com/notebooks/data_table.ipynb>data table notebook</a>'\n",
              "            + ' to learn more about interactive tables.';\n",
              "          element.innerHTML = '';\n",
              "          dataTable['output_type'] = 'display_data';\n",
              "          await google.colab.output.renderOutput(dataTable, element);\n",
              "          const docLink = document.createElement('div');\n",
              "          docLink.innerHTML = docLinkHtml;\n",
              "          element.appendChild(docLink);\n",
              "        }\n",
              "      </script>\n",
              "    </div>\n",
              "  </div>\n",
              "  "
            ]
          },
          "metadata": {},
          "execution_count": 43
        }
      ]
    },
    {
      "cell_type": "code",
      "source": [
        "# Aplicamos la máscara a 'neg_rev'\n",
        "test_neg = neg_rev[mask]\n",
        "test_neg"
      ],
      "metadata": {
        "id": "TnQhplkSS5ah",
        "colab": {
          "base_uri": "https://localhost:8080/",
          "height": 423
        },
        "outputId": "3171503a-6c63-4257-947b-c67d97587880"
      },
      "execution_count": null,
      "outputs": [
        {
          "output_type": "execute_result",
          "data": {
            "text/plain": [
              "                                                  review sentiment  \\\n",
              "6      The cast played Shakespeare.<br /><br />Shakes...  negative   \n",
              "7      Kind of drawn in by the erotic scenes, only to...  negative   \n",
              "10     I had the terrible misfortune of having to vie...  negative   \n",
              "14     This movie was so frustrating. Everything seem...  negative   \n",
              "22     Of all the films I have seen, this one, The Ra...  negative   \n",
              "...                                                  ...       ...   \n",
              "24967  This was a very brief episode that appeared in...  negative   \n",
              "24973  My thoughts on the movie, 9<br /><br />It was ...  negative   \n",
              "24992  Lame, lame, lame!!! A 90-minute cringe-fest th...  negative   \n",
              "24997  I am a Catholic taught in parochial elementary...  negative   \n",
              "24999  No one expects the Star Trek movies to be high...  negative   \n",
              "\n",
              "                                            review_clean  sentiment_encoded  \n",
              "6      [cast, play, shakespear, shakespear, lost, app...                  0  \n",
              "7      [kind, drawn, erot, scene, realiz, one, amateu...                  0  \n",
              "10     [terribl, misfortun, view, b, movi, entireti, ...                  0  \n",
              "14     [movi, frustrat, everyth, seem, energet, total...                  0  \n",
              "22     [film, seen, one, rage, got, one, worst, yet, ...                  0  \n",
              "...                                                  ...                ...  \n",
              "24967  [brief, episod, appear, one, night, galleri, s...                  0  \n",
              "24973  [thought, movi, good, good, visual, great, ple...                  0  \n",
              "24992  [lame, lame, lame, minut, cring, fest, minut, ...                  0  \n",
              "24997  [cathol, taught, parochi, elementari, school, ...                  0  \n",
              "24999  [one, expect, star, trek, movi, high, art, fan...                  0  \n",
              "\n",
              "[5000 rows x 4 columns]"
            ],
            "text/html": [
              "\n",
              "  <div id=\"df-10f2119b-0c39-4d6c-8a29-cf02cd235521\">\n",
              "    <div class=\"colab-df-container\">\n",
              "      <div>\n",
              "<style scoped>\n",
              "    .dataframe tbody tr th:only-of-type {\n",
              "        vertical-align: middle;\n",
              "    }\n",
              "\n",
              "    .dataframe tbody tr th {\n",
              "        vertical-align: top;\n",
              "    }\n",
              "\n",
              "    .dataframe thead th {\n",
              "        text-align: right;\n",
              "    }\n",
              "</style>\n",
              "<table border=\"1\" class=\"dataframe\">\n",
              "  <thead>\n",
              "    <tr style=\"text-align: right;\">\n",
              "      <th></th>\n",
              "      <th>review</th>\n",
              "      <th>sentiment</th>\n",
              "      <th>review_clean</th>\n",
              "      <th>sentiment_encoded</th>\n",
              "    </tr>\n",
              "  </thead>\n",
              "  <tbody>\n",
              "    <tr>\n",
              "      <th>6</th>\n",
              "      <td>The cast played Shakespeare.&lt;br /&gt;&lt;br /&gt;Shakes...</td>\n",
              "      <td>negative</td>\n",
              "      <td>[cast, play, shakespear, shakespear, lost, app...</td>\n",
              "      <td>0</td>\n",
              "    </tr>\n",
              "    <tr>\n",
              "      <th>7</th>\n",
              "      <td>Kind of drawn in by the erotic scenes, only to...</td>\n",
              "      <td>negative</td>\n",
              "      <td>[kind, drawn, erot, scene, realiz, one, amateu...</td>\n",
              "      <td>0</td>\n",
              "    </tr>\n",
              "    <tr>\n",
              "      <th>10</th>\n",
              "      <td>I had the terrible misfortune of having to vie...</td>\n",
              "      <td>negative</td>\n",
              "      <td>[terribl, misfortun, view, b, movi, entireti, ...</td>\n",
              "      <td>0</td>\n",
              "    </tr>\n",
              "    <tr>\n",
              "      <th>14</th>\n",
              "      <td>This movie was so frustrating. Everything seem...</td>\n",
              "      <td>negative</td>\n",
              "      <td>[movi, frustrat, everyth, seem, energet, total...</td>\n",
              "      <td>0</td>\n",
              "    </tr>\n",
              "    <tr>\n",
              "      <th>22</th>\n",
              "      <td>Of all the films I have seen, this one, The Ra...</td>\n",
              "      <td>negative</td>\n",
              "      <td>[film, seen, one, rage, got, one, worst, yet, ...</td>\n",
              "      <td>0</td>\n",
              "    </tr>\n",
              "    <tr>\n",
              "      <th>...</th>\n",
              "      <td>...</td>\n",
              "      <td>...</td>\n",
              "      <td>...</td>\n",
              "      <td>...</td>\n",
              "    </tr>\n",
              "    <tr>\n",
              "      <th>24967</th>\n",
              "      <td>This was a very brief episode that appeared in...</td>\n",
              "      <td>negative</td>\n",
              "      <td>[brief, episod, appear, one, night, galleri, s...</td>\n",
              "      <td>0</td>\n",
              "    </tr>\n",
              "    <tr>\n",
              "      <th>24973</th>\n",
              "      <td>My thoughts on the movie, 9&lt;br /&gt;&lt;br /&gt;It was ...</td>\n",
              "      <td>negative</td>\n",
              "      <td>[thought, movi, good, good, visual, great, ple...</td>\n",
              "      <td>0</td>\n",
              "    </tr>\n",
              "    <tr>\n",
              "      <th>24992</th>\n",
              "      <td>Lame, lame, lame!!! A 90-minute cringe-fest th...</td>\n",
              "      <td>negative</td>\n",
              "      <td>[lame, lame, lame, minut, cring, fest, minut, ...</td>\n",
              "      <td>0</td>\n",
              "    </tr>\n",
              "    <tr>\n",
              "      <th>24997</th>\n",
              "      <td>I am a Catholic taught in parochial elementary...</td>\n",
              "      <td>negative</td>\n",
              "      <td>[cathol, taught, parochi, elementari, school, ...</td>\n",
              "      <td>0</td>\n",
              "    </tr>\n",
              "    <tr>\n",
              "      <th>24999</th>\n",
              "      <td>No one expects the Star Trek movies to be high...</td>\n",
              "      <td>negative</td>\n",
              "      <td>[one, expect, star, trek, movi, high, art, fan...</td>\n",
              "      <td>0</td>\n",
              "    </tr>\n",
              "  </tbody>\n",
              "</table>\n",
              "<p>5000 rows × 4 columns</p>\n",
              "</div>\n",
              "      <button class=\"colab-df-convert\" onclick=\"convertToInteractive('df-10f2119b-0c39-4d6c-8a29-cf02cd235521')\"\n",
              "              title=\"Convert this dataframe to an interactive table.\"\n",
              "              style=\"display:none;\">\n",
              "        \n",
              "  <svg xmlns=\"http://www.w3.org/2000/svg\" height=\"24px\"viewBox=\"0 0 24 24\"\n",
              "       width=\"24px\">\n",
              "    <path d=\"M0 0h24v24H0V0z\" fill=\"none\"/>\n",
              "    <path d=\"M18.56 5.44l.94 2.06.94-2.06 2.06-.94-2.06-.94-.94-2.06-.94 2.06-2.06.94zm-11 1L8.5 8.5l.94-2.06 2.06-.94-2.06-.94L8.5 2.5l-.94 2.06-2.06.94zm10 10l.94 2.06.94-2.06 2.06-.94-2.06-.94-.94-2.06-.94 2.06-2.06.94z\"/><path d=\"M17.41 7.96l-1.37-1.37c-.4-.4-.92-.59-1.43-.59-.52 0-1.04.2-1.43.59L10.3 9.45l-7.72 7.72c-.78.78-.78 2.05 0 2.83L4 21.41c.39.39.9.59 1.41.59.51 0 1.02-.2 1.41-.59l7.78-7.78 2.81-2.81c.8-.78.8-2.07 0-2.86zM5.41 20L4 18.59l7.72-7.72 1.47 1.35L5.41 20z\"/>\n",
              "  </svg>\n",
              "      </button>\n",
              "      \n",
              "  <style>\n",
              "    .colab-df-container {\n",
              "      display:flex;\n",
              "      flex-wrap:wrap;\n",
              "      gap: 12px;\n",
              "    }\n",
              "\n",
              "    .colab-df-convert {\n",
              "      background-color: #E8F0FE;\n",
              "      border: none;\n",
              "      border-radius: 50%;\n",
              "      cursor: pointer;\n",
              "      display: none;\n",
              "      fill: #1967D2;\n",
              "      height: 32px;\n",
              "      padding: 0 0 0 0;\n",
              "      width: 32px;\n",
              "    }\n",
              "\n",
              "    .colab-df-convert:hover {\n",
              "      background-color: #E2EBFA;\n",
              "      box-shadow: 0px 1px 2px rgba(60, 64, 67, 0.3), 0px 1px 3px 1px rgba(60, 64, 67, 0.15);\n",
              "      fill: #174EA6;\n",
              "    }\n",
              "\n",
              "    [theme=dark] .colab-df-convert {\n",
              "      background-color: #3B4455;\n",
              "      fill: #D2E3FC;\n",
              "    }\n",
              "\n",
              "    [theme=dark] .colab-df-convert:hover {\n",
              "      background-color: #434B5C;\n",
              "      box-shadow: 0px 1px 3px 1px rgba(0, 0, 0, 0.15);\n",
              "      filter: drop-shadow(0px 1px 2px rgba(0, 0, 0, 0.3));\n",
              "      fill: #FFFFFF;\n",
              "    }\n",
              "  </style>\n",
              "\n",
              "      <script>\n",
              "        const buttonEl =\n",
              "          document.querySelector('#df-10f2119b-0c39-4d6c-8a29-cf02cd235521 button.colab-df-convert');\n",
              "        buttonEl.style.display =\n",
              "          google.colab.kernel.accessAllowed ? 'block' : 'none';\n",
              "\n",
              "        async function convertToInteractive(key) {\n",
              "          const element = document.querySelector('#df-10f2119b-0c39-4d6c-8a29-cf02cd235521');\n",
              "          const dataTable =\n",
              "            await google.colab.kernel.invokeFunction('convertToInteractive',\n",
              "                                                     [key], {});\n",
              "          if (!dataTable) return;\n",
              "\n",
              "          const docLinkHtml = 'Like what you see? Visit the ' +\n",
              "            '<a target=\"_blank\" href=https://colab.research.google.com/notebooks/data_table.ipynb>data table notebook</a>'\n",
              "            + ' to learn more about interactive tables.';\n",
              "          element.innerHTML = '';\n",
              "          dataTable['output_type'] = 'display_data';\n",
              "          await google.colab.output.renderOutput(dataTable, element);\n",
              "          const docLink = document.createElement('div');\n",
              "          docLink.innerHTML = docLinkHtml;\n",
              "          element.appendChild(docLink);\n",
              "        }\n",
              "      </script>\n",
              "    </div>\n",
              "  </div>\n",
              "  "
            ]
          },
          "metadata": {},
          "execution_count": 44
        }
      ]
    },
    {
      "cell_type": "markdown",
      "source": [
        "<font size=3> Para entrenar el modelo vamos a realizar una aproximación frecuentista, es decir, los valores con los que vamos a alimentar el algoritmo representan las veces que cada palabra se encontró en las reseñas positivas y negativas. Dicho esto, creamos nuevamente los *'corpus'* y los diccionarios de frecuencias correspondientes. "
      ],
      "metadata": {
        "id": "R2PM9LhflTnO"
      }
    },
    {
      "cell_type": "code",
      "source": [
        "# Creamos los corpus para ambas etiquetas con los datos de entrenamiento\n",
        "train_neg_corpus = [words[i] for words in train_neg.review_clean for i in range(len(words))]\n",
        "train_pos_corpus = [words[i] for words in train_pos.review_clean for i in range(len(words))] "
      ],
      "metadata": {
        "id": "fJbzLyZwH34y"
      },
      "execution_count": null,
      "outputs": []
    },
    {
      "cell_type": "code",
      "source": [
        "print('Longitud del corpus positivo:\\t', len(train_pos_corpus))\n",
        "print('\\nLongitud del corpus negativo', len(train_neg_corpus))"
      ],
      "metadata": {
        "id": "OGhu24XmIFgI",
        "colab": {
          "base_uri": "https://localhost:8080/"
        },
        "outputId": "26d13688-f71f-48b1-e241-80afda04b514"
      },
      "execution_count": null,
      "outputs": [
        {
          "output_type": "stream",
          "name": "stdout",
          "text": [
            "Longitud del corpus positivo:\t 2397697\n",
            "\n",
            "Longitud del corpus negativo 2341733\n"
          ]
        }
      ]
    },
    {
      "cell_type": "code",
      "source": [
        "# Creamos nuevamente los diccionarios de frecuencias\n",
        "neg_freq = nltk.FreqDist(train_neg_corpus)\n",
        "pos_freq = nltk.FreqDist(train_pos_corpus)"
      ],
      "metadata": {
        "id": "QRKEfy6AM8Ow"
      },
      "execution_count": null,
      "outputs": []
    },
    {
      "cell_type": "markdown",
      "source": [
        "<font size=3> Finalmente unimos los conjuntos positivos y negativos para entrenamiento y prueba."
      ],
      "metadata": {
        "id": "0V1gKcMFmqLh"
      }
    },
    {
      "cell_type": "code",
      "source": [
        "data_train = pd.concat([train_neg,train_pos],ignore_index=True)\n",
        "data_test = pd.concat([test_neg,test_pos],ignore_index=True)"
      ],
      "metadata": {
        "id": "-bo-xlQDTz8P"
      },
      "execution_count": null,
      "outputs": []
    },
    {
      "cell_type": "markdown",
      "source": [
        "Y para no sesgar el algoritmo, mezclamos el orden."
      ],
      "metadata": {
        "id": "EwxXWd7Am79g"
      }
    },
    {
      "cell_type": "code",
      "source": [
        "data_train = data_train.sample(frac=1)\n",
        "data_test = data_test.sample(frac=1)"
      ],
      "metadata": {
        "id": "4TojjAtrTz5V"
      },
      "execution_count": null,
      "outputs": []
    },
    {
      "cell_type": "code",
      "source": [
        "data_train.head()"
      ],
      "metadata": {
        "id": "axfgTRzenOUZ",
        "colab": {
          "base_uri": "https://localhost:8080/",
          "height": 206
        },
        "outputId": "fe1a8493-bd9d-469d-9bc7-7cd3876c866b"
      },
      "execution_count": null,
      "outputs": [
        {
          "output_type": "execute_result",
          "data": {
            "text/plain": [
              "                                                  review sentiment  \\\n",
              "28763  I liked this a lot. <br /><br />The camera ang...  positive   \n",
              "31760  Watching Fire and Ice for the first time remin...  positive   \n",
              "16002  The final pairing of Nelson Eddy and Jeanette ...  negative   \n",
              "32249  If you like the excitement of a good submarine...  positive   \n",
              "34400  This indie film looks at the lives of a group ...  positive   \n",
              "\n",
              "                                            review_clean  sentiment_encoded  \n",
              "28763  [like, lot, camera, angl, cool, jumpi, like, b...                  1  \n",
              "31760  [watch, fire, ice, first, time, remind, experi...                  1  \n",
              "16002  [final, pair, nelson, eddi, jeanett, macdonald...                  0  \n",
              "32249  [like, excit, good, submarin, drama, fun, good...                  1  \n",
              "34400  [indi, film, look, live, group, peopl, take, a...                  1  "
            ],
            "text/html": [
              "\n",
              "  <div id=\"df-aec51396-27d8-484f-b35e-d6e67f50be45\">\n",
              "    <div class=\"colab-df-container\">\n",
              "      <div>\n",
              "<style scoped>\n",
              "    .dataframe tbody tr th:only-of-type {\n",
              "        vertical-align: middle;\n",
              "    }\n",
              "\n",
              "    .dataframe tbody tr th {\n",
              "        vertical-align: top;\n",
              "    }\n",
              "\n",
              "    .dataframe thead th {\n",
              "        text-align: right;\n",
              "    }\n",
              "</style>\n",
              "<table border=\"1\" class=\"dataframe\">\n",
              "  <thead>\n",
              "    <tr style=\"text-align: right;\">\n",
              "      <th></th>\n",
              "      <th>review</th>\n",
              "      <th>sentiment</th>\n",
              "      <th>review_clean</th>\n",
              "      <th>sentiment_encoded</th>\n",
              "    </tr>\n",
              "  </thead>\n",
              "  <tbody>\n",
              "    <tr>\n",
              "      <th>28763</th>\n",
              "      <td>I liked this a lot. &lt;br /&gt;&lt;br /&gt;The camera ang...</td>\n",
              "      <td>positive</td>\n",
              "      <td>[like, lot, camera, angl, cool, jumpi, like, b...</td>\n",
              "      <td>1</td>\n",
              "    </tr>\n",
              "    <tr>\n",
              "      <th>31760</th>\n",
              "      <td>Watching Fire and Ice for the first time remin...</td>\n",
              "      <td>positive</td>\n",
              "      <td>[watch, fire, ice, first, time, remind, experi...</td>\n",
              "      <td>1</td>\n",
              "    </tr>\n",
              "    <tr>\n",
              "      <th>16002</th>\n",
              "      <td>The final pairing of Nelson Eddy and Jeanette ...</td>\n",
              "      <td>negative</td>\n",
              "      <td>[final, pair, nelson, eddi, jeanett, macdonald...</td>\n",
              "      <td>0</td>\n",
              "    </tr>\n",
              "    <tr>\n",
              "      <th>32249</th>\n",
              "      <td>If you like the excitement of a good submarine...</td>\n",
              "      <td>positive</td>\n",
              "      <td>[like, excit, good, submarin, drama, fun, good...</td>\n",
              "      <td>1</td>\n",
              "    </tr>\n",
              "    <tr>\n",
              "      <th>34400</th>\n",
              "      <td>This indie film looks at the lives of a group ...</td>\n",
              "      <td>positive</td>\n",
              "      <td>[indi, film, look, live, group, peopl, take, a...</td>\n",
              "      <td>1</td>\n",
              "    </tr>\n",
              "  </tbody>\n",
              "</table>\n",
              "</div>\n",
              "      <button class=\"colab-df-convert\" onclick=\"convertToInteractive('df-aec51396-27d8-484f-b35e-d6e67f50be45')\"\n",
              "              title=\"Convert this dataframe to an interactive table.\"\n",
              "              style=\"display:none;\">\n",
              "        \n",
              "  <svg xmlns=\"http://www.w3.org/2000/svg\" height=\"24px\"viewBox=\"0 0 24 24\"\n",
              "       width=\"24px\">\n",
              "    <path d=\"M0 0h24v24H0V0z\" fill=\"none\"/>\n",
              "    <path d=\"M18.56 5.44l.94 2.06.94-2.06 2.06-.94-2.06-.94-.94-2.06-.94 2.06-2.06.94zm-11 1L8.5 8.5l.94-2.06 2.06-.94-2.06-.94L8.5 2.5l-.94 2.06-2.06.94zm10 10l.94 2.06.94-2.06 2.06-.94-2.06-.94-.94-2.06-.94 2.06-2.06.94z\"/><path d=\"M17.41 7.96l-1.37-1.37c-.4-.4-.92-.59-1.43-.59-.52 0-1.04.2-1.43.59L10.3 9.45l-7.72 7.72c-.78.78-.78 2.05 0 2.83L4 21.41c.39.39.9.59 1.41.59.51 0 1.02-.2 1.41-.59l7.78-7.78 2.81-2.81c.8-.78.8-2.07 0-2.86zM5.41 20L4 18.59l7.72-7.72 1.47 1.35L5.41 20z\"/>\n",
              "  </svg>\n",
              "      </button>\n",
              "      \n",
              "  <style>\n",
              "    .colab-df-container {\n",
              "      display:flex;\n",
              "      flex-wrap:wrap;\n",
              "      gap: 12px;\n",
              "    }\n",
              "\n",
              "    .colab-df-convert {\n",
              "      background-color: #E8F0FE;\n",
              "      border: none;\n",
              "      border-radius: 50%;\n",
              "      cursor: pointer;\n",
              "      display: none;\n",
              "      fill: #1967D2;\n",
              "      height: 32px;\n",
              "      padding: 0 0 0 0;\n",
              "      width: 32px;\n",
              "    }\n",
              "\n",
              "    .colab-df-convert:hover {\n",
              "      background-color: #E2EBFA;\n",
              "      box-shadow: 0px 1px 2px rgba(60, 64, 67, 0.3), 0px 1px 3px 1px rgba(60, 64, 67, 0.15);\n",
              "      fill: #174EA6;\n",
              "    }\n",
              "\n",
              "    [theme=dark] .colab-df-convert {\n",
              "      background-color: #3B4455;\n",
              "      fill: #D2E3FC;\n",
              "    }\n",
              "\n",
              "    [theme=dark] .colab-df-convert:hover {\n",
              "      background-color: #434B5C;\n",
              "      box-shadow: 0px 1px 3px 1px rgba(0, 0, 0, 0.15);\n",
              "      filter: drop-shadow(0px 1px 2px rgba(0, 0, 0, 0.3));\n",
              "      fill: #FFFFFF;\n",
              "    }\n",
              "  </style>\n",
              "\n",
              "      <script>\n",
              "        const buttonEl =\n",
              "          document.querySelector('#df-aec51396-27d8-484f-b35e-d6e67f50be45 button.colab-df-convert');\n",
              "        buttonEl.style.display =\n",
              "          google.colab.kernel.accessAllowed ? 'block' : 'none';\n",
              "\n",
              "        async function convertToInteractive(key) {\n",
              "          const element = document.querySelector('#df-aec51396-27d8-484f-b35e-d6e67f50be45');\n",
              "          const dataTable =\n",
              "            await google.colab.kernel.invokeFunction('convertToInteractive',\n",
              "                                                     [key], {});\n",
              "          if (!dataTable) return;\n",
              "\n",
              "          const docLinkHtml = 'Like what you see? Visit the ' +\n",
              "            '<a target=\"_blank\" href=https://colab.research.google.com/notebooks/data_table.ipynb>data table notebook</a>'\n",
              "            + ' to learn more about interactive tables.';\n",
              "          element.innerHTML = '';\n",
              "          dataTable['output_type'] = 'display_data';\n",
              "          await google.colab.output.renderOutput(dataTable, element);\n",
              "          const docLink = document.createElement('div');\n",
              "          docLink.innerHTML = docLinkHtml;\n",
              "          element.appendChild(docLink);\n",
              "        }\n",
              "      </script>\n",
              "    </div>\n",
              "  </div>\n",
              "  "
            ]
          },
          "metadata": {},
          "execution_count": 50
        }
      ]
    },
    {
      "cell_type": "code",
      "source": [
        "data_test.head()"
      ],
      "metadata": {
        "id": "UPcn7ZKunO6r",
        "colab": {
          "base_uri": "https://localhost:8080/",
          "height": 206
        },
        "outputId": "7699c4b8-79c6-48c6-ac01-60af11c0cfd2"
      },
      "execution_count": null,
      "outputs": [
        {
          "output_type": "execute_result",
          "data": {
            "text/plain": [
              "                                                 review sentiment  \\\n",
              "5522  This Columbo episode is probably noted more fo...  positive   \n",
              "5361  Michael (played by Steven Robertson) has cereb...  positive   \n",
              "5372  A remarkable piece of documentary, giving a vi...  positive   \n",
              "4403  First of all, I was expecting \"Caged Heat\" to ...  negative   \n",
              "4231  Think \"stage play\". This is worth seeing once ...  negative   \n",
              "\n",
              "                                           review_clean  sentiment_encoded  \n",
              "5522  [columbo, episod, probabl, note, director, ste...                  1  \n",
              "5361  [michael, play, steven, robertson, cereb, pals...                  1  \n",
              "5372  [remark, piec, documentari, give, vivid, depic...                  1  \n",
              "4403  [first, expect, cage, heat, along, line, ilsa,...                  0  \n",
              "4231  [think, stage, play, worth, see, perform, lion...                  0  "
            ],
            "text/html": [
              "\n",
              "  <div id=\"df-f645f7ac-7784-4b9f-b3a4-e9d1f52b9870\">\n",
              "    <div class=\"colab-df-container\">\n",
              "      <div>\n",
              "<style scoped>\n",
              "    .dataframe tbody tr th:only-of-type {\n",
              "        vertical-align: middle;\n",
              "    }\n",
              "\n",
              "    .dataframe tbody tr th {\n",
              "        vertical-align: top;\n",
              "    }\n",
              "\n",
              "    .dataframe thead th {\n",
              "        text-align: right;\n",
              "    }\n",
              "</style>\n",
              "<table border=\"1\" class=\"dataframe\">\n",
              "  <thead>\n",
              "    <tr style=\"text-align: right;\">\n",
              "      <th></th>\n",
              "      <th>review</th>\n",
              "      <th>sentiment</th>\n",
              "      <th>review_clean</th>\n",
              "      <th>sentiment_encoded</th>\n",
              "    </tr>\n",
              "  </thead>\n",
              "  <tbody>\n",
              "    <tr>\n",
              "      <th>5522</th>\n",
              "      <td>This Columbo episode is probably noted more fo...</td>\n",
              "      <td>positive</td>\n",
              "      <td>[columbo, episod, probabl, note, director, ste...</td>\n",
              "      <td>1</td>\n",
              "    </tr>\n",
              "    <tr>\n",
              "      <th>5361</th>\n",
              "      <td>Michael (played by Steven Robertson) has cereb...</td>\n",
              "      <td>positive</td>\n",
              "      <td>[michael, play, steven, robertson, cereb, pals...</td>\n",
              "      <td>1</td>\n",
              "    </tr>\n",
              "    <tr>\n",
              "      <th>5372</th>\n",
              "      <td>A remarkable piece of documentary, giving a vi...</td>\n",
              "      <td>positive</td>\n",
              "      <td>[remark, piec, documentari, give, vivid, depic...</td>\n",
              "      <td>1</td>\n",
              "    </tr>\n",
              "    <tr>\n",
              "      <th>4403</th>\n",
              "      <td>First of all, I was expecting \"Caged Heat\" to ...</td>\n",
              "      <td>negative</td>\n",
              "      <td>[first, expect, cage, heat, along, line, ilsa,...</td>\n",
              "      <td>0</td>\n",
              "    </tr>\n",
              "    <tr>\n",
              "      <th>4231</th>\n",
              "      <td>Think \"stage play\". This is worth seeing once ...</td>\n",
              "      <td>negative</td>\n",
              "      <td>[think, stage, play, worth, see, perform, lion...</td>\n",
              "      <td>0</td>\n",
              "    </tr>\n",
              "  </tbody>\n",
              "</table>\n",
              "</div>\n",
              "      <button class=\"colab-df-convert\" onclick=\"convertToInteractive('df-f645f7ac-7784-4b9f-b3a4-e9d1f52b9870')\"\n",
              "              title=\"Convert this dataframe to an interactive table.\"\n",
              "              style=\"display:none;\">\n",
              "        \n",
              "  <svg xmlns=\"http://www.w3.org/2000/svg\" height=\"24px\"viewBox=\"0 0 24 24\"\n",
              "       width=\"24px\">\n",
              "    <path d=\"M0 0h24v24H0V0z\" fill=\"none\"/>\n",
              "    <path d=\"M18.56 5.44l.94 2.06.94-2.06 2.06-.94-2.06-.94-.94-2.06-.94 2.06-2.06.94zm-11 1L8.5 8.5l.94-2.06 2.06-.94-2.06-.94L8.5 2.5l-.94 2.06-2.06.94zm10 10l.94 2.06.94-2.06 2.06-.94-2.06-.94-.94-2.06-.94 2.06-2.06.94z\"/><path d=\"M17.41 7.96l-1.37-1.37c-.4-.4-.92-.59-1.43-.59-.52 0-1.04.2-1.43.59L10.3 9.45l-7.72 7.72c-.78.78-.78 2.05 0 2.83L4 21.41c.39.39.9.59 1.41.59.51 0 1.02-.2 1.41-.59l7.78-7.78 2.81-2.81c.8-.78.8-2.07 0-2.86zM5.41 20L4 18.59l7.72-7.72 1.47 1.35L5.41 20z\"/>\n",
              "  </svg>\n",
              "      </button>\n",
              "      \n",
              "  <style>\n",
              "    .colab-df-container {\n",
              "      display:flex;\n",
              "      flex-wrap:wrap;\n",
              "      gap: 12px;\n",
              "    }\n",
              "\n",
              "    .colab-df-convert {\n",
              "      background-color: #E8F0FE;\n",
              "      border: none;\n",
              "      border-radius: 50%;\n",
              "      cursor: pointer;\n",
              "      display: none;\n",
              "      fill: #1967D2;\n",
              "      height: 32px;\n",
              "      padding: 0 0 0 0;\n",
              "      width: 32px;\n",
              "    }\n",
              "\n",
              "    .colab-df-convert:hover {\n",
              "      background-color: #E2EBFA;\n",
              "      box-shadow: 0px 1px 2px rgba(60, 64, 67, 0.3), 0px 1px 3px 1px rgba(60, 64, 67, 0.15);\n",
              "      fill: #174EA6;\n",
              "    }\n",
              "\n",
              "    [theme=dark] .colab-df-convert {\n",
              "      background-color: #3B4455;\n",
              "      fill: #D2E3FC;\n",
              "    }\n",
              "\n",
              "    [theme=dark] .colab-df-convert:hover {\n",
              "      background-color: #434B5C;\n",
              "      box-shadow: 0px 1px 3px 1px rgba(0, 0, 0, 0.15);\n",
              "      filter: drop-shadow(0px 1px 2px rgba(0, 0, 0, 0.3));\n",
              "      fill: #FFFFFF;\n",
              "    }\n",
              "  </style>\n",
              "\n",
              "      <script>\n",
              "        const buttonEl =\n",
              "          document.querySelector('#df-f645f7ac-7784-4b9f-b3a4-e9d1f52b9870 button.colab-df-convert');\n",
              "        buttonEl.style.display =\n",
              "          google.colab.kernel.accessAllowed ? 'block' : 'none';\n",
              "\n",
              "        async function convertToInteractive(key) {\n",
              "          const element = document.querySelector('#df-f645f7ac-7784-4b9f-b3a4-e9d1f52b9870');\n",
              "          const dataTable =\n",
              "            await google.colab.kernel.invokeFunction('convertToInteractive',\n",
              "                                                     [key], {});\n",
              "          if (!dataTable) return;\n",
              "\n",
              "          const docLinkHtml = 'Like what you see? Visit the ' +\n",
              "            '<a target=\"_blank\" href=https://colab.research.google.com/notebooks/data_table.ipynb>data table notebook</a>'\n",
              "            + ' to learn more about interactive tables.';\n",
              "          element.innerHTML = '';\n",
              "          dataTable['output_type'] = 'display_data';\n",
              "          await google.colab.output.renderOutput(dataTable, element);\n",
              "          const docLink = document.createElement('div');\n",
              "          docLink.innerHTML = docLinkHtml;\n",
              "          element.appendChild(docLink);\n",
              "        }\n",
              "      </script>\n",
              "    </div>\n",
              "  </div>\n",
              "  "
            ]
          },
          "metadata": {},
          "execution_count": 51
        }
      ]
    },
    {
      "cell_type": "markdown",
      "source": [
        "<font size=3> Lo que sigue es traducir el texto a números de forma que el algoritmo pueda leerlo, así que creamos la función *'vectorize_review'*, la cual a cada palabra la convierte en un vector con entradas iguales a la frecuencia con que se encuentran en cada *corpus* y la suma de esos vectores representan el vector asociado a cada reseña."
      ],
      "metadata": {
        "id": "Aw2-9jrBnW7A"
      }
    },
    {
      "cell_type": "code",
      "source": [
        "def vectorize_review(review):\n",
        "  #Creamos un vector de 3 entradas\n",
        "  x = np.zeros((1,3))\n",
        "  # primera entrada igual a 1\n",
        "  x[0,0] = 1 \n",
        "  for word in review:\n",
        "    # Segunda entrada es la suma de la frecuencias de cada palabra positiva en la reseña\n",
        "    x[0,1] += pos_freq.get(word,0)\n",
        "    # Tercera entrada es la suma de las frecuencias de cada palabra negativa en la reseña\n",
        "    x[0,2] += neg_freq.get(word,0)\n",
        "  return x"
      ],
      "metadata": {
        "id": "DLg8Y7h4NLeE"
      },
      "execution_count": null,
      "outputs": []
    },
    {
      "cell_type": "code",
      "source": [
        "# Aplicamos la función a 'data_train'\n",
        "data_train['review_vectorized'] = data_train.review_clean.apply(vectorize_review)\n",
        "data_train.head() "
      ],
      "metadata": {
        "id": "f-KQLUr4TaL0",
        "colab": {
          "base_uri": "https://localhost:8080/"
        },
        "outputId": "b6bdcadb-2c8b-46e8-cee7-d5b592c2adab"
      },
      "execution_count": null,
      "outputs": [
        {
          "output_type": "execute_result",
          "data": {
            "text/plain": [
              "                                                  review sentiment  \\\n",
              "28763  I liked this a lot. <br /><br />The camera ang...  positive   \n",
              "31760  Watching Fire and Ice for the first time remin...  positive   \n",
              "16002  The final pairing of Nelson Eddy and Jeanette ...  negative   \n",
              "32249  If you like the excitement of a good submarine...  positive   \n",
              "34400  This indie film looks at the lives of a group ...  positive   \n",
              "\n",
              "                                            review_clean  sentiment_encoded  \\\n",
              "28763  [like, lot, camera, angl, cool, jumpi, like, b...                  1   \n",
              "31760  [watch, fire, ice, first, time, remind, experi...                  1   \n",
              "16002  [final, pair, nelson, eddi, jeanett, macdonald...                  0   \n",
              "32249  [like, excit, good, submarin, drama, fun, good...                  1   \n",
              "34400  [indi, film, look, live, group, peopl, take, a...                  1   \n",
              "\n",
              "                 review_vectorized  \n",
              "28763  [[1.0, 267735.0, 284534.0]]  \n",
              "31760  [[1.0, 738725.0, 756284.0]]  \n",
              "16002  [[1.0, 132506.0, 134226.0]]  \n",
              "32249  [[1.0, 231787.0, 225605.0]]  \n",
              "34400  [[1.0, 300639.0, 272523.0]]  "
            ],
            "text/html": [
              "\n",
              "  <div id=\"df-711b2721-f580-49ba-aeab-12e14661d2cb\">\n",
              "    <div class=\"colab-df-container\">\n",
              "      <div>\n",
              "<style scoped>\n",
              "    .dataframe tbody tr th:only-of-type {\n",
              "        vertical-align: middle;\n",
              "    }\n",
              "\n",
              "    .dataframe tbody tr th {\n",
              "        vertical-align: top;\n",
              "    }\n",
              "\n",
              "    .dataframe thead th {\n",
              "        text-align: right;\n",
              "    }\n",
              "</style>\n",
              "<table border=\"1\" class=\"dataframe\">\n",
              "  <thead>\n",
              "    <tr style=\"text-align: right;\">\n",
              "      <th></th>\n",
              "      <th>review</th>\n",
              "      <th>sentiment</th>\n",
              "      <th>review_clean</th>\n",
              "      <th>sentiment_encoded</th>\n",
              "      <th>review_vectorized</th>\n",
              "    </tr>\n",
              "  </thead>\n",
              "  <tbody>\n",
              "    <tr>\n",
              "      <th>28763</th>\n",
              "      <td>I liked this a lot. &lt;br /&gt;&lt;br /&gt;The camera ang...</td>\n",
              "      <td>positive</td>\n",
              "      <td>[like, lot, camera, angl, cool, jumpi, like, b...</td>\n",
              "      <td>1</td>\n",
              "      <td>[[1.0, 267735.0, 284534.0]]</td>\n",
              "    </tr>\n",
              "    <tr>\n",
              "      <th>31760</th>\n",
              "      <td>Watching Fire and Ice for the first time remin...</td>\n",
              "      <td>positive</td>\n",
              "      <td>[watch, fire, ice, first, time, remind, experi...</td>\n",
              "      <td>1</td>\n",
              "      <td>[[1.0, 738725.0, 756284.0]]</td>\n",
              "    </tr>\n",
              "    <tr>\n",
              "      <th>16002</th>\n",
              "      <td>The final pairing of Nelson Eddy and Jeanette ...</td>\n",
              "      <td>negative</td>\n",
              "      <td>[final, pair, nelson, eddi, jeanett, macdonald...</td>\n",
              "      <td>0</td>\n",
              "      <td>[[1.0, 132506.0, 134226.0]]</td>\n",
              "    </tr>\n",
              "    <tr>\n",
              "      <th>32249</th>\n",
              "      <td>If you like the excitement of a good submarine...</td>\n",
              "      <td>positive</td>\n",
              "      <td>[like, excit, good, submarin, drama, fun, good...</td>\n",
              "      <td>1</td>\n",
              "      <td>[[1.0, 231787.0, 225605.0]]</td>\n",
              "    </tr>\n",
              "    <tr>\n",
              "      <th>34400</th>\n",
              "      <td>This indie film looks at the lives of a group ...</td>\n",
              "      <td>positive</td>\n",
              "      <td>[indi, film, look, live, group, peopl, take, a...</td>\n",
              "      <td>1</td>\n",
              "      <td>[[1.0, 300639.0, 272523.0]]</td>\n",
              "    </tr>\n",
              "  </tbody>\n",
              "</table>\n",
              "</div>\n",
              "      <button class=\"colab-df-convert\" onclick=\"convertToInteractive('df-711b2721-f580-49ba-aeab-12e14661d2cb')\"\n",
              "              title=\"Convert this dataframe to an interactive table.\"\n",
              "              style=\"display:none;\">\n",
              "        \n",
              "  <svg xmlns=\"http://www.w3.org/2000/svg\" height=\"24px\"viewBox=\"0 0 24 24\"\n",
              "       width=\"24px\">\n",
              "    <path d=\"M0 0h24v24H0V0z\" fill=\"none\"/>\n",
              "    <path d=\"M18.56 5.44l.94 2.06.94-2.06 2.06-.94-2.06-.94-.94-2.06-.94 2.06-2.06.94zm-11 1L8.5 8.5l.94-2.06 2.06-.94-2.06-.94L8.5 2.5l-.94 2.06-2.06.94zm10 10l.94 2.06.94-2.06 2.06-.94-2.06-.94-.94-2.06-.94 2.06-2.06.94z\"/><path d=\"M17.41 7.96l-1.37-1.37c-.4-.4-.92-.59-1.43-.59-.52 0-1.04.2-1.43.59L10.3 9.45l-7.72 7.72c-.78.78-.78 2.05 0 2.83L4 21.41c.39.39.9.59 1.41.59.51 0 1.02-.2 1.41-.59l7.78-7.78 2.81-2.81c.8-.78.8-2.07 0-2.86zM5.41 20L4 18.59l7.72-7.72 1.47 1.35L5.41 20z\"/>\n",
              "  </svg>\n",
              "      </button>\n",
              "      \n",
              "  <style>\n",
              "    .colab-df-container {\n",
              "      display:flex;\n",
              "      flex-wrap:wrap;\n",
              "      gap: 12px;\n",
              "    }\n",
              "\n",
              "    .colab-df-convert {\n",
              "      background-color: #E8F0FE;\n",
              "      border: none;\n",
              "      border-radius: 50%;\n",
              "      cursor: pointer;\n",
              "      display: none;\n",
              "      fill: #1967D2;\n",
              "      height: 32px;\n",
              "      padding: 0 0 0 0;\n",
              "      width: 32px;\n",
              "    }\n",
              "\n",
              "    .colab-df-convert:hover {\n",
              "      background-color: #E2EBFA;\n",
              "      box-shadow: 0px 1px 2px rgba(60, 64, 67, 0.3), 0px 1px 3px 1px rgba(60, 64, 67, 0.15);\n",
              "      fill: #174EA6;\n",
              "    }\n",
              "\n",
              "    [theme=dark] .colab-df-convert {\n",
              "      background-color: #3B4455;\n",
              "      fill: #D2E3FC;\n",
              "    }\n",
              "\n",
              "    [theme=dark] .colab-df-convert:hover {\n",
              "      background-color: #434B5C;\n",
              "      box-shadow: 0px 1px 3px 1px rgba(0, 0, 0, 0.15);\n",
              "      filter: drop-shadow(0px 1px 2px rgba(0, 0, 0, 0.3));\n",
              "      fill: #FFFFFF;\n",
              "    }\n",
              "  </style>\n",
              "\n",
              "      <script>\n",
              "        const buttonEl =\n",
              "          document.querySelector('#df-711b2721-f580-49ba-aeab-12e14661d2cb button.colab-df-convert');\n",
              "        buttonEl.style.display =\n",
              "          google.colab.kernel.accessAllowed ? 'block' : 'none';\n",
              "\n",
              "        async function convertToInteractive(key) {\n",
              "          const element = document.querySelector('#df-711b2721-f580-49ba-aeab-12e14661d2cb');\n",
              "          const dataTable =\n",
              "            await google.colab.kernel.invokeFunction('convertToInteractive',\n",
              "                                                     [key], {});\n",
              "          if (!dataTable) return;\n",
              "\n",
              "          const docLinkHtml = 'Like what you see? Visit the ' +\n",
              "            '<a target=\"_blank\" href=https://colab.research.google.com/notebooks/data_table.ipynb>data table notebook</a>'\n",
              "            + ' to learn more about interactive tables.';\n",
              "          element.innerHTML = '';\n",
              "          dataTable['output_type'] = 'display_data';\n",
              "          await google.colab.output.renderOutput(dataTable, element);\n",
              "          const docLink = document.createElement('div');\n",
              "          docLink.innerHTML = docLinkHtml;\n",
              "          element.appendChild(docLink);\n",
              "        }\n",
              "      </script>\n",
              "    </div>\n",
              "  </div>\n",
              "  "
            ]
          },
          "metadata": {},
          "execution_count": 53
        }
      ]
    },
    {
      "cell_type": "code",
      "source": [
        "# Aplicamos la función a 'data_test'\n",
        "data_test['review_vectorized'] = data_test.review_clean.apply(vectorize_review)\n",
        "data_test.head() "
      ],
      "metadata": {
        "id": "Z2lZdcb4Tzgi",
        "colab": {
          "base_uri": "https://localhost:8080/"
        },
        "outputId": "11b8bdaf-c3cb-4ff1-ba6d-6ddb60157948"
      },
      "execution_count": null,
      "outputs": [
        {
          "output_type": "execute_result",
          "data": {
            "text/plain": [
              "                                                 review sentiment  \\\n",
              "5522  This Columbo episode is probably noted more fo...  positive   \n",
              "5361  Michael (played by Steven Robertson) has cereb...  positive   \n",
              "5372  A remarkable piece of documentary, giving a vi...  positive   \n",
              "4403  First of all, I was expecting \"Caged Heat\" to ...  negative   \n",
              "4231  Think \"stage play\". This is worth seeing once ...  negative   \n",
              "\n",
              "                                           review_clean  sentiment_encoded  \\\n",
              "5522  [columbo, episod, probabl, note, director, ste...                  1   \n",
              "5361  [michael, play, steven, robertson, cereb, pals...                  1   \n",
              "5372  [remark, piec, documentari, give, vivid, depic...                  1   \n",
              "4403  [first, expect, cage, heat, along, line, ilsa,...                  0   \n",
              "4231  [think, stage, play, worth, see, perform, lion...                  0   \n",
              "\n",
              "                review_vectorized  \n",
              "5522  [[1.0, 305311.0, 314283.0]]  \n",
              "5361  [[1.0, 621864.0, 558596.0]]  \n",
              "5372  [[1.0, 297417.0, 302147.0]]  \n",
              "4403  [[1.0, 247558.0, 272285.0]]  \n",
              "4231  [[1.0, 217885.0, 207658.0]]  "
            ],
            "text/html": [
              "\n",
              "  <div id=\"df-5c9901d6-a942-48e8-b801-a3cd1c6d4225\">\n",
              "    <div class=\"colab-df-container\">\n",
              "      <div>\n",
              "<style scoped>\n",
              "    .dataframe tbody tr th:only-of-type {\n",
              "        vertical-align: middle;\n",
              "    }\n",
              "\n",
              "    .dataframe tbody tr th {\n",
              "        vertical-align: top;\n",
              "    }\n",
              "\n",
              "    .dataframe thead th {\n",
              "        text-align: right;\n",
              "    }\n",
              "</style>\n",
              "<table border=\"1\" class=\"dataframe\">\n",
              "  <thead>\n",
              "    <tr style=\"text-align: right;\">\n",
              "      <th></th>\n",
              "      <th>review</th>\n",
              "      <th>sentiment</th>\n",
              "      <th>review_clean</th>\n",
              "      <th>sentiment_encoded</th>\n",
              "      <th>review_vectorized</th>\n",
              "    </tr>\n",
              "  </thead>\n",
              "  <tbody>\n",
              "    <tr>\n",
              "      <th>5522</th>\n",
              "      <td>This Columbo episode is probably noted more fo...</td>\n",
              "      <td>positive</td>\n",
              "      <td>[columbo, episod, probabl, note, director, ste...</td>\n",
              "      <td>1</td>\n",
              "      <td>[[1.0, 305311.0, 314283.0]]</td>\n",
              "    </tr>\n",
              "    <tr>\n",
              "      <th>5361</th>\n",
              "      <td>Michael (played by Steven Robertson) has cereb...</td>\n",
              "      <td>positive</td>\n",
              "      <td>[michael, play, steven, robertson, cereb, pals...</td>\n",
              "      <td>1</td>\n",
              "      <td>[[1.0, 621864.0, 558596.0]]</td>\n",
              "    </tr>\n",
              "    <tr>\n",
              "      <th>5372</th>\n",
              "      <td>A remarkable piece of documentary, giving a vi...</td>\n",
              "      <td>positive</td>\n",
              "      <td>[remark, piec, documentari, give, vivid, depic...</td>\n",
              "      <td>1</td>\n",
              "      <td>[[1.0, 297417.0, 302147.0]]</td>\n",
              "    </tr>\n",
              "    <tr>\n",
              "      <th>4403</th>\n",
              "      <td>First of all, I was expecting \"Caged Heat\" to ...</td>\n",
              "      <td>negative</td>\n",
              "      <td>[first, expect, cage, heat, along, line, ilsa,...</td>\n",
              "      <td>0</td>\n",
              "      <td>[[1.0, 247558.0, 272285.0]]</td>\n",
              "    </tr>\n",
              "    <tr>\n",
              "      <th>4231</th>\n",
              "      <td>Think \"stage play\". This is worth seeing once ...</td>\n",
              "      <td>negative</td>\n",
              "      <td>[think, stage, play, worth, see, perform, lion...</td>\n",
              "      <td>0</td>\n",
              "      <td>[[1.0, 217885.0, 207658.0]]</td>\n",
              "    </tr>\n",
              "  </tbody>\n",
              "</table>\n",
              "</div>\n",
              "      <button class=\"colab-df-convert\" onclick=\"convertToInteractive('df-5c9901d6-a942-48e8-b801-a3cd1c6d4225')\"\n",
              "              title=\"Convert this dataframe to an interactive table.\"\n",
              "              style=\"display:none;\">\n",
              "        \n",
              "  <svg xmlns=\"http://www.w3.org/2000/svg\" height=\"24px\"viewBox=\"0 0 24 24\"\n",
              "       width=\"24px\">\n",
              "    <path d=\"M0 0h24v24H0V0z\" fill=\"none\"/>\n",
              "    <path d=\"M18.56 5.44l.94 2.06.94-2.06 2.06-.94-2.06-.94-.94-2.06-.94 2.06-2.06.94zm-11 1L8.5 8.5l.94-2.06 2.06-.94-2.06-.94L8.5 2.5l-.94 2.06-2.06.94zm10 10l.94 2.06.94-2.06 2.06-.94-2.06-.94-.94-2.06-.94 2.06-2.06.94z\"/><path d=\"M17.41 7.96l-1.37-1.37c-.4-.4-.92-.59-1.43-.59-.52 0-1.04.2-1.43.59L10.3 9.45l-7.72 7.72c-.78.78-.78 2.05 0 2.83L4 21.41c.39.39.9.59 1.41.59.51 0 1.02-.2 1.41-.59l7.78-7.78 2.81-2.81c.8-.78.8-2.07 0-2.86zM5.41 20L4 18.59l7.72-7.72 1.47 1.35L5.41 20z\"/>\n",
              "  </svg>\n",
              "      </button>\n",
              "      \n",
              "  <style>\n",
              "    .colab-df-container {\n",
              "      display:flex;\n",
              "      flex-wrap:wrap;\n",
              "      gap: 12px;\n",
              "    }\n",
              "\n",
              "    .colab-df-convert {\n",
              "      background-color: #E8F0FE;\n",
              "      border: none;\n",
              "      border-radius: 50%;\n",
              "      cursor: pointer;\n",
              "      display: none;\n",
              "      fill: #1967D2;\n",
              "      height: 32px;\n",
              "      padding: 0 0 0 0;\n",
              "      width: 32px;\n",
              "    }\n",
              "\n",
              "    .colab-df-convert:hover {\n",
              "      background-color: #E2EBFA;\n",
              "      box-shadow: 0px 1px 2px rgba(60, 64, 67, 0.3), 0px 1px 3px 1px rgba(60, 64, 67, 0.15);\n",
              "      fill: #174EA6;\n",
              "    }\n",
              "\n",
              "    [theme=dark] .colab-df-convert {\n",
              "      background-color: #3B4455;\n",
              "      fill: #D2E3FC;\n",
              "    }\n",
              "\n",
              "    [theme=dark] .colab-df-convert:hover {\n",
              "      background-color: #434B5C;\n",
              "      box-shadow: 0px 1px 3px 1px rgba(0, 0, 0, 0.15);\n",
              "      filter: drop-shadow(0px 1px 2px rgba(0, 0, 0, 0.3));\n",
              "      fill: #FFFFFF;\n",
              "    }\n",
              "  </style>\n",
              "\n",
              "      <script>\n",
              "        const buttonEl =\n",
              "          document.querySelector('#df-5c9901d6-a942-48e8-b801-a3cd1c6d4225 button.colab-df-convert');\n",
              "        buttonEl.style.display =\n",
              "          google.colab.kernel.accessAllowed ? 'block' : 'none';\n",
              "\n",
              "        async function convertToInteractive(key) {\n",
              "          const element = document.querySelector('#df-5c9901d6-a942-48e8-b801-a3cd1c6d4225');\n",
              "          const dataTable =\n",
              "            await google.colab.kernel.invokeFunction('convertToInteractive',\n",
              "                                                     [key], {});\n",
              "          if (!dataTable) return;\n",
              "\n",
              "          const docLinkHtml = 'Like what you see? Visit the ' +\n",
              "            '<a target=\"_blank\" href=https://colab.research.google.com/notebooks/data_table.ipynb>data table notebook</a>'\n",
              "            + ' to learn more about interactive tables.';\n",
              "          element.innerHTML = '';\n",
              "          dataTable['output_type'] = 'display_data';\n",
              "          await google.colab.output.renderOutput(dataTable, element);\n",
              "          const docLink = document.createElement('div');\n",
              "          docLink.innerHTML = docLinkHtml;\n",
              "          element.appendChild(docLink);\n",
              "        }\n",
              "      </script>\n",
              "    </div>\n",
              "  </div>\n",
              "  "
            ]
          },
          "metadata": {},
          "execution_count": 54
        }
      ]
    },
    {
      "cell_type": "markdown",
      "source": [
        "<font size=3> Definimos el *'target'* como el sentimiento codificado y los *'features'* como la reseña vectorizada."
      ],
      "metadata": {
        "id": "_Xwg8McOpqUs"
      }
    },
    {
      "cell_type": "code",
      "source": [
        "y_train = data_train.sentiment_encoded\n",
        "y_test = data_test.sentiment_encoded"
      ],
      "metadata": {
        "id": "CMFkLrqfTzcP"
      },
      "execution_count": null,
      "outputs": []
    },
    {
      "cell_type": "code",
      "source": [
        "x_train = np.zeros((len(data_train),3))\n",
        "x_test = np.zeros((len(data_test),3))"
      ],
      "metadata": {
        "id": "H-y_xA_EUzOf"
      },
      "execution_count": null,
      "outputs": []
    },
    {
      "cell_type": "markdown",
      "source": [
        "<font size=3> Separamos la reseña vectorizada en cada una de sus entradas en los conjuntos de entrenamiento y prueba, y validamos."
      ],
      "metadata": {
        "id": "HFZR2jQFq5Vh"
      }
    },
    {
      "cell_type": "code",
      "source": [
        "x_train[:,0] = data_train.review_vectorized.map(lambda x: x[0,0]) \n",
        "x_train[:,1] = data_train.review_vectorized.map(lambda x: x[0,1]) \n",
        "x_train[:,2] = data_train.review_vectorized.map(lambda x: x[0,2]) "
      ],
      "metadata": {
        "id": "kDFPnLFkUzLw"
      },
      "execution_count": null,
      "outputs": []
    },
    {
      "cell_type": "code",
      "source": [
        "x_train[:5]"
      ],
      "metadata": {
        "id": "aHv6g9AhUy6q",
        "colab": {
          "base_uri": "https://localhost:8080/"
        },
        "outputId": "4dd2da70-1583-4d0f-e971-6b9c3d32f708"
      },
      "execution_count": null,
      "outputs": [
        {
          "output_type": "execute_result",
          "data": {
            "text/plain": [
              "array([[1.00000e+00, 2.67735e+05, 2.84534e+05],\n",
              "       [1.00000e+00, 7.38725e+05, 7.56284e+05],\n",
              "       [1.00000e+00, 1.32506e+05, 1.34226e+05],\n",
              "       [1.00000e+00, 2.31787e+05, 2.25605e+05],\n",
              "       [1.00000e+00, 3.00639e+05, 2.72523e+05]])"
            ]
          },
          "metadata": {},
          "execution_count": 58
        }
      ]
    },
    {
      "cell_type": "code",
      "source": [
        "x_test[:,0] = data_test.review_vectorized.map(lambda x: x[0,0]) \n",
        "x_test[:,1] = data_test.review_vectorized.map(lambda x: x[0,1]) \n",
        "x_test[:,2] = data_test.review_vectorized.map(lambda x: x[0,2]) "
      ],
      "metadata": {
        "id": "IkoeQl0yUy32"
      },
      "execution_count": null,
      "outputs": []
    },
    {
      "cell_type": "code",
      "source": [
        "print(' X_train : \\n\\n', x_train[:10,:])\n",
        "print('\\nY_train: \\n\\n', y_train[:10])"
      ],
      "metadata": {
        "id": "IEbDOKv60cDD",
        "colab": {
          "base_uri": "https://localhost:8080/"
        },
        "outputId": "429a0888-32ba-4c3d-e993-72280970d523"
      },
      "execution_count": null,
      "outputs": [
        {
          "output_type": "stream",
          "name": "stdout",
          "text": [
            " X_train : \n",
            "\n",
            " [[1.00000e+00 2.67735e+05 2.84534e+05]\n",
            " [1.00000e+00 7.38725e+05 7.56284e+05]\n",
            " [1.00000e+00 1.32506e+05 1.34226e+05]\n",
            " [1.00000e+00 2.31787e+05 2.25605e+05]\n",
            " [1.00000e+00 3.00639e+05 2.72523e+05]\n",
            " [1.00000e+00 8.55916e+05 9.20999e+05]\n",
            " [1.00000e+00 2.03628e+05 2.09215e+05]\n",
            " [1.00000e+00 4.48788e+05 4.13728e+05]\n",
            " [1.00000e+00 4.48154e+05 4.62988e+05]\n",
            " [1.00000e+00 5.95229e+05 5.84405e+05]]\n",
            "\n",
            "Y_train: \n",
            "\n",
            " 28763    1\n",
            "31760    1\n",
            "16002    0\n",
            "32249    1\n",
            "34400    1\n",
            "27380    1\n",
            "33900    1\n",
            "32844    1\n",
            "36087    1\n",
            "32380    1\n",
            "Name: sentiment_encoded, dtype: int64\n"
          ]
        }
      ]
    },
    {
      "cell_type": "markdown",
      "source": [
        "\n",
        "\n",
        "> Los pasos realizados, fuerón para preparar la información y que esta sea fácil de procesar al momento de entrenar\n",
        "\n"
      ],
      "metadata": {
        "id": "I1kn2mbl1BEi"
      }
    },
    {
      "cell_type": "markdown",
      "source": [
        "# <font size=6> Entrenamiento del Modelo\n",
        "\n",
        "<font size=3> Una vez finalizado el preprocesamiento, nos proponemos a crear el modelo. Dado que nuestro objetivo es predecir una clasificación binaria, ocuparemos el algoritmo de Regresión Logística."
      ],
      "metadata": {
        "id": "-zmxit4i2JIK"
      }
    },
    {
      "cell_type": "code",
      "source": [
        "# Importamos la regresión logística\n",
        "from sklearn.linear_model import LogisticRegression"
      ],
      "metadata": {
        "id": "QbpQQhf6TzZC"
      },
      "execution_count": null,
      "outputs": []
    },
    {
      "cell_type": "code",
      "source": [
        "# Definimos el modelo y sus hiperparámetros\n",
        "LR = LogisticRegression(C=0.1, solver='saga')"
      ],
      "metadata": {
        "id": "xnktovOwr1FY"
      },
      "execution_count": null,
      "outputs": []
    },
    {
      "cell_type": "code",
      "source": [
        "# Entrnamos el modelos\n",
        "LR.fit(x_train,y_train)"
      ],
      "metadata": {
        "id": "WzduMvdcjJQ2",
        "colab": {
          "base_uri": "https://localhost:8080/"
        },
        "outputId": "ad57a9a5-4f90-4582-f896-dafa87bc050b"
      },
      "execution_count": null,
      "outputs": [
        {
          "output_type": "execute_result",
          "data": {
            "text/plain": [
              "LogisticRegression(C=0.1, solver='saga')"
            ]
          },
          "metadata": {},
          "execution_count": 63
        }
      ]
    },
    {
      "cell_type": "code",
      "source": [],
      "metadata": {
        "id": "viZCbYJ6zW58"
      },
      "execution_count": null,
      "outputs": []
    },
    {
      "cell_type": "markdown",
      "source": [
        "# <font size=6> Evaluación del modelo\n",
        "\n",
        "<font size=3> Con el modelo entrenado, nos proponemos a realizar las predicciones y evaluar la eficacia del modelo."
      ],
      "metadata": {
        "id": "J5cyZFCHshpH"
      }
    },
    {
      "cell_type": "code",
      "source": [
        "# Importamos las métricas a usar\n",
        "from sklearn.metrics import confusion_matrix, classification_report, accuracy_score"
      ],
      "metadata": {
        "id": "uUkxQjOWs_sZ"
      },
      "execution_count": null,
      "outputs": []
    },
    {
      "cell_type": "code",
      "source": [
        "# Creamos las predicciones\n",
        "y_hat = LR.predict(x_test)"
      ],
      "metadata": {
        "id": "CMEWuNAyS4PO"
      },
      "execution_count": null,
      "outputs": []
    },
    {
      "cell_type": "markdown",
      "source": [
        "<font size=3> Empezamos midiendo la precisión del modelo para darnos una idea de su desempeño."
      ],
      "metadata": {
        "id": "0eYIsljwtH-W"
      }
    },
    {
      "cell_type": "code",
      "source": [
        "print('Precisión del modelo:\\t ',(accuracy_score(y_test, y_hat)))"
      ],
      "metadata": {
        "id": "Q0lnblhCSGXv",
        "colab": {
          "base_uri": "https://localhost:8080/"
        },
        "outputId": "5fd0205c-bf9a-44c7-d323-6a6f83150094"
      },
      "execution_count": null,
      "outputs": [
        {
          "output_type": "stream",
          "name": "stdout",
          "text": [
            "Precisión del modelo:\t  0.696\n"
          ]
        }
      ]
    },
    {
      "cell_type": "markdown",
      "source": [
        "<font size=3> Vemos que aproximadamente 70% de las reseñas las clasificó correctamente, lo cual consideramos como un desempeño regular.\n",
        "\n",
        "Creamos una matriz de confusión para visualizar las clasificaciones hechas y la cantidad de falsos positivos y falsos negativos."
      ],
      "metadata": {
        "id": "K-afBY0tfFHy"
      }
    },
    {
      "cell_type": "code",
      "source": [
        "cm = confusion_matrix(y_test, y_hat)\n",
        "fig = plt.figure(figsize=(12,8))\n",
        "sns.heatmap(cm, annot=True, cmap= plt.cm.Blues, cbar=False, fmt='g')\n",
        "plt.yticks([0.5,1.5], labels=list(data.sentiment.unique()), size=16)\n",
        "plt.xticks([0.5,1.5], labels=list(data.sentiment.unique()), size=16)\n",
        "plt.xlabel('Predicted', size=32)\n",
        "plt.ylabel('True', size=32)"
      ],
      "metadata": {
        "id": "xX0i_TZSSa36",
        "colab": {
          "base_uri": "https://localhost:8080/",
          "height": 541
        },
        "outputId": "8ee8593d-4856-4b12-f960-af7f7d7857ae"
      },
      "execution_count": null,
      "outputs": [
        {
          "output_type": "execute_result",
          "data": {
            "text/plain": [
              "Text(87.0, 0.5, 'True')"
            ]
          },
          "metadata": {},
          "execution_count": 67
        },
        {
          "output_type": "display_data",
          "data": {
            "text/plain": [
              "<Figure size 864x576 with 1 Axes>"
            ],
            "image/png": "[encoded data removed]"
          },
          "metadata": {
            "needs_background": "light"
          }
        }
      ]
    },
    {
      "cell_type": "markdown",
      "source": [
        "<font size=3> Por último, creamos el reporte con las diferentes métricas que nos enriquecen la información previamente visualizada."
      ],
      "metadata": {
        "id": "CfVtv8jqfpXj"
      }
    },
    {
      "cell_type": "code",
      "execution_count": null,
      "metadata": {
        "id": "AOHojXod0Hdk",
        "colab": {
          "base_uri": "https://localhost:8080/",
          "height": 174
        },
        "outputId": "8cd91207-c733-49c2-8170-8b381b64d823"
      },
      "outputs": [
        {
          "output_type": "execute_result",
          "data": {
            "text/plain": [
              "              negative     positive  accuracy     macro avg  weighted avg\n",
              "precision     0.703000     0.689000     0.696      0.696000      0.696098\n",
              "recall        0.693294     0.698783     0.696      0.696038      0.696000\n",
              "f1-score      0.698113     0.693857     0.696      0.695985      0.696015\n",
              "support    5070.000000  4930.000000     0.696  10000.000000  10000.000000"
            ],
            "text/html": [
              "\n",
              "  <div id=\"df-a1515d8c-1789-46cb-9f9d-086a874b7044\">\n",
              "    <div class=\"colab-df-container\">\n",
              "      <div>\n",
              "<style scoped>\n",
              "    .dataframe tbody tr th:only-of-type {\n",
              "        vertical-align: middle;\n",
              "    }\n",
              "\n",
              "    .dataframe tbody tr th {\n",
              "        vertical-align: top;\n",
              "    }\n",
              "\n",
              "    .dataframe thead th {\n",
              "        text-align: right;\n",
              "    }\n",
              "</style>\n",
              "<table border=\"1\" class=\"dataframe\">\n",
              "  <thead>\n",
              "    <tr style=\"text-align: right;\">\n",
              "      <th></th>\n",
              "      <th>negative</th>\n",
              "      <th>positive</th>\n",
              "      <th>accuracy</th>\n",
              "      <th>macro avg</th>\n",
              "      <th>weighted avg</th>\n",
              "    </tr>\n",
              "  </thead>\n",
              "  <tbody>\n",
              "    <tr>\n",
              "      <th>precision</th>\n",
              "      <td>0.703000</td>\n",
              "      <td>0.689000</td>\n",
              "      <td>0.696</td>\n",
              "      <td>0.696000</td>\n",
              "      <td>0.696098</td>\n",
              "    </tr>\n",
              "    <tr>\n",
              "      <th>recall</th>\n",
              "      <td>0.693294</td>\n",
              "      <td>0.698783</td>\n",
              "      <td>0.696</td>\n",
              "      <td>0.696038</td>\n",
              "      <td>0.696000</td>\n",
              "    </tr>\n",
              "    <tr>\n",
              "      <th>f1-score</th>\n",
              "      <td>0.698113</td>\n",
              "      <td>0.693857</td>\n",
              "      <td>0.696</td>\n",
              "      <td>0.695985</td>\n",
              "      <td>0.696015</td>\n",
              "    </tr>\n",
              "    <tr>\n",
              "      <th>support</th>\n",
              "      <td>5070.000000</td>\n",
              "      <td>4930.000000</td>\n",
              "      <td>0.696</td>\n",
              "      <td>10000.000000</td>\n",
              "      <td>10000.000000</td>\n",
              "    </tr>\n",
              "  </tbody>\n",
              "</table>\n",
              "</div>\n",
              "      <button class=\"colab-df-convert\" onclick=\"convertToInteractive('df-a1515d8c-1789-46cb-9f9d-086a874b7044')\"\n",
              "              title=\"Convert this dataframe to an interactive table.\"\n",
              "              style=\"display:none;\">\n",
              "        \n",
              "  <svg xmlns=\"http://www.w3.org/2000/svg\" height=\"24px\"viewBox=\"0 0 24 24\"\n",
              "       width=\"24px\">\n",
              "    <path d=\"M0 0h24v24H0V0z\" fill=\"none\"/>\n",
              "    <path d=\"M18.56 5.44l.94 2.06.94-2.06 2.06-.94-2.06-.94-.94-2.06-.94 2.06-2.06.94zm-11 1L8.5 8.5l.94-2.06 2.06-.94-2.06-.94L8.5 2.5l-.94 2.06-2.06.94zm10 10l.94 2.06.94-2.06 2.06-.94-2.06-.94-.94-2.06-.94 2.06-2.06.94z\"/><path d=\"M17.41 7.96l-1.37-1.37c-.4-.4-.92-.59-1.43-.59-.52 0-1.04.2-1.43.59L10.3 9.45l-7.72 7.72c-.78.78-.78 2.05 0 2.83L4 21.41c.39.39.9.59 1.41.59.51 0 1.02-.2 1.41-.59l7.78-7.78 2.81-2.81c.8-.78.8-2.07 0-2.86zM5.41 20L4 18.59l7.72-7.72 1.47 1.35L5.41 20z\"/>\n",
              "  </svg>\n",
              "      </button>\n",
              "      \n",
              "  <style>\n",
              "    .colab-df-container {\n",
              "      display:flex;\n",
              "      flex-wrap:wrap;\n",
              "      gap: 12px;\n",
              "    }\n",
              "\n",
              "    .colab-df-convert {\n",
              "      background-color: #E8F0FE;\n",
              "      border: none;\n",
              "      border-radius: 50%;\n",
              "      cursor: pointer;\n",
              "      display: none;\n",
              "      fill: #1967D2;\n",
              "      height: 32px;\n",
              "      padding: 0 0 0 0;\n",
              "      width: 32px;\n",
              "    }\n",
              "\n",
              "    .colab-df-convert:hover {\n",
              "      background-color: #E2EBFA;\n",
              "      box-shadow: 0px 1px 2px rgba(60, 64, 67, 0.3), 0px 1px 3px 1px rgba(60, 64, 67, 0.15);\n",
              "      fill: #174EA6;\n",
              "    }\n",
              "\n",
              "    [theme=dark] .colab-df-convert {\n",
              "      background-color: #3B4455;\n",
              "      fill: #D2E3FC;\n",
              "    }\n",
              "\n",
              "    [theme=dark] .colab-df-convert:hover {\n",
              "      background-color: #434B5C;\n",
              "      box-shadow: 0px 1px 3px 1px rgba(0, 0, 0, 0.15);\n",
              "      filter: drop-shadow(0px 1px 2px rgba(0, 0, 0, 0.3));\n",
              "      fill: #FFFFFF;\n",
              "    }\n",
              "  </style>\n",
              "\n",
              "      <script>\n",
              "        const buttonEl =\n",
              "          document.querySelector('#df-a1515d8c-1789-46cb-9f9d-086a874b7044 button.colab-df-convert');\n",
              "        buttonEl.style.display =\n",
              "          google.colab.kernel.accessAllowed ? 'block' : 'none';\n",
              "\n",
              "        async function convertToInteractive(key) {\n",
              "          const element = document.querySelector('#df-a1515d8c-1789-46cb-9f9d-086a874b7044');\n",
              "          const dataTable =\n",
              "            await google.colab.kernel.invokeFunction('convertToInteractive',\n",
              "                                                     [key], {});\n",
              "          if (!dataTable) return;\n",
              "\n",
              "          const docLinkHtml = 'Like what you see? Visit the ' +\n",
              "            '<a target=\"_blank\" href=https://colab.research.google.com/notebooks/data_table.ipynb>data table notebook</a>'\n",
              "            + ' to learn more about interactive tables.';\n",
              "          element.innerHTML = '';\n",
              "          dataTable['output_type'] = 'display_data';\n",
              "          await google.colab.output.renderOutput(dataTable, element);\n",
              "          const docLink = document.createElement('div');\n",
              "          docLink.innerHTML = docLinkHtml;\n",
              "          element.appendChild(docLink);\n",
              "        }\n",
              "      </script>\n",
              "    </div>\n",
              "  </div>\n",
              "  "
            ]
          },
          "metadata": {},
          "execution_count": 68
        }
      ],
      "source": [
        "report = pd.DataFrame(classification_report(y_hat, y_test, target_names= list(data.sentiment.unique()), output_dict=True))\n",
        "report"
      ]
    },
    {
      "cell_type": "markdown",
      "source": [
        "\n",
        "\n",
        "> Realizamos un entrenamiento supervisado el cúal nos dió una confianza al momento de realizar el análisis de los resultados cercano al 70 %\n",
        "\n"
      ],
      "metadata": {
        "id": "kagy-3-q4rUZ"
      }
    },
    {
      "cell_type": "markdown",
      "source": [
        "#  <font size=6> Visualización"
      ],
      "metadata": {
        "id": "qrIZfgoD7gSu"
      }
    },
    {
      "cell_type": "markdown",
      "source": [
        "Para tener una visualización mas gráficas de nuestra data decidimos realizar dos formas de visualizarlas\n",
        "\n",
        "Primero haremos un TreeMap con nuestros valores de reseñas negativas y positivas"
      ],
      "metadata": {
        "id": "HyozGaCTFZk7"
      }
    },
    {
      "cell_type": "code",
      "source": [
        "import plotly.express as px\n",
        "dataTree=pd.DataFrame(data.groupby('sentiment').count())#Realizamos la agrupación para obtener el total de Reviews\n",
        "dataTree['sentiment'] = dataTree.index #Convertimos nuestros indices en las etiquetas a usar\n",
        "fig = px.treemap(dataTree, path=['sentiment'], values='review', width=800, height=400)\n",
        "fig.data[0].textinfo='label+value'\n",
        "fig.layout.hovermode = False\n",
        "fig.show()\n"
      ],
      "metadata": {
        "id": "Zy_bhF98Fi_Z",
        "colab": {
          "base_uri": "https://localhost:8080/",
          "height": 416
        },
        "outputId": "b42be572-3552-4456-a86c-219f15e7304d"
      },
      "execution_count": null,
      "outputs": [
        {
          "output_type": "display_data",
          "data": {
            "text/html": [
              "<html>\n",
              "<head><meta charset=\"utf-8\" /></head>\n",
              "<body>\n",
              "    <div>            <script src=\"https://cdnjs.cloudflare.com/ajax/libs/mathjax/2.7.5/MathJax.js?config=TeX-AMS-MML_SVG\"></script><script type=\"text/javascript\">if (window.MathJax) {MathJax.Hub.Config({SVG: {font: \"STIX-Web\"}});}</script>                <script type=\"text/javascript\">window.PlotlyConfig = {MathJaxConfig: 'local'};</script>\n",
              "        <script src=\"https://cdn.plot.ly/plotly-2.8.3.min.js\"></script>                <div id=\"25c2a78c-e76f-4ae9-bad1-3d355b8c505a\" class=\"plotly-graph-div\" style=\"height:400px; width:800px;\"></div>            <script type=\"text/javascript\">                                    window.PLOTLYENV=window.PLOTLYENV || {};                                    if (document.getElementById(\"25c2a78c-e76f-4ae9-bad1-3d355b8c505a\")) {                    Plotly.newPlot(                        \"25c2a78c-e76f-4ae9-bad1-3d355b8c505a\",                        [{\"branchvalues\":\"total\",\"domain\":{\"x\":[0.0,1.0],\"y\":[0.0,1.0]},\"hovertemplate\":\"labels=%{label}<br>review=%{value}<br>parent=%{parent}<br>id=%{id}<extra></extra>\",\"ids\":[\"negative\",\"positive\"],\"labels\":[\"negative\",\"positive\"],\"name\":\"\",\"parents\":[\"\",\"\"],\"values\":[25000,25000],\"type\":\"treemap\",\"textinfo\":\"label+value\"}],                        {\"template\":{\"data\":{\"bar\":[{\"error_x\":{\"color\":\"#2a3f5f\"},\"error_y\":{\"color\":\"#2a3f5f\"},\"marker\":{\"line\":{\"color\":\"#E5ECF6\",\"width\":0.5},\"pattern\":{\"fillmode\":\"overlay\",\"size\":10,\"solidity\":0.2}},\"type\":\"bar\"}],\"barpolar\":[{\"marker\":{\"line\":{\"color\":\"#E5ECF6\",\"width\":0.5},\"pattern\":{\"fillmode\":\"overlay\",\"size\":10,\"solidity\":0.2}},\"type\":\"barpolar\"}],\"carpet\":[{\"aaxis\":{\"endlinecolor\":\"#2a3f5f\",\"gridcolor\":\"white\",\"linecolor\":\"white\",\"minorgridcolor\":\"white\",\"startlinecolor\":\"#2a3f5f\"},\"baxis\":{\"endlinecolor\":\"#2a3f5f\",\"gridcolor\":\"white\",\"linecolor\":\"white\",\"minorgridcolor\":\"white\",\"startlinecolor\":\"#2a3f5f\"},\"type\":\"carpet\"}],\"choropleth\":[{\"colorbar\":{\"outlinewidth\":0,\"ticks\":\"\"},\"type\":\"choropleth\"}],\"contour\":[{\"colorbar\":{\"outlinewidth\":0,\"ticks\":\"\"},\"colorscale\":[[0.0,\"#0d0887\"],[0.1111111111111111,\"#46039f\"],[0.2222222222222222,\"#7201a8\"],[0.3333333333333333,\"#9c179e\"],[0.4444444444444444,\"#bd3786\"],[0.5555555555555556,\"#d8576b\"],[0.6666666666666666,\"#ed7953\"],[0.7777777777777778,\"#fb9f3a\"],[0.8888888888888888,\"#fdca26\"],[1.0,\"#f0f921\"]],\"type\":\"contour\"}],\"contourcarpet\":[{\"colorbar\":{\"outlinewidth\":0,\"ticks\":\"\"},\"type\":\"contourcarpet\"}],\"heatmap\":[{\"colorbar\":{\"outlinewidth\":0,\"ticks\":\"\"},\"colorscale\":[[0.0,\"#0d0887\"],[0.1111111111111111,\"#46039f\"],[0.2222222222222222,\"#7201a8\"],[0.3333333333333333,\"#9c179e\"],[0.4444444444444444,\"#bd3786\"],[0.5555555555555556,\"#d8576b\"],[0.6666666666666666,\"#ed7953\"],[0.7777777777777778,\"#fb9f3a\"],[0.8888888888888888,\"#fdca26\"],[1.0,\"#f0f921\"]],\"type\":\"heatmap\"}],\"heatmapgl\":[{\"colorbar\":{\"outlinewidth\":0,\"ticks\":\"\"},\"colorscale\":[[0.0,\"#0d0887\"],[0.1111111111111111,\"#46039f\"],[0.2222222222222222,\"#7201a8\"],[0.3333333333333333,\"#9c179e\"],[0.4444444444444444,\"#bd3786\"],[0.5555555555555556,\"#d8576b\"],[0.6666666666666666,\"#ed7953\"],[0.7777777777777778,\"#fb9f3a\"],[0.8888888888888888,\"#fdca26\"],[1.0,\"#f0f921\"]],\"type\":\"heatmapgl\"}],\"histogram\":[{\"marker\":{\"pattern\":{\"fillmode\":\"overlay\",\"size\":10,\"solidity\":0.2}},\"type\":\"histogram\"}],\"histogram2d\":[{\"colorbar\":{\"outlinewidth\":0,\"ticks\":\"\"},\"colorscale\":[[0.0,\"#0d0887\"],[0.1111111111111111,\"#46039f\"],[0.2222222222222222,\"#7201a8\"],[0.3333333333333333,\"#9c179e\"],[0.4444444444444444,\"#bd3786\"],[0.5555555555555556,\"#d8576b\"],[0.6666666666666666,\"#ed7953\"],[0.7777777777777778,\"#fb9f3a\"],[0.8888888888888888,\"#fdca26\"],[1.0,\"#f0f921\"]],\"type\":\"histogram2d\"}],\"histogram2dcontour\":[{\"colorbar\":{\"outlinewidth\":0,\"ticks\":\"\"},\"colorscale\":[[0.0,\"#0d0887\"],[0.1111111111111111,\"#46039f\"],[0.2222222222222222,\"#7201a8\"],[0.3333333333333333,\"#9c179e\"],[0.4444444444444444,\"#bd3786\"],[0.5555555555555556,\"#d8576b\"],[0.6666666666666666,\"#ed7953\"],[0.7777777777777778,\"#fb9f3a\"],[0.8888888888888888,\"#fdca26\"],[1.0,\"#f0f921\"]],\"type\":\"histogram2dcontour\"}],\"mesh3d\":[{\"colorbar\":{\"outlinewidth\":0,\"ticks\":\"\"},\"type\":\"mesh3d\"}],\"parcoords\":[{\"line\":{\"colorbar\":{\"outlinewidth\":0,\"ticks\":\"\"}},\"type\":\"parcoords\"}],\"pie\":[{\"automargin\":true,\"type\":\"pie\"}],\"scatter\":[{\"marker\":{\"colorbar\":{\"outlinewidth\":0,\"ticks\":\"\"}},\"type\":\"scatter\"}],\"scatter3d\":[{\"line\":{\"colorbar\":{\"outlinewidth\":0,\"ticks\":\"\"}},\"marker\":{\"colorbar\":{\"outlinewidth\":0,\"ticks\":\"\"}},\"type\":\"scatter3d\"}],\"scattercarpet\":[{\"marker\":{\"colorbar\":{\"outlinewidth\":0,\"ticks\":\"\"}},\"type\":\"scattercarpet\"}],\"scattergeo\":[{\"marker\":{\"colorbar\":{\"outlinewidth\":0,\"ticks\":\"\"}},\"type\":\"scattergeo\"}],\"scattergl\":[{\"marker\":{\"colorbar\":{\"outlinewidth\":0,\"ticks\":\"\"}},\"type\":\"scattergl\"}],\"scattermapbox\":[{\"marker\":{\"colorbar\":{\"outlinewidth\":0,\"ticks\":\"\"}},\"type\":\"scattermapbox\"}],\"scatterpolar\":[{\"marker\":{\"colorbar\":{\"outlinewidth\":0,\"ticks\":\"\"}},\"type\":\"scatterpolar\"}],\"scatterpolargl\":[{\"marker\":{\"colorbar\":{\"outlinewidth\":0,\"ticks\":\"\"}},\"type\":\"scatterpolargl\"}],\"scatterternary\":[{\"marker\":{\"colorbar\":{\"outlinewidth\":0,\"ticks\":\"\"}},\"type\":\"scatterternary\"}],\"surface\":[{\"colorbar\":{\"outlinewidth\":0,\"ticks\":\"\"},\"colorscale\":[[0.0,\"#0d0887\"],[0.1111111111111111,\"#46039f\"],[0.2222222222222222,\"#7201a8\"],[0.3333333333333333,\"#9c179e\"],[0.4444444444444444,\"#bd3786\"],[0.5555555555555556,\"#d8576b\"],[0.6666666666666666,\"#ed7953\"],[0.7777777777777778,\"#fb9f3a\"],[0.8888888888888888,\"#fdca26\"],[1.0,\"#f0f921\"]],\"type\":\"surface\"}],\"table\":[{\"cells\":{\"fill\":{\"color\":\"#EBF0F8\"},\"line\":{\"color\":\"white\"}},\"header\":{\"fill\":{\"color\":\"#C8D4E3\"},\"line\":{\"color\":\"white\"}},\"type\":\"table\"}]},\"layout\":{\"annotationdefaults\":{\"arrowcolor\":\"#2a3f5f\",\"arrowhead\":0,\"arrowwidth\":1},\"autotypenumbers\":\"strict\",\"coloraxis\":{\"colorbar\":{\"outlinewidth\":0,\"ticks\":\"\"}},\"colorscale\":{\"diverging\":[[0,\"#8e0152\"],[0.1,\"#c51b7d\"],[0.2,\"#de77ae\"],[0.3,\"#f1b6da\"],[0.4,\"#fde0ef\"],[0.5,\"#f7f7f7\"],[0.6,\"#e6f5d0\"],[0.7,\"#b8e186\"],[0.8,\"#7fbc41\"],[0.9,\"#4d9221\"],[1,\"#276419\"]],\"sequential\":[[0.0,\"#0d0887\"],[0.1111111111111111,\"#46039f\"],[0.2222222222222222,\"#7201a8\"],[0.3333333333333333,\"#9c179e\"],[0.4444444444444444,\"#bd3786\"],[0.5555555555555556,\"#d8576b\"],[0.6666666666666666,\"#ed7953\"],[0.7777777777777778,\"#fb9f3a\"],[0.8888888888888888,\"#fdca26\"],[1.0,\"#f0f921\"]],\"sequentialminus\":[[0.0,\"#0d0887\"],[0.1111111111111111,\"#46039f\"],[0.2222222222222222,\"#7201a8\"],[0.3333333333333333,\"#9c179e\"],[0.4444444444444444,\"#bd3786\"],[0.5555555555555556,\"#d8576b\"],[0.6666666666666666,\"#ed7953\"],[0.7777777777777778,\"#fb9f3a\"],[0.8888888888888888,\"#fdca26\"],[1.0,\"#f0f921\"]]},\"colorway\":[\"#636efa\",\"#EF553B\",\"#00cc96\",\"#ab63fa\",\"#FFA15A\",\"#19d3f3\",\"#FF6692\",\"#B6E880\",\"#FF97FF\",\"#FECB52\"],\"font\":{\"color\":\"#2a3f5f\"},\"geo\":{\"bgcolor\":\"white\",\"lakecolor\":\"white\",\"landcolor\":\"#E5ECF6\",\"showlakes\":true,\"showland\":true,\"subunitcolor\":\"white\"},\"hoverlabel\":{\"align\":\"left\"},\"hovermode\":\"closest\",\"mapbox\":{\"style\":\"light\"},\"paper_bgcolor\":\"white\",\"plot_bgcolor\":\"#E5ECF6\",\"polar\":{\"angularaxis\":{\"gridcolor\":\"white\",\"linecolor\":\"white\",\"ticks\":\"\"},\"bgcolor\":\"#E5ECF6\",\"radialaxis\":{\"gridcolor\":\"white\",\"linecolor\":\"white\",\"ticks\":\"\"}},\"scene\":{\"xaxis\":{\"backgroundcolor\":\"#E5ECF6\",\"gridcolor\":\"white\",\"gridwidth\":2,\"linecolor\":\"white\",\"showbackground\":true,\"ticks\":\"\",\"zerolinecolor\":\"white\"},\"yaxis\":{\"backgroundcolor\":\"#E5ECF6\",\"gridcolor\":\"white\",\"gridwidth\":2,\"linecolor\":\"white\",\"showbackground\":true,\"ticks\":\"\",\"zerolinecolor\":\"white\"},\"zaxis\":{\"backgroundcolor\":\"#E5ECF6\",\"gridcolor\":\"white\",\"gridwidth\":2,\"linecolor\":\"white\",\"showbackground\":true,\"ticks\":\"\",\"zerolinecolor\":\"white\"}},\"shapedefaults\":{\"line\":{\"color\":\"#2a3f5f\"}},\"ternary\":{\"aaxis\":{\"gridcolor\":\"white\",\"linecolor\":\"white\",\"ticks\":\"\"},\"baxis\":{\"gridcolor\":\"white\",\"linecolor\":\"white\",\"ticks\":\"\"},\"bgcolor\":\"#E5ECF6\",\"caxis\":{\"gridcolor\":\"white\",\"linecolor\":\"white\",\"ticks\":\"\"}},\"title\":{\"x\":0.05},\"xaxis\":{\"automargin\":true,\"gridcolor\":\"white\",\"linecolor\":\"white\",\"ticks\":\"\",\"title\":{\"standoff\":15},\"zerolinecolor\":\"white\",\"zerolinewidth\":2},\"yaxis\":{\"automargin\":true,\"gridcolor\":\"white\",\"linecolor\":\"white\",\"ticks\":\"\",\"title\":{\"standoff\":15},\"zerolinecolor\":\"white\",\"zerolinewidth\":2}}},\"legend\":{\"tracegroupgap\":0},\"margin\":{\"t\":60},\"height\":400,\"width\":800,\"hovermode\":false},                        {\"responsive\": true}                    ).then(function(){\n",
              "                            \n",
              "var gd = document.getElementById('25c2a78c-e76f-4ae9-bad1-3d355b8c505a');\n",
              "var x = new MutationObserver(function (mutations, observer) {{\n",
              "        var display = window.getComputedStyle(gd).display;\n",
              "        if (!display || display === 'none') {{\n",
              "            console.log([gd, 'removed!']);\n",
              "            Plotly.purge(gd);\n",
              "            observer.disconnect();\n",
              "        }}\n",
              "}});\n",
              "\n",
              "// Listen for the removal of the full notebook cells\n",
              "var notebookContainer = gd.closest('#notebook-container');\n",
              "if (notebookContainer) {{\n",
              "    x.observe(notebookContainer, {childList: true});\n",
              "}}\n",
              "\n",
              "// Listen for the clearing of the current output cell\n",
              "var outputEl = gd.closest('.output');\n",
              "if (outputEl) {{\n",
              "    x.observe(outputEl, {childList: true});\n",
              "}}\n",
              "\n",
              "                        })                };                            </script>        </div>\n",
              "</body>\n",
              "</html>"
            ]
          },
          "metadata": {}
        }
      ]
    },
    {
      "cell_type": "markdown",
      "source": [
        "Cómo lo mencionamos Previamente nuestra Reviews contienen el mismo numero de posigivas y Negativas. Lo cuál es más fácil de visualizar con el Gráfico\n",
        "\n",
        "La siguiente será un \"WordCloud\", con la cual podremos identificar de manéra gráfica las palabras mas usadas"
      ],
      "metadata": {
        "id": "0ZU9x0KA7oOZ"
      }
    },
    {
      "cell_type": "code",
      "source": [
        "from wordcloud import WordCloud\n",
        "wordcloud = WordCloud(colormap='winter')\n",
        "neg_words = neg_rev.review_clean.apply(lambda x: ' '.join(x))\n",
        "pos_words = pos_rev.review_clean.apply(lambda x: ' '.join(x))\n"
      ],
      "metadata": {
        "id": "IF7YIjptOb6l"
      },
      "execution_count": null,
      "outputs": []
    },
    {
      "cell_type": "markdown",
      "source": [
        "Valoraciones Negativas"
      ],
      "metadata": {
        "id": "AA3Uzn3GSdWL"
      }
    },
    {
      "cell_type": "code",
      "source": [
        "wordcloud.generate(str(neg_words))\n",
        "plt.imshow(wordcloud, interpolation ='bilinear')\n",
        "plt.axis('off')"
      ],
      "metadata": {
        "id": "MtSqSgEBOb32",
        "colab": {
          "base_uri": "https://localhost:8080/",
          "height": 216
        },
        "outputId": "a6fc79ec-dac1-4a57-8ac8-f52e862391fd"
      },
      "execution_count": null,
      "outputs": [
        {
          "output_type": "execute_result",
          "data": {
            "text/plain": [
              "(-0.5, 399.5, 199.5, -0.5)"
            ]
          },
          "metadata": {},
          "execution_count": 167
        },
        {
          "output_type": "display_data",
          "data": {
            "text/plain": [
              "<Figure size 432x288 with 1 Axes>"
            ],
            "image/png": "[encoded data removed]"
          },
          "metadata": {
            "needs_background": "light"
          }
        }
      ]
    },
    {
      "cell_type": "markdown",
      "source": [
        "Valoraciones Positivas"
      ],
      "metadata": {
        "id": "VITRPzskSZXk"
      }
    },
    {
      "cell_type": "code",
      "source": [
        "wordcloud = WordCloud(colormap='autumn')\n",
        "wordcloud.generate(str(pos_words))\n",
        "plt.imshow(wordcloud, interpolation='bilinear')\n",
        "plt.axis('off')"
      ],
      "metadata": {
        "id": "hIXuo1IqOa4m",
        "colab": {
          "base_uri": "https://localhost:8080/",
          "height": 216
        },
        "outputId": "843c6c18-f996-4dbe-879d-07fe6be0a3c9"
      },
      "execution_count": null,
      "outputs": [
        {
          "output_type": "execute_result",
          "data": {
            "text/plain": [
              "(-0.5, 399.5, 199.5, -0.5)"
            ]
          },
          "metadata": {},
          "execution_count": 168
        },
        {
          "output_type": "display_data",
          "data": {
            "text/plain": [
              "<Figure size 432x288 with 1 Axes>"
            ],
            "image/png": "[encoded data removed]"
          },
          "metadata": {
            "needs_background": "light"
          }
        }
      ]
    },
    {
      "cell_type": "markdown",
      "source": [
        "Con esta última Visualización podemos se logra ver que las palabras mas usadas en conmentarios negativos son Bad y Film.\n",
        "\n",
        "Mientras que de las valoraciones positivas Son Wonder, Right y Love"
      ],
      "metadata": {
        "id": "Hq89uGpzR5mI"
      }
    }
  ]
}